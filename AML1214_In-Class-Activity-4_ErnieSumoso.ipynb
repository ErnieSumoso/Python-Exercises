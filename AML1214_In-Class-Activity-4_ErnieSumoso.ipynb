{
 "cells": [
  {
   "cell_type": "code",
   "execution_count": 10,
   "id": "692cd4e3-8f73-4dd5-bfda-c0d02e5b6de6",
   "metadata": {
    "tags": []
   },
   "outputs": [
    {
     "name": "stdout",
     "output_type": "stream",
     "text": [
      "Dear Neil Amstrong, you are invited for dinner today! Please come\n",
      "Dear Attila the Hun, you are invited for dinner today! Please come\n",
      "Dear Gengis Khan, you are invited for dinner today! Please come\n"
     ]
    }
   ],
   "source": [
    "# 3.4 Guest List\n",
    "lst = ['Neil Amstrong', 'Attila the Hun', 'Gengis Khan']\n",
    "for name in lst:\n",
    "    print(f\"Dear {name}, you are invited for dinner today! Please come\")"
   ]
  },
  {
   "cell_type": "code",
   "execution_count": 13,
   "id": "75dfd2f3-f81c-43f5-8167-9faeaf5a4cba",
   "metadata": {
    "tags": []
   },
   "outputs": [
    {
     "name": "stdout",
     "output_type": "stream",
     "text": [
      "Dear Neil Amstrong, you are invited for dinner today! Please come\n",
      "Dear Attila the Hun, you are invited for dinner today! Please come\n",
      "Dear Gengis Khan, you are invited for dinner today! Please come\n",
      "Neil Amstrong is not comming !!!\n",
      "Dear Kurt Cobain, you are invited for dinner today! Please come\n",
      "Dear Attila the Hun, you are invited for dinner today! Please come\n",
      "Dear Gengis Khan, you are invited for dinner today! Please come\n"
     ]
    }
   ],
   "source": [
    "# 3.5 Changing Guest List\n",
    "lst = ['Neil Amstrong', 'Attila the Hun', 'Gengis Khan']\n",
    "for name in lst:\n",
    "    print(f\"Dear {name}, you are invited for dinner today! Please come\")\n",
    "print(lst[0] + ' is not comming !!!')\n",
    "lst[0] = 'Kurt Cobain'\n",
    "for name in lst:\n",
    "    print(f\"Dear {name}, you are invited for dinner today! Please come\")"
   ]
  },
  {
   "cell_type": "code",
   "execution_count": 20,
   "id": "79ccc337-27f3-4beb-90e8-86bff7f3ab4d",
   "metadata": {
    "tags": []
   },
   "outputs": [
    {
     "name": "stdout",
     "output_type": "stream",
     "text": [
      "Dear Neil Amstrong, you are invited for dinner today! Please come\n",
      "Dear Attila the Hun, you are invited for dinner today! Please come\n",
      "Dear Gengis Khan, you are invited for dinner today! Please come\n",
      "Actually I found a bigger dinner table!!!\n",
      "Dear Albert Einstein, you are invited for dinner today! Please come\n",
      "Dear Neil Amstrong, you are invited for dinner today! Please come\n",
      "Dear Isaac Newton, you are invited for dinner today! Please come\n",
      "Dear Attila the Hun, you are invited for dinner today! Please come\n",
      "Dear Gengis Khan, you are invited for dinner today! Please come\n",
      "Dear Miguel Grau, you are invited for dinner today! Please come\n"
     ]
    }
   ],
   "source": [
    "# 3.6 More Guests\n",
    "lst = ['Neil Amstrong', 'Attila the Hun', 'Gengis Khan']\n",
    "for person in lst:\n",
    "    print(f\"Dear {person}, you are invited for dinner today! Please come\")\n",
    "print('Actually I found a bigger dinner table!!!')\n",
    "lst.insert(0, 'Albert Einstein')\n",
    "lst.insert(len(lst)//2, 'Isaac Newton')\n",
    "lst.append('Miguel Grau')\n",
    "for person in lst:\n",
    "    print(f\"Dear {person}, you are invited for dinner today! Please come\")"
   ]
  },
  {
   "cell_type": "code",
   "execution_count": 26,
   "id": "2781ff5a-b957-4eac-b6ef-50659ed897f1",
   "metadata": {
    "tags": []
   },
   "outputs": [
    {
     "name": "stdout",
     "output_type": "stream",
     "text": [
      "Actually the dinner table won't be ready\n",
      "I am really sorry, Miguel Grau you can't come to the dinner.\n",
      "I am really sorry, Gengis Khan you can't come to the dinner.\n",
      "I am really sorry, Attila the Hun you can't come to the dinner.\n",
      "I am really sorry, Isaac Newton you can't come to the dinner.\n",
      "Dear Albert Einstein, you are invited for dinner today! Please come\n",
      "Dear Neil Amstrong, you are invited for dinner today! Please come\n",
      "[]\n"
     ]
    }
   ],
   "source": [
    "# 3.7 Shrinking Guest List\n",
    "lst = ['Neil Amstrong', 'Attila the Hun', 'Gengis Khan']\n",
    "lst.insert(0, 'Albert Einstein')\n",
    "lst.insert(len(lst)//2, 'Isaac Newton')\n",
    "lst.append('Miguel Grau')\n",
    "print(\"Actually the dinner table won't be ready\")\n",
    "for i in range(4):\n",
    "    print(f\"I am really sorry, {lst.pop()} you can't come to the dinner.\")\n",
    "\n",
    "for name in lst:\n",
    "    print(f\"Dear {name}, you are invited for dinner today! Please come\")\n",
    "    \n",
    "for i in range(2):\n",
    "    del lst[0]\n",
    "\n",
    "print(lst)"
   ]
  },
  {
   "cell_type": "code",
   "execution_count": 35,
   "id": "edc7d0b5-e3c1-4cd2-bec4-31a3ebffaf25",
   "metadata": {
    "tags": []
   },
   "outputs": [
    {
     "name": "stdout",
     "output_type": "stream",
     "text": [
      "['Monaco', 'Moscow', 'Las Vegas', 'Tokyo', 'Dubai']\n",
      "['Dubai', 'Las Vegas', 'Monaco', 'Moscow', 'Tokyo']\n",
      "['Monaco', 'Moscow', 'Las Vegas', 'Tokyo', 'Dubai']\n",
      "['Tokyo', 'Moscow', 'Monaco', 'Las Vegas', 'Dubai']\n",
      "['Monaco', 'Moscow', 'Las Vegas', 'Tokyo', 'Dubai']\n",
      "['Dubai', 'Tokyo', 'Las Vegas', 'Moscow', 'Monaco']\n",
      "['Monaco', 'Moscow', 'Las Vegas', 'Tokyo', 'Dubai']\n",
      "['Dubai', 'Las Vegas', 'Monaco', 'Moscow', 'Tokyo']\n",
      "['Tokyo', 'Moscow', 'Monaco', 'Las Vegas', 'Dubai']\n"
     ]
    }
   ],
   "source": [
    "# 3.8 Seeing the World\n",
    "places = ['Monaco', 'Moscow', 'Las Vegas', 'Tokyo', 'Dubai']\n",
    "print(places)\n",
    "print(sorted(places))\n",
    "print(places)\n",
    "print(sorted(places, reverse=True))\n",
    "print(places)\n",
    "places.reverse()\n",
    "print(places)\n",
    "places.reverse()\n",
    "print(places)\n",
    "places.sort()\n",
    "print(places)\n",
    "places.sort(reverse=True)\n",
    "print(places)"
   ]
  },
  {
   "cell_type": "code",
   "execution_count": 36,
   "id": "7709cdb1-575b-4fe4-ac8e-a0ae07e473bd",
   "metadata": {
    "tags": []
   },
   "outputs": [
    {
     "name": "stdout",
     "output_type": "stream",
     "text": [
      "Dear Neil Amstrong, you are invited for dinner today! Please come\n",
      "Dear Attila the Hun, you are invited for dinner today! Please come\n",
      "Dear Gengis Khan, you are invited for dinner today! Please come\n",
      "So today I'm inviting 3 people !!\n"
     ]
    }
   ],
   "source": [
    "# 3.9 Dinner Guests\n",
    "\n",
    "lst = ['Neil Amstrong', 'Attila the Hun', 'Gengis Khan']\n",
    "for name in lst:\n",
    "    print(f\"Dear {name}, you are invited for dinner today! Please come\")\n",
    "    \n",
    "print(f\"So today I'm inviting {len(lst)} people !!\")"
   ]
  },
  {
   "cell_type": "code",
   "execution_count": 50,
   "id": "bcc7c497-c884-4cbb-98c9-0f6bd89eaf05",
   "metadata": {
    "tags": []
   },
   "outputs": [
    {
     "name": "stdout",
     "output_type": "stream",
     "text": [
      "The fruits are:\n",
      "- orange\n",
      "- apple\n",
      "We pop 1 fruit\n",
      "We now have 1 fruit in the list\n",
      "We added more fruits\n",
      "['orange', 'banana', 'strawberry', 'grapes']\n",
      "['banana', 'grapes', 'orange', 'strawberry']\n",
      "['strawberry', 'orange', 'grapes', 'banana']\n",
      "['banana', 'grapes', 'orange', 'strawberry']\n",
      "['strawberry', 'orange', 'grapes', 'banana']\n"
     ]
    }
   ],
   "source": [
    "# 3.10 Every Function\n",
    "fruits = []\n",
    "fruits.insert(0, 'orange')\n",
    "fruits.append('apple')\n",
    "print(\"The fruits are:\")\n",
    "for fruit in fruits:\n",
    "    print(f\"- {fruit}\")\n",
    "print(\"We pop 1 fruit\")\n",
    "fruits.pop() # I don't like apples\n",
    "print(f\"We now have {len(fruits)} fruit in the list\")\n",
    "fruits.append(\"banana\")\n",
    "fruits.insert(2,\"grapes\")\n",
    "fruits.insert(-1, \"strawberry\")\n",
    "print(\"We added more fruits\")\n",
    "print(fruits)\n",
    "fruits.sort()\n",
    "print(fruits)\n",
    "fruits.reverse()\n",
    "print(fruits)\n",
    "\n",
    "print(sorted(fruits))\n",
    "print(sorted(fruits, reverse=True))"
   ]
  },
  {
   "cell_type": "code",
   "execution_count": null,
   "id": "3f7bec9c-623f-497f-a9e9-f6bceede4d74",
   "metadata": {},
   "outputs": [],
   "source": []
  }
 ],
 "metadata": {
  "kernelspec": {
   "display_name": "Python 3 (ipykernel)",
   "language": "python",
   "name": "python3"
  },
  "language_info": {
   "codemirror_mode": {
    "name": "ipython",
    "version": 3
   },
   "file_extension": ".py",
   "mimetype": "text/x-python",
   "name": "python",
   "nbconvert_exporter": "python",
   "pygments_lexer": "ipython3",
   "version": "3.11.4"
  }
 },
 "nbformat": 4,
 "nbformat_minor": 5
}
