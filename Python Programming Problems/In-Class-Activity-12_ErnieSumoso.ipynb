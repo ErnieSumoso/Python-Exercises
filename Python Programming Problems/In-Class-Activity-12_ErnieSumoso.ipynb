{
 "cells": [
  {
   "cell_type": "markdown",
   "id": "c492f4ac-9b66-491d-a849-fcf863a00834",
   "metadata": {},
   "source": [
    "# In Class Activity 12\n",
    "\n",
    "# Ernie Sumoso Vicuna\n",
    "# Student ID: 881591"
   ]
  },
  {
   "cell_type": "code",
   "execution_count": 3,
   "id": "2051484b-b6e7-462d-890f-399cf0c4c43b",
   "metadata": {
    "tags": []
   },
   "outputs": [
    {
     "name": "stdout",
     "output_type": "stream",
     "text": [
      "Osmows\n",
      "Chicken\n",
      "The restaurant is named 'Osmows' with a cuisine type of 'Chicken'\n",
      "The restaurant is opened\n"
     ]
    }
   ],
   "source": [
    "# 9.1 Restaurant\n",
    "\n",
    "class Restaurant():\n",
    "    def __init__(self, restaurant_name, cuisine_type):\n",
    "        self.restaurant_name = restaurant_name\n",
    "        self.cuisine_type = cuisine_type\n",
    "    \n",
    "    def describe_restaurant(self):\n",
    "        print(f\"The restaurant is named '{self.restaurant_name}' with a cuisine type of '{self.cuisine_type}'\")\n",
    "        \n",
    "    def open_restaurant(self):\n",
    "        print(f\"The restaurant is opened\")\n",
    "\n",
    "rest_1 = Restaurant(\"Osmows\", \"Chicken\")\n",
    "print(rest_1.restaurant_name)\n",
    "print(rest_1.cuisine_type)\n",
    "rest_1.describe_restaurant()\n",
    "rest_1.open_restaurant()"
   ]
  },
  {
   "cell_type": "code",
   "execution_count": 4,
   "id": "d9e56931-67e2-47a4-a921-5ec1a5549a84",
   "metadata": {
    "tags": []
   },
   "outputs": [
    {
     "name": "stdout",
     "output_type": "stream",
     "text": [
      "The restaurant is named 'Popeyes' with a cuisine type of 'Spicy Chicken'\n",
      "The restaurant is named 'Ohashi' with a cuisine type of 'Sushi'\n",
      "The restaurant is named 'Mcdonalds' with a cuisine type of 'Fast Food'\n"
     ]
    }
   ],
   "source": [
    "# 9.2 Three Restaurants\n",
    "\n",
    "rest_1 = Restaurant(\"Popeyes\", \"Spicy Chicken\")\n",
    "rest_2 = Restaurant(\"Ohashi\", \"Sushi\")\n",
    "rest_3 = Restaurant(\"Mcdonalds\", \"Fast Food\")\n",
    "\n",
    "rest_1.describe_restaurant()\n",
    "rest_2.describe_restaurant()\n",
    "rest_3.describe_restaurant()"
   ]
  },
  {
   "cell_type": "code",
   "execution_count": 7,
   "id": "de284351-a5b0-41c8-9eeb-d6cf43565fd0",
   "metadata": {
    "tags": []
   },
   "outputs": [
    {
     "name": "stdout",
     "output_type": "stream",
     "text": [
      "Hello user named: 'Ernie Sumoso'; with sex: 'M', and age: '23'\n",
      "Hello user named: 'Renato Gonzales'; with sex: 'F', and age: '32'\n"
     ]
    }
   ],
   "source": [
    "# 9.3 Users\n",
    "class User:\n",
    "    \n",
    "    def __init__(self, first_name, last_name, sex, age):\n",
    "        self.first_name = first_name\n",
    "        self.last_name = last_name\n",
    "        self.sex = sex\n",
    "        self.age = age\n",
    "    \n",
    "    def greet_user(self):\n",
    "        print(f\"Hello user named: '{self.first_name} {self.last_name}'; with sex: '{self.sex}', and age: '{self.age}'\")\n",
    "        \n",
    "\n",
    "user_1 = User(\"Ernie\", \"Sumoso\", \"M\", 23)\n",
    "user_2 = User(\"Renato\", \"Gonzales\", \"F\", 32)\n",
    "\n",
    "user_1.greet_user()\n",
    "user_2.greet_user()"
   ]
  },
  {
   "cell_type": "code",
   "execution_count": 11,
   "id": "49233a0a-181b-4b34-883b-3c8ee369e49b",
   "metadata": {
    "tags": []
   },
   "outputs": [
    {
     "name": "stdout",
     "output_type": "stream",
     "text": [
      "2019 Audi A4\n",
      "This car has 0 miles onit.\n",
      "This car has 50 miles onit.\n",
      "This car has 10050 miles onit.\n"
     ]
    }
   ],
   "source": [
    "# 4. odometer method\n",
    "class Car:\n",
    "    def __init__(self, make, model, year):\n",
    "        \"\"\"Initialize attributes to describe a car.\"\"\"\n",
    "        self.make = make\n",
    "        self.model = model\n",
    "        self.year = year\n",
    "        self.odometer_reading = 0\n",
    "    \n",
    "    def get_descriptive_name(self):\n",
    "        \"\"\"Return a neatly formatted descriptive name.\"\"\"\n",
    "        long_name = f\"{self.year} {self.make} {self.model}\"\n",
    "        return long_name.title() # titleCased value\n",
    "    \n",
    "    def read_odometer(self):\n",
    "        \"\"\"Print a statement showing the car's mileage.\"\"\"\n",
    "        print(f\"This car has {self.odometer_reading} miles onit.\")\n",
    "\n",
    "    # I added this method\n",
    "    def update_odometer(self, miles):\n",
    "        self.odometer_reading += miles\n",
    "        \n",
    "my_new_car = Car('audi', 'a4', 2019)\n",
    "print(my_new_car.get_descriptive_name())\n",
    "my_new_car.read_odometer()\n",
    "## Now let's assume that care has been used for 50 miles\n",
    "my_new_car.odometer_reading = 50\n",
    "my_new_car.read_odometer()\n",
    "\n",
    "##### student tests\n",
    "my_new_car.update_odometer(10000)\n",
    "my_new_car.read_odometer()"
   ]
  },
  {
   "cell_type": "code",
   "execution_count": 20,
   "id": "9f839563-4166-4f6d-96ae-3e2357312db1",
   "metadata": {
    "tags": []
   },
   "outputs": [
    {
     "name": "stdout",
     "output_type": "stream",
     "text": [
      "The restaurant 'Ohashi' has served 0 customers \n",
      "The restaurant 'Ohashi' has served 1023 customers \n",
      "The restaurant 'Ohashi' has served 120 customers \n",
      "The restaurant 'Ohashi' has served 140 customers in a day\n"
     ]
    }
   ],
   "source": [
    "# 9.4 Numbers SERVED\n",
    "class Restaurant():\n",
    "    def __init__(self, restaurant_name, cuisine_type):\n",
    "        self.restaurant_name = restaurant_name\n",
    "        self.cuisine_type = cuisine_type\n",
    "        self.number_served = 0\n",
    "    \n",
    "    def describe_restaurant(self):\n",
    "        print(f\"The restaurant is named '{self.restaurant_name}' with a cuisine type of '{self.cuisine_type}'\")\n",
    "        \n",
    "    def open_restaurant(self):\n",
    "        print(f\"The restaurant is opened\")\n",
    "        \n",
    "    def set_number_served(self, num_customers):\n",
    "        self.number_served = num_customers\n",
    "        \n",
    "    def increment_number_served(self, num_customers):\n",
    "        self.number_served += num_customers\n",
    "        \n",
    "    def print_served_customers(self, extra_text=\"\"):\n",
    "        print(f\"The restaurant '{self.restaurant_name}' has served {self.number_served} customers\", extra_text)\n",
    "\n",
    "res = Restaurant(\"Ohashi\", \"Sushi\")\n",
    "res.print_served_customers()\n",
    "res.number_served = 1023\n",
    "res.print_served_customers()\n",
    "res.set_number_served(120)\n",
    "res.print_served_customers()\n",
    "res.increment_number_served(20)\n",
    "res.print_served_customers(\"in a day\")\n"
   ]
  },
  {
   "cell_type": "code",
   "execution_count": 25,
   "id": "6933fda4-4e31-4ff8-ae68-290b259fe016",
   "metadata": {
    "tags": []
   },
   "outputs": [
    {
     "name": "stdout",
     "output_type": "stream",
     "text": [
      "Hello user named: 'Ernie Sumoso'; with sex: 'M', and age: '24'\n",
      "You have made 0 login attempts\n",
      "You have made 3 login attempts\n",
      "You have made 0 login attempts\n"
     ]
    }
   ],
   "source": [
    "# 9.5 login attempts\n",
    "class User:\n",
    "    \n",
    "    def __init__(self, first_name, last_name, sex, age):\n",
    "        self.first_name = first_name\n",
    "        self.last_name = last_name\n",
    "        self.sex = sex\n",
    "        self.age = age\n",
    "        self.login_attempts = 0\n",
    "    \n",
    "    def greet_user(self):\n",
    "        print(f\"Hello user named: '{self.first_name} {self.last_name}'; with sex: '{self.sex}', and age: '{self.age}'\")\n",
    "        \n",
    "    def increment_login_attempts(self, increment=1):\n",
    "        self.login_attempts += increment\n",
    "        \n",
    "    def reset_login_attempts(self):\n",
    "        self.login_attempts = 0\n",
    "        \n",
    "    def print_login_attempts(self):\n",
    "        print(f\"You have made {self.login_attempts} login attempts\")\n",
    "\n",
    "user1 = User(\"Ernie\", \"Sumoso\", \"M\", 24)\n",
    "user1.greet_user()\n",
    "\n",
    "user1.print_login_attempts() # print attempts\n",
    "user1.increment_login_attempts()\n",
    "user1.increment_login_attempts()\n",
    "user1.increment_login_attempts()\n",
    "user1.print_login_attempts() # print attempts\n",
    "user1.reset_login_attempts()\n",
    "user1.print_login_attempts() # print attempts"
   ]
  }
 ],
 "metadata": {
  "kernelspec": {
   "display_name": "Python 3 (ipykernel)",
   "language": "python",
   "name": "python3"
  },
  "language_info": {
   "codemirror_mode": {
    "name": "ipython",
    "version": 3
   },
   "file_extension": ".py",
   "mimetype": "text/x-python",
   "name": "python",
   "nbconvert_exporter": "python",
   "pygments_lexer": "ipython3",
   "version": "3.11.4"
  }
 },
 "nbformat": 4,
 "nbformat_minor": 5
}
