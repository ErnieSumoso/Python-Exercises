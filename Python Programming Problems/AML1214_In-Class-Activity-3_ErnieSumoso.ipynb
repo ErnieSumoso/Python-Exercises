{
 "cells": [
  {
   "cell_type": "code",
   "execution_count": 2,
   "id": "a1ee4ed0-78fe-443e-a708-8b81bd0384f8",
   "metadata": {
    "tags": []
   },
   "outputs": [
    {
     "name": "stdout",
     "output_type": "stream",
     "text": [
      "My name is Ernie\n"
     ]
    }
   ],
   "source": [
    "# 2.1 Simple Message\n",
    "message = \"My name is Ernie\"\n",
    "print(message)"
   ]
  },
  {
   "cell_type": "code",
   "execution_count": 3,
   "id": "3610fff1-a96a-43e0-900c-6378b3734ad4",
   "metadata": {
    "tags": []
   },
   "outputs": [
    {
     "name": "stdout",
     "output_type": "stream",
     "text": [
      "First version\n",
      "Second version\n"
     ]
    }
   ],
   "source": [
    "# 2.2 Simple Messages\n",
    "message = \"First version\"\n",
    "print(message)\n",
    "message = \"Second version\"\n",
    "print(message)"
   ]
  },
  {
   "cell_type": "code",
   "execution_count": 1,
   "id": "83644a75-35d8-4536-af6d-39e91571d116",
   "metadata": {
    "tags": []
   },
   "outputs": [
    {
     "name": "stdin",
     "output_type": "stream",
     "text": [
      "What is your name? Ernie\n"
     ]
    },
    {
     "name": "stdout",
     "output_type": "stream",
     "text": [
      "Hello Ernie, would you like to learn some Python today?\n"
     ]
    }
   ],
   "source": [
    "# 2.3 Personal Message\n",
    "name = input(\"What is your name?\")\n",
    "print(f\"Hello {name}, would you like to learn some Python today?\")"
   ]
  },
  {
   "cell_type": "code",
   "execution_count": 4,
   "id": "008f2cbd-5452-41f5-87b8-dc16f1d37f60",
   "metadata": {
    "tags": []
   },
   "outputs": [
    {
     "name": "stdin",
     "output_type": "stream",
     "text": [
      "What is your name? Ernie\n"
     ]
    },
    {
     "name": "stdout",
     "output_type": "stream",
     "text": [
      "ernie\n",
      "ERNIE\n",
      "Ernie\n"
     ]
    }
   ],
   "source": [
    "# 2.4 Name Cases\n",
    "name = input(\"What is your name?\")\n",
    "print(name.lower())\n",
    "print(name.upper())\n",
    "print(name.title())"
   ]
  },
  {
   "cell_type": "code",
   "execution_count": 5,
   "id": "65dd8eb6-0047-48f8-bde7-3327253e4657",
   "metadata": {
    "tags": []
   },
   "outputs": [
    {
     "name": "stdout",
     "output_type": "stream",
     "text": [
      "Sun Tzu once said, \"Know thy self, know thy enemy.\"\n"
     ]
    }
   ],
   "source": [
    "# 2.5 Famous Quote\n",
    "quote = \"Know thy self, know thy enemy.\"\n",
    "author = \"Sun Tzu\"\n",
    "print(f'{author} once said, \"{quote}\"')"
   ]
  },
  {
   "cell_type": "code",
   "execution_count": 6,
   "id": "aaf6f1be-a2ba-4281-bab8-dbf5aeffcadc",
   "metadata": {
    "tags": []
   },
   "outputs": [
    {
     "name": "stdout",
     "output_type": "stream",
     "text": [
      "Sun Tzu once said, \"Know thy self, know thy enemy.\"\n"
     ]
    }
   ],
   "source": [
    "# 2.6 Famous Quote 2\n",
    "quote = \"Know thy self, know thy enemy.\"\n",
    "famous_person = \"Sun Tzu\"\n",
    "message = f'{famous_person} once said, \"{quote}\"'\n",
    "print(message)"
   ]
  },
  {
   "cell_type": "code",
   "execution_count": 18,
   "id": "9a037412-fb3c-4391-8ccf-cc4385037426",
   "metadata": {
    "tags": []
   },
   "outputs": [
    {
     "name": "stdout",
     "output_type": "stream",
     "text": [
      "1.   \n",
      "\t\t  Clark  \n",
      "\t \n",
      "2. Clark  \n",
      "\t \n",
      "3.   \n",
      "\t\t  Clark\n",
      "4. Clark\n"
     ]
    }
   ],
   "source": [
    "# 2.7 Stripping Names\n",
    "name = \"  \\n\\t\\t  Clark  \\n\\t \"\n",
    "print(\"1.\",name)\n",
    "print(\"2.\",name.lstrip())\n",
    "print(\"3.\",name.rstrip())\n",
    "print(\"4.\",name.strip())"
   ]
  },
  {
   "cell_type": "code",
   "execution_count": 12,
   "id": "700587ff-ddad-45f1-8c40-1c4ae412d3d7",
   "metadata": {
    "tags": []
   },
   "outputs": [
    {
     "name": "stdout",
     "output_type": "stream",
     "text": [
      "8\n",
      "8\n",
      "8\n",
      "8\n"
     ]
    }
   ],
   "source": [
    "# 2.8 Number Eight\n",
    "print(1+2+3+2)\n",
    "print(17-5-3-1)\n",
    "print(2*2*2*1)\n",
    "print(1024//16//8)"
   ]
  },
  {
   "cell_type": "code",
   "execution_count": 14,
   "id": "af43c5d2-ce0d-4fdf-8627-416d295db915",
   "metadata": {
    "tags": []
   },
   "outputs": [
    {
     "name": "stdout",
     "output_type": "stream",
     "text": [
      "My favorite number is 13\n"
     ]
    }
   ],
   "source": [
    "# 2.9 Favorite Number\n",
    "favorite_number = 13\n",
    "print(\"My favorite number is\", favorite_number)\n"
   ]
  },
  {
   "cell_type": "code",
   "execution_count": 15,
   "id": "adba5510-4ddd-4dcf-9139-b6bdd8da4559",
   "metadata": {
    "tags": []
   },
   "outputs": [],
   "source": [
    "# 2.10 Adding Comments\n",
    "\n",
    "# The following function duplicates an string an returns the new duplicated string\n",
    "# Example: Input: \"aba\" --> Output: \"abaaba\"\n",
    "# Ernie Sumoso, September 21, 2023\n",
    "def duplicate_string(text):\n",
    "    return text*2"
   ]
  },
  {
   "cell_type": "code",
   "execution_count": null,
   "id": "617fec69-72dc-4d7e-9455-0af1f63541fa",
   "metadata": {},
   "outputs": [],
   "source": []
  }
 ],
 "metadata": {
  "kernelspec": {
   "display_name": "Python 3 (ipykernel)",
   "language": "python",
   "name": "python3"
  },
  "language_info": {
   "codemirror_mode": {
    "name": "ipython",
    "version": 3
   },
   "file_extension": ".py",
   "mimetype": "text/x-python",
   "name": "python",
   "nbconvert_exporter": "python",
   "pygments_lexer": "ipython3",
   "version": "3.11.4"
  }
 },
 "nbformat": 4,
 "nbformat_minor": 5
}
