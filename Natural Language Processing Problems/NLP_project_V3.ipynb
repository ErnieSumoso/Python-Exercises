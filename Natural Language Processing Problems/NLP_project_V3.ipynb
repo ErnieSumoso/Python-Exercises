{
 "cells": [
  {
   "cell_type": "markdown",
   "id": "44251544",
   "metadata": {},
   "source": [
    "### Natural Language Processing - Assignment 1\n",
    "\n",
    "__Group Members:__\n",
    "1) Aanal Patel - C0910376\n",
    "2) Bimal Shresta - C0919385\n",
    "3) Danilo Diaz - C0889539\n",
    "4) Ernie Sumoso - C0881591\n",
    "5) Jayachandhran Saravanan - C0910392"
   ]
  },
  {
   "cell_type": "markdown",
   "id": "231062ee-d850-4a9e-80df-89a38723aae2",
   "metadata": {},
   "source": [
    "### Index\n",
    "- __0. Data Source Explanation__\n",
    "- __1. Dataset Collection__\n",
    "- __2. Exploratory Data Analysis__\n",
    "- __3. Data Cleaning & Text Processing__\n",
    "- __4. Word Vectorization methods__\n",
    "- __5. Word Clouds__\n",
    "- __6. Model Building__\n",
    "- __7. Evaluating Model Results__"
   ]
  },
  {
   "cell_type": "markdown",
   "id": "c0312053-0c0e-4531-923a-1fba8f6437d4",
   "metadata": {},
   "source": [
    "### 0. Data Source explanation\n",
    "\n",
    "We are providing a file __VideoCommentsThreatCorpus.txt__, from which we will extract our data.\n",
    "\n",
    "The origin of these texts are from \n",
    "\n",
    "The data is consolidated into a __plain text file__ and hosted within a __Google Drive repository__."
   ]
  },
  {
   "cell_type": "markdown",
   "id": "72f945ab",
   "metadata": {},
   "source": [
    "### 1. Dataset Collection\n",
    "Let's start by acquiring our dataset from an external source.\n",
    "\n",
    "The columns of our dataset are as follows:\n",
    "- __text__: raw textual data\n",
    "- __label__: 0 --> the text does not contain a threat, 1 --> the text contains a threat\n",
    "\n",
    "First, to gather our data, let's import some required libraries."
   ]
  },
  {
   "cell_type": "code",
   "execution_count": 2,
   "id": "c09d1b50",
   "metadata": {
    "tags": []
   },
   "outputs": [],
   "source": [
    "import pandas as pd # data processing, CSV file I/O (e.g. pd.read_csv)\n",
    "import numpy as np # linear algebra\n",
    "import os # used for file manipulation\n",
    "import sys # used for file manipulation\n",
    "import re # used for regular expression\n",
    "from urllib import request"
   ]
  },
  {
   "cell_type": "markdown",
   "id": "0b6d5aa8",
   "metadata": {},
   "source": [
    "Let's create a __Helper class__ that will allow us to __extract (download) the data__ from its original source (Google Drive).\n",
    "\n",
    "This class will also allow us to __read the file and return a DataFrame__ from Pandas library."
   ]
  },
  {
   "cell_type": "code",
   "execution_count": 3,
   "id": "e1c01a9d",
   "metadata": {
    "tags": []
   },
   "outputs": [],
   "source": [
    "# Helper class to download and read the dataset\n",
    "class Helper:\n",
    "    def __init__(self, path, id_path):\n",
    "        self.path = path\n",
    "        self.id_path = id_path\n",
    "\n",
    "    def download_dataset(self):\n",
    "        # Download the dataset from the original source Google Drive\n",
    "        url = f\"https://drive.google.com/uc?export=download&id={self.id_path}\"\n",
    "        request.urlretrieve(url, self.path)\n",
    "\n",
    "    def read_dataset(self, path):\n",
    "        # Read the dataset, and return the DataFrame from Pandas\n",
    "        def read_lines(lines):\n",
    "            is_header = True\n",
    "            for line in lines:\n",
    "                if is_header:\n",
    "                    is_header = False\n",
    "                    continue\n",
    "\n",
    "                if not line or line.isspace():\n",
    "                    is_header = True\n",
    "                    continue\n",
    "                # let's create a generator so we don't store the whole content in memory\n",
    "                label, comment = line.split(maxsplit=1)\n",
    "                yield comment, int(label)\n",
    "\n",
    "        with open(path, encoding=\"utf-8\") as file:\n",
    "            data = read_lines(file)\n",
    "            df = pd.DataFrame.from_records(data, columns=[\"text\", \"label\"])\n",
    "\n",
    "        return df"
   ]
  },
  {
   "cell_type": "markdown",
   "id": "2e35fc7e",
   "metadata": {},
   "source": [
    "Let's __instantiate our Helper class__ and __donwload the data from its original source__ and obtain the data from the file as a __DataFrame__."
   ]
  },
  {
   "cell_type": "code",
   "execution_count": 43,
   "id": "f8b5334e",
   "metadata": {
    "tags": []
   },
   "outputs": [
    {
     "data": {
      "text/html": [
       "<div>\n",
       "<style scoped>\n",
       "    .dataframe tbody tr th:only-of-type {\n",
       "        vertical-align: middle;\n",
       "    }\n",
       "\n",
       "    .dataframe tbody tr th {\n",
       "        vertical-align: top;\n",
       "    }\n",
       "\n",
       "    .dataframe thead th {\n",
       "        text-align: right;\n",
       "    }\n",
       "</style>\n",
       "<table border=\"1\" class=\"dataframe\">\n",
       "  <thead>\n",
       "    <tr style=\"text-align: right;\">\n",
       "      <th></th>\n",
       "      <th>text</th>\n",
       "      <th>label</th>\n",
       "    </tr>\n",
       "  </thead>\n",
       "  <tbody>\n",
       "    <tr>\n",
       "      <th>0</th>\n",
       "      <td>It's because Europeans do not want to change t...</td>\n",
       "      <td>0</td>\n",
       "    </tr>\n",
       "    <tr>\n",
       "      <th>1</th>\n",
       "      <td>The Muslims there do not want to assimilate pr...</td>\n",
       "      <td>0</td>\n",
       "    </tr>\n",
       "    <tr>\n",
       "      <th>2</th>\n",
       "      <td>But it's ok....because Europe will soon rebel ...</td>\n",
       "      <td>1</td>\n",
       "    </tr>\n",
       "    <tr>\n",
       "      <th>3</th>\n",
       "      <td>I forsee a big civil war in Europe in the futu...</td>\n",
       "      <td>0</td>\n",
       "    </tr>\n",
       "    <tr>\n",
       "      <th>4</th>\n",
       "      <td>ISLAM – A Simple, Humanitarian and Attractive ...</td>\n",
       "      <td>0</td>\n",
       "    </tr>\n",
       "  </tbody>\n",
       "</table>\n",
       "</div>"
      ],
      "text/plain": [
       "                                                text  label\n",
       "0  It's because Europeans do not want to change t...      0\n",
       "1  The Muslims there do not want to assimilate pr...      0\n",
       "2  But it's ok....because Europe will soon rebel ...      1\n",
       "3  I forsee a big civil war in Europe in the futu...      0\n",
       "4  ISLAM – A Simple, Humanitarian and Attractive ...      0"
      ]
     },
     "execution_count": 43,
     "metadata": {},
     "output_type": "execute_result"
    }
   ],
   "source": [
    "# instantiate our custom Helper class\n",
    "helper = Helper(\n",
    "    path='dataset',\n",
    "    id_path='13XlJ4uhxxGprn6mnXwXNvV9PxSNyZCsY'\n",
    ")\n",
    "# download our dataset from its original source\n",
    "helper.download_dataset()\n",
    "# read the dataset as a DataFrame from Pandas\n",
    "df = helper.read_dataset('dataset')\n",
    "df.head()"
   ]
  },
  {
   "cell_type": "markdown",
   "id": "fdaddc64-6d9d-4613-a738-e807c877c807",
   "metadata": {},
   "source": [
    "Now we have the dataset ready for an exploratory data analysis (EDA) inside the __df__ variable."
   ]
  },
  {
   "cell_type": "markdown",
   "id": "d3b32f80",
   "metadata": {
    "tags": []
   },
   "source": [
    "### 2. Exploratory Data Analysis\n",
    "\n",
    "Let's start our EDA. For this task we have implemented a class called __ExploratoryDataAnalysis__ that takes the following __parameters for initialization__:\n",
    "- DataFrame from Pandas library\n",
    "- String defining target column name\n",
    "\n",
    "... and calculates some basic analysis over the data.\n",
    "\n",
    "Some of the implemented methods are capable of:\n",
    "\n",
    "- Displaying and plotting the __Value counts of our target column__\n",
    "- Displaying and plotting the number of rows with __missing values__ within our dataframe\n",
    "- Displaying and plotting the number of __duplicated rows__ within our dataframe\n",
    "\n",
    "The purpose behind creating a class and methods was to avoid repetitive code and to enable ourselves to re-use the code with different datasets."
   ]
  },
  {
   "cell_type": "code",
   "execution_count": 5,
   "id": "a73d6e6a-d432-4178-b273-cee68d2415c5",
   "metadata": {
    "tags": []
   },
   "outputs": [],
   "source": [
    "import matplotlib.pyplot as plt"
   ]
  },
  {
   "cell_type": "code",
   "execution_count": 9,
   "id": "87716c84-249d-4495-b93f-c835e5a9a6c3",
   "metadata": {
    "tags": []
   },
   "outputs": [],
   "source": [
    "class ExploratoryDataAnalysis:\n",
    "    \n",
    "    def __init__(self, df, target_column_name, lines=30):\n",
    "        self.df = df\n",
    "        self.target_column_name = target_column_name\n",
    "        self.lines = lines\n",
    "    \n",
    "    def print_line(self):\n",
    "        print(\"-\" * self.lines)\n",
    "    \n",
    "    def display_shape(self):\n",
    "        # check for the shape (number of rows and columns) of the dataset\n",
    "        print(\"SHAPE\")\n",
    "        print(\"# Rows:\\t\", df.shape[0])\n",
    "        print(\"# Columns:\", df.shape[1])\n",
    "    \n",
    "    def display_target_value_counts(self, percentage=False):\n",
    "        # check for the distribution of target values, take percentage flag into account\n",
    "        print(\"TARGET VALUE COUNTS\", percentage * \"PERCENTAGE (%)\")\n",
    "        print(df[self.target_column_name].value_counts(normalize = percentage) * (100 if percentage else 1))\n",
    "        print(\"Total:\", \"100.00 %\" if percentage else df[self.target_column_name].count())\n",
    "        \n",
    "    def display_missing_values(self, percentage=False):\n",
    "        # check for missing values, take percentage flag into account\n",
    "        print(\"MISSING VALUES\", percentage * \"PERCENTAGE (%)\")\n",
    "        print(df.isnull().mean() * 100 if percentage else df.isnull().sum())\n",
    "        print(\"Total:\", \"100.00 %\" if percentage else df.isnull().sum().sum())\n",
    "        \n",
    "    def display_duplicates(self, percentage=False):\n",
    "        # check for duplicate values, take percentage flag into account\n",
    "        print(\"DUPLICATED ROWS\", percentage * \"PERCENTAGE (%)\")\n",
    "        print(\"Total:\", \"{:.2f} %\".format(df.duplicated().mean() * 100) if percentage else df.duplicated().sum())\n",
    "        \n",
    "    def display_basic_analysis(self):\n",
    "        # make use of the previous defined methods to display a basic EDA\n",
    "        self.print_line()\n",
    "        self.display_shape()\n",
    "        self.print_line()\n",
    "        self.display_target_value_counts()\n",
    "        self.print_line()\n",
    "        self.display_target_value_counts(percentage=True)\n",
    "        self.print_line()\n",
    "        self.display_missing_values()\n",
    "        self.print_line()\n",
    "        self.display_missing_values(percentage=True)\n",
    "        self.print_line()\n",
    "        self.display_duplicates()\n",
    "        self.print_line()\n",
    "        self.display_duplicates(percentage=True)\n",
    "        self.print_line()\n",
    "    \n",
    "    def plot_target_value_counts(self, ax):\n",
    "        # to plot we need to set our x and y values first\n",
    "        x = df[self.target_column_name].unique()\n",
    "        y = df[self.target_column_name].value_counts()\n",
    "        # plot the bar in the subplot canvas, using a random generated color\n",
    "        ax.bar(x, y, color=np.random.rand(3,))\n",
    "        \n",
    "        # let's add annotation to our bar graph\n",
    "        for x_, y_ in zip(x, y): # zip creates the following tuples: (1st x value, 1st y value), (2nd, 2nd) ...\n",
    "            label = \"{:,} ({:.2f} %)\".format(y_, y_ * 100/y.sum()).replace(',', \"'\")\n",
    "            # annotate at the x and y position, add some offset to center the annotations\n",
    "            ax.annotate(label, (x_ - 0.2, y_ + 150))\n",
    "            \n",
    "        # let's add some titles to the subplot and axis\n",
    "        ax.title.set_text(\"Target Value Counts\")\n",
    "        ax.set_xlabel(\"Unique Values\")\n",
    "        ax.set_ylabel(\"Value Counts\")\n",
    "        \n",
    "    def plot_missing_values(self, ax):\n",
    "        # to plot we need to set our x and y values first\n",
    "        x = df.columns.to_list()\n",
    "        y = df.isnull().sum()\n",
    "        ax.bar(x, y, color=np.random.rand(3,), width = 0.4)\n",
    "        \n",
    "        # if there's no missing values we can write it down explicitely using text method\n",
    "        if y.sum().sum() == 0:\n",
    "            ax.text(0.5, 0.5, 'No Missing Values', transform=ax.transAxes,\n",
    "                    fontsize=40, color='gray', alpha=0.5, ha='center', va='center', rotation=25)\n",
    "        \n",
    "        # let's add some titles to the subplot and axis\n",
    "        ax.title.set_text(\"Missing Values\")\n",
    "        ax.set_xlabel(\"Column Name\")\n",
    "        ax.set_ylabel(\"# Rows with Missing Values\")\n",
    "        \n",
    "    def plot_duplicates(self, ax):\n",
    "        # to plot we need to set our x and y values first\n",
    "        x = ['# Non-duplicated Rows', '# Duplicated Rows']\n",
    "        y = [df.shape[0] - df.duplicated().sum(), df.duplicated().sum()]\n",
    "        ax.bar(x, y, color=np.random.rand(3,), width = 0.4)\n",
    "        \n",
    "        # let's add annotation to our bar graph\n",
    "        for x_, y_ in enumerate(y): # zip creates the following tuples: (1st x value, 1st y value), (2nd, 2nd) ...\n",
    "            label = \"{:,} ({:.2f} %)\".format(y_, y_ * 100/sum(y)).replace(',', \"'\")\n",
    "            # annotate at the x and y position, add some offset to center the annotations\n",
    "            ax.annotate(label, (x_ - 0.2, y_ + 150))\n",
    "            \n",
    "        # let's add some titles to the subplot and axis\n",
    "        ax.title.set_text(\"Duplicated Rows\")\n",
    "        ax.set_ylabel(\"# Rows\")\n",
    "        \n",
    "    def plot_pie_target_value_counts(self, ax):\n",
    "        # let's set the unique values of our target column, and their value counts\n",
    "        labels = df[self.target_column_name].unique()\n",
    "        value_counts = df[self.target_column_name].value_counts()\n",
    "        \n",
    "        # let's set the percentage of each value count, explode and color values\n",
    "        x = [val * 100/value_counts.sum() for val in value_counts]\n",
    "        explode = [0.1 for i in range(len(x))]\n",
    "        colors = [np.random.rand(3,) for i in range(len(x))] # set random colors\n",
    "        \n",
    "        # finally, let's plot the pie\n",
    "        ax.pie(x, explode, autopct=\"%.2f\", labels=labels, colors=colors)\n",
    "        \n",
    "    def plot_pie_missing_values(self, ax):\n",
    "        # let's set the unique values of our target column, and their value counts\n",
    "        labels = ['Non-missing', 'Missing']\n",
    "        value_counts = [df[df.notnull().any(axis=1)].shape[0], # number of rows with non-missing values\n",
    "                        df[df.isnull().any(axis=1)].shape[0]]  # number of rows with any missing value\n",
    "        \n",
    "        # let's set the percentage of each value count, explode and color values\n",
    "        x = [val * 100/df.shape[0] for val in value_counts]\n",
    "        explode = [0.1 for i in range(len(x))]\n",
    "        colors = [np.random.rand(3,) for i in range(len(x))] # set random colors\n",
    "        \n",
    "        # finally, let's plot the pie\n",
    "        ax.pie(x, explode, autopct=\"%.2f\", labels=labels, colors=colors)\n",
    "        \n",
    "    def plot_pie_duplicates(self, ax):\n",
    "        # let's set the unique values of our target column, and its value counts per unique value\n",
    "        labels = ['Non-duplicated', 'Duplicated']\n",
    "        value_counts = [df.shape[0] - df.duplicated().sum(), df.duplicated().sum()]\n",
    "        \n",
    "        # let's set the percentage of each value count, explode and color values\n",
    "        x = [val * 100/df.shape[0] for val in value_counts]\n",
    "        explode = [0.1 for i in range(len(x))]\n",
    "        colors = [np.random.rand(3,) for i in range(len(x))] # set random colors\n",
    "        \n",
    "        # finally, let's plot the pie\n",
    "        ax.pie(x, explode, autopct=\"%.2f\", labels=labels, colors=colors)\n",
    "        \n",
    "    def plot_basic_analysis(self):\n",
    "        fig, ((ax1, ax2, ax3), (ax4, ax5, ax6)) = plt.subplots(2,3, figsize = (20,10)) # rows, columns\n",
    "        self.plot_target_value_counts(ax1)\n",
    "        self.plot_missing_values(ax2)\n",
    "        self.plot_duplicates(ax3)\n",
    "        self.plot_pie_target_value_counts(ax4)\n",
    "        self.plot_pie_missing_values(ax5)\n",
    "        self.plot_pie_duplicates(ax6)"
   ]
  },
  {
   "cell_type": "code",
   "execution_count": 10,
   "id": "181b6646-be42-4974-b8c3-b45a5604a5fc",
   "metadata": {
    "tags": []
   },
   "outputs": [
    {
     "name": "stdout",
     "output_type": "stream",
     "text": [
      "------------------------------\n",
      "SHAPE\n",
      "# Rows:\t 28643\n",
      "# Columns: 2\n",
      "------------------------------\n",
      "TARGET VALUE COUNTS \n",
      "label\n",
      "0    27256\n",
      "1     1387\n",
      "Name: count, dtype: int64\n",
      "Total: 28643\n",
      "------------------------------\n",
      "TARGET VALUE COUNTS PERCENTAGE (%)\n",
      "label\n",
      "0    95.15763\n",
      "1     4.84237\n",
      "Name: proportion, dtype: float64\n",
      "Total: 100.00 %\n",
      "------------------------------\n",
      "MISSING VALUES \n",
      "text     0\n",
      "label    0\n",
      "dtype: int64\n",
      "Total: 0\n",
      "------------------------------\n",
      "MISSING VALUES PERCENTAGE (%)\n",
      "text     0.0\n",
      "label    0.0\n",
      "dtype: float64\n",
      "Total: 100.00 %\n",
      "------------------------------\n",
      "DUPLICATED ROWS \n",
      "Total: 352\n",
      "------------------------------\n",
      "DUPLICATED ROWS PERCENTAGE (%)\n",
      "Total: 1.23 %\n",
      "------------------------------\n"
     ]
    }
   ],
   "source": [
    "eda = ExploratoryDataAnalysis(df, \"label\")\n",
    "eda.display_basic_analysis()"
   ]
  },
  {
   "cell_type": "code",
   "execution_count": 98,
   "id": "121057b8-ef65-43c0-bfdb-b0ac30ad310c",
   "metadata": {
    "tags": []
   },
   "outputs": [
    {
     "data": {
      "image/png": "[encoded data removed]",
      "text/plain": [
       "<Figure size 2000x1000 with 6 Axes>"
      ]
     },
     "metadata": {},
     "output_type": "display_data"
    }
   ],
   "source": [
    "eda.plot_basic_analysis()"
   ]
  },
  {
   "cell_type": "code",
   "execution_count": 77,
   "id": "e5ec84ab-e1b8-4648-9475-5b87588f80f1",
   "metadata": {
    "tags": []
   },
   "outputs": [
    {
     "name": "stdout",
     "output_type": "stream",
     "text": [
      "{'I': 15359, 't': 143857, \"'\": 7006, 's': 109130, ' ': 374190, 'b': 24749, 'e': 192112, 'c': 40189, 'a': 134122, 'u': 60293, 'E': 11970, 'r': 96203, 'o': 129367, 'p': 29351, 'n': 110246, 'd': 58196, 'w': 34106, 'h': 83638, 'g': 30934, 'i': 123433, 'y': 38119, 'f': 28939, 'l': 79710, 'm': 46427, 'k': 16958, '.': 27248, '\\n': 28643, 'T': 11064, 'M': 6293, 'v': 16596, 'S': 9165, 'B': 3240, ',': 16314, 'j': 3364, 'q': 1198, 'L': 6537, 'A': 12369, '–': 35, 'H': 6373, 'R': 6411, 'W': 4626, 'C': 4799, 'O': 7875, 'N': 6919, 'D': 4092, 'P': 2959, 'Q': 601, 'U': 4643, '“': 74, '”': 75, '(': 1384, 'J': 2000, '’': 117, 'x': 2205, '3': 689, '5': 872, ')': 1710, '-': 2860, '2': 1191, '0': 2284, '8': 424, 'V': 1109, '1': 1793, '9': 822, '7': 433, '4': 604, '%': 265, 'F': 2784, ':': 1277, '\"': 3404, 'z': 1870, '?': 3846, 'K': 2166, 'Y': 3729, '!': 6092, 'G': 3230, '/': 619, '—': 16, '=': 235, 'X': 167, '_': 59, '\\xad': 69, 'Z': 258, '\\ufeff': 525, '@': 232, '6': 451, '&': 622, ';': 319, '#': 211, 'ق': 29, 'ا': 183, 'ل': 180, 'ص': 10, 'ى': 20, 'ه': 40, 'ع': 44, 'ي': 144, 'و': 111, 'س': 46, 'م': 104, '«': 1, 'ت': 59, 'ح': 37, 'ث': 6, 'ك': 21, 'ن': 112, 'ب': 49, 'ئ': 1, 'ة': 40, 'خ': 8, 'ّ': 20, '»': 1, 'ı': 55, 'ö': 57, 'ü': 89, 'ş': 16, 'ç': 8, 'ğ': 13, '\\\\': 13, '[': 77, ']': 76, '>': 43, '`': 66, '*': 140, 'å': 118, '{': 4, '}': 3, 'ī': 5, '+': 65, 'č': 2, 'š': 4, '$': 27, '´': 73, 'û': 1, '…': 17, '¬': 6, '<': 41, '¿': 5, 'é': 46, 'َ': 115, 'ر': 62, 'ْ': 14, 'ِ': 40, 'أ': 47, 'ف': 28, 'ج': 23, 'ُ': 28, 'د': 36, '•': 14, 'ā': 10, '−': 1, 'á': 7, 'ـ': 6, 'ٰ': 7, 'ٱ': 13, 'ذ': 8, 'ؤ': 1, 'ۡ': 18, 'ۥ': 3, 'ڪ': 1, 'ط': 13, 'ز': 6, 'ٍ': 3, '۬': 2, 'غ': 14, '~': 7, '✔': 1, 'П': 6, 'о': 68, 'я': 12, 'с': 38, 'н': 37, 'е': 58, 'и': 75, 'т': 56, 'В': 6, 'А': 32, 'Р': 17, 'Д': 10, 'О': 14, 'Т': 20, 'И': 19, 'С': 11, 'Н': 12, 'К': 8, 'Е': 17, 'ф': 5, 'М': 6, 'ч': 17, 'а': 86, 'р': 26, 'б': 21, 'ъ': 3, 'л': 29, 'г': 11, 'к': 27, 'Х': 3, 'У': 5, 'Ч': 6, 'Ц': 2, 'п': 15, 'м': 24, 'ц': 4, 'х': 3, 'у': 18, 'ш': 6, 'д': 16, 'в': 18, 'Л': 9, 'Ъ': 4, 'ж': 5, 'Г': 6, 'з': 6, 'Ш': 3, 'Б': 6, 'й': 5, 'ю': 4, 'Й': 2, 'Ж': 2, 'З': 2, 'İ': 21, 'ó': 5, 'ñ': 3, 'Ä': 2, 'Ü': 4, '^': 2, 'ä': 74, 'ę': 3, 'Ş': 1, '|': 4, 'Ф': 1, '€': 1, 'à': 5, 'ć': 1, 'ł': 3, 'ř': 4, 'ť': 1, 'í': 5, 'ď': 1, 'ž': 2, 'ů': 1, 'ß': 7, '¡': 2, '►': 1, 'א': 6, 'ם': 5, 'ת': 5, 'ל': 5, 'ר': 5, 'ו': 7, 'צ': 2, 'י': 11, 'ש': 3, 'ה': 5, 'פ': 3, 'ך': 2, 'מ': 5, 'ד': 1, 'ב': 2, 'ע': 1, 'ג': 3, 'ן': 1, 'ז': 1, 'ë': 4, 'æ': 15, 'ø': 25, 'Å': 3, 'ش': 4, 'ء': 8, 'إ': 5, 'Ø': 3, 'Æ': 2, '‘': 7, 'Σ': 1, 'α': 4, 'γ': 1, 'π': 1, 'ώ': 1, 'κ': 2, 'ο': 2, 'υ': 1, 'λ': 1, 'ρ': 1, 'μ': 1, 'ύ': 1, '✭': 5, 'ú': 1, '\\u200b': 6, 'ٓ': 1, '£': 1, 'ï': 2, '©': 1, 'è': 5, 'Ι': 1, 'ý': 1, 'ù': 2, 'Ą': 1, 'ą': 3, 'ś': 2, 'נ': 3, 'ח': 1, 'כ': 1, '،': 16, 'ê': 4, 'ы': 3, 'ь': 4, 'ض': 2, 'ظ': 3, 'آ': 4, 'Á': 1, '\\u200e': 7, '\\t': 1}\n"
     ]
    }
   ],
   "source": [
    "# counting the number of unique char occurrences within all of the texts\n",
    "char_counts = {}\n",
    "for _, row in df.iterrows():\n",
    "    for ch in row[['text']][0]:\n",
    "        char_counts[ch] = char_counts.get(ch, 0) + 1\n",
    "print(char_counts)"
   ]
  },
  {
   "cell_type": "code",
   "execution_count": 109,
   "id": "0ee41c56-1746-4d5a-ae3b-381bb4235c59",
   "metadata": {
    "tags": []
   },
   "outputs": [
    {
     "data": {
      "text/plain": [
       "1776050"
      ]
     },
     "execution_count": 109,
     "metadata": {},
     "output_type": "execute_result"
    }
   ],
   "source": [
    "# let's calculate the number of alphabetic, alphanumeric and non-alphanumeric characters\n",
    "english_chars = [ch for ch in char_counts.keys() if ch.isascii() and ch.isalpha()]\n",
    "alpha_chars = [ch for ch in char_counts.keys() if ch.isalpha()]\n",
    "numeric_chars = [ch for ch in char_counts.keys() if ch.isnumeric()]\n",
    "alphanumeric_chars = [ch for ch in char_counts.keys() if ch.isalnum()]\n",
    "non_alphanumeric_chars = [ch for ch in char_counts.keys() if not ch.isalnum()]\n",
    "\n",
    "english_dict = {}\n",
    "for k, v in char_counts.items():\n",
    "    if k.isalpha() and k.isascii():\n",
    "        english_dict[k] = v\n",
    "sum(english_dict.values())"
   ]
  },
  {
   "cell_type": "code",
   "execution_count": 111,
   "id": "ff0ca353-cb42-408e-bed9-3c703d3011b1",
   "metadata": {
    "tags": []
   },
   "outputs": [
    {
     "data": {
      "text/plain": [
       "True"
      ]
     },
     "execution_count": 111,
     "metadata": {},
     "output_type": "execute_result"
    }
   ],
   "source": [
    "'ظ'.isalpha()"
   ]
  },
  {
   "cell_type": "code",
   "execution_count": 112,
   "id": "c4b8e356-1133-4ee1-9559-27135b4c3e3d",
   "metadata": {
    "tags": []
   },
   "outputs": [
    {
     "name": "stdout",
     "output_type": "stream",
     "text": [
      "Python 3.11.5\n"
     ]
    }
   ],
   "source": [
    "!python --version"
   ]
  },
  {
   "cell_type": "code",
   "execution_count": null,
   "id": "0b569a6a-815e-4290-bdae-d72e86bd740e",
   "metadata": {},
   "outputs": [],
   "source": []
  },
  {
   "cell_type": "code",
   "execution_count": null,
   "id": "5c984d11-c86c-4133-bbd5-d46927cac821",
   "metadata": {},
   "outputs": [],
   "source": []
  },
  {
   "cell_type": "code",
   "execution_count": null,
   "id": "2c0ba8d8-3b02-46b0-be63-6107fa939bb8",
   "metadata": {},
   "outputs": [],
   "source": []
  },
  {
   "cell_type": "markdown",
   "id": "8c49677d-2dba-40bc-8cae-a40b50e0a785",
   "metadata": {},
   "source": [
    "### 3. Data Cleaning and Processing"
   ]
  },
  {
   "cell_type": "code",
   "execution_count": 13,
   "id": "be1d9c67",
   "metadata": {
    "tags": []
   },
   "outputs": [
    {
     "data": {
      "text/html": [
       "<div>\n",
       "<style scoped>\n",
       "    .dataframe tbody tr th:only-of-type {\n",
       "        vertical-align: middle;\n",
       "    }\n",
       "\n",
       "    .dataframe tbody tr th {\n",
       "        vertical-align: top;\n",
       "    }\n",
       "\n",
       "    .dataframe thead th {\n",
       "        text-align: right;\n",
       "    }\n",
       "</style>\n",
       "<table border=\"1\" class=\"dataframe\">\n",
       "  <thead>\n",
       "    <tr style=\"text-align: right;\">\n",
       "      <th></th>\n",
       "      <th>text</th>\n",
       "      <th>label</th>\n",
       "      <th>word_count</th>\n",
       "      <th>char_count</th>\n",
       "      <th>special_char_count</th>\n",
       "      <th>numerics_count</th>\n",
       "      <th>upper_count</th>\n",
       "      <th>lower_count</th>\n",
       "      <th>stopwords_count</th>\n",
       "      <th>unique_words_count</th>\n",
       "    </tr>\n",
       "  </thead>\n",
       "  <tbody>\n",
       "    <tr>\n",
       "      <th>0</th>\n",
       "      <td>It's because Europeans do not want to change t...</td>\n",
       "      <td>0</td>\n",
       "      <td>20</td>\n",
       "      <td>111</td>\n",
       "      <td>1</td>\n",
       "      <td>0</td>\n",
       "      <td>3</td>\n",
       "      <td>86</td>\n",
       "      <td>11</td>\n",
       "      <td>18</td>\n",
       "    </tr>\n",
       "    <tr>\n",
       "      <th>1</th>\n",
       "      <td>The Muslims there do not want to assimilate pr...</td>\n",
       "      <td>0</td>\n",
       "      <td>18</td>\n",
       "      <td>107</td>\n",
       "      <td>1</td>\n",
       "      <td>0</td>\n",
       "      <td>4</td>\n",
       "      <td>84</td>\n",
       "      <td>7</td>\n",
       "      <td>18</td>\n",
       "    </tr>\n",
       "    <tr>\n",
       "      <th>2</th>\n",
       "      <td>But it's ok....because Europe will soon rebel ...</td>\n",
       "      <td>1</td>\n",
       "      <td>24</td>\n",
       "      <td>132</td>\n",
       "      <td>6</td>\n",
       "      <td>0</td>\n",
       "      <td>3</td>\n",
       "      <td>98</td>\n",
       "      <td>14</td>\n",
       "      <td>21</td>\n",
       "    </tr>\n",
       "    <tr>\n",
       "      <th>3</th>\n",
       "      <td>I forsee a big civil war in Europe in the futu...</td>\n",
       "      <td>0</td>\n",
       "      <td>18</td>\n",
       "      <td>94</td>\n",
       "      <td>2</td>\n",
       "      <td>0</td>\n",
       "      <td>3</td>\n",
       "      <td>71</td>\n",
       "      <td>8</td>\n",
       "      <td>16</td>\n",
       "    </tr>\n",
       "    <tr>\n",
       "      <th>4</th>\n",
       "      <td>ISLAM – A Simple, Humanitarian and Attractive ...</td>\n",
       "      <td>0</td>\n",
       "      <td>8</td>\n",
       "      <td>55</td>\n",
       "      <td>1</td>\n",
       "      <td>0</td>\n",
       "      <td>10</td>\n",
       "      <td>35</td>\n",
       "      <td>1</td>\n",
       "      <td>8</td>\n",
       "    </tr>\n",
       "  </tbody>\n",
       "</table>\n",
       "</div>"
      ],
      "text/plain": [
       "                                                text  label  word_count  \\\n",
       "0  It's because Europeans do not want to change t...      0          20   \n",
       "1  The Muslims there do not want to assimilate pr...      0          18   \n",
       "2  But it's ok....because Europe will soon rebel ...      1          24   \n",
       "3  I forsee a big civil war in Europe in the futu...      0          18   \n",
       "4  ISLAM – A Simple, Humanitarian and Attractive ...      0           8   \n",
       "\n",
       "   char_count  special_char_count  numerics_count  upper_count  lower_count  \\\n",
       "0         111                   1               0            3           86   \n",
       "1         107                   1               0            4           84   \n",
       "2         132                   6               0            3           98   \n",
       "3          94                   2               0            3           71   \n",
       "4          55                   1               0           10           35   \n",
       "\n",
       "   stopwords_count  unique_words_count  \n",
       "0               11                  18  \n",
       "1                7                  18  \n",
       "2               14                  21  \n",
       "3                8                  16  \n",
       "4                1                   8  "
      ]
     },
     "execution_count": 13,
     "metadata": {},
     "output_type": "execute_result"
    }
   ],
   "source": [
    "from collections import Counter\n",
    "import matplotlib.pyplot as plt\n",
    "\n",
    "# Count the number of words in each comment\n",
    "df['word_count'] = df['text'].apply(lambda x: len(x.split()))\n",
    "\n",
    "# Count the number of characters in each comment\n",
    "df['char_count'] = df['text'].apply(lambda x: len(x))\n",
    "\n",
    "# Count the number of special characters in each comment\n",
    "df['special_char_count'] = df['text'].apply(lambda x: len([c for c in x if c in ('!','@','#','$','%','^','&','*','(',')','_','+','{','}','|',':','\"','<','>','?','`','~',';',',','.','/','\\\\','[',']')]))\n",
    "\n",
    "# Count the number of numerics in each comment\n",
    "df['numerics_count'] = df['text'].apply(lambda x: len([c for c in x if c.isdigit()]))\n",
    "\n",
    "# Count the number of uppercase words in each comment\n",
    "df['upper_count'] = df['text'].apply(lambda x: len([c for c in x if c.isupper()]))\n",
    "\n",
    "# Count the number of lowercase words in each comment\n",
    "df['lower_count'] = df['text'].apply(lambda x: len([c for c in x if c.islower()]))\n",
    "\n",
    "# Count the number of words in each comment\n",
    "df['word_count'] = df['text'].apply(lambda x: len(x.split()))\n",
    "\n",
    "# Count the number of stopwords in each comment\n",
    "from nltk.corpus import stopwords\n",
    "stop = stopwords.words('english')\n",
    "df['stopwords_count'] = df['text'].apply(lambda x: len([c for c in x.split() if c in stop]))\n",
    "\n",
    "# Count the number of unique words in each comment\n",
    "df['unique_words_count'] = df['text'].apply(lambda x: len(set(x.split())))\n",
    "df.head()\n",
    "\n"
   ]
  },
  {
   "cell_type": "code",
   "execution_count": 14,
   "id": "ac0de0d7",
   "metadata": {
    "tags": []
   },
   "outputs": [
    {
     "data": {
      "image/png": "[encoded data removed]",
      "text/plain": [
       "<Figure size 1000x600 with 1 Axes>"
      ]
     },
     "metadata": {},
     "output_type": "display_data"
    }
   ],
   "source": [
    "# Plot the distribution of the word count\n",
    "\n",
    "plt.figure(figsize=(10, 6))\n",
    "plt.hist(df['word_count'], bins=100, color='blue')\n",
    "plt.title('Distribution of the Word Count')\n",
    "plt.xlabel('Word Count')\n",
    "plt.ylabel('Frequency')\n",
    "plt.show()"
   ]
  },
  {
   "cell_type": "code",
   "execution_count": 31,
   "id": "2bd307fe",
   "metadata": {
    "tags": []
   },
   "outputs": [],
   "source": [
    "# Plot the distribution of the stopword count"
   ]
  },
  {
   "cell_type": "code",
   "execution_count": 32,
   "id": "c383d742",
   "metadata": {
    "tags": []
   },
   "outputs": [],
   "source": [
    "# Apply bag of words to the dataset\n",
    "\n",
    "from sklearn.feature_extraction.text import CountVectorizer\n",
    "cv = CountVectorizer()\n",
    "bag_of_words = cv.fit_transform(df['text']).toarray()\n"
   ]
  },
  {
   "cell_type": "code",
   "execution_count": 33,
   "id": "26e6a091",
   "metadata": {
    "tags": []
   },
   "outputs": [
    {
     "data": {
      "text/plain": [
       "array(['00', '000', '004', ..., 'ٱلز', 'ٱلس', 'ٱلل'], dtype=object)"
      ]
     },
     "execution_count": 33,
     "metadata": {},
     "output_type": "execute_result"
    }
   ],
   "source": [
    "cv.get_feature_names_out()"
   ]
  },
  {
   "cell_type": "code",
   "execution_count": 34,
   "id": "91853549",
   "metadata": {
    "tags": []
   },
   "outputs": [
    {
     "data": {
      "text/html": [
       "<div>\n",
       "<style scoped>\n",
       "    .dataframe tbody tr th:only-of-type {\n",
       "        vertical-align: middle;\n",
       "    }\n",
       "\n",
       "    .dataframe tbody tr th {\n",
       "        vertical-align: top;\n",
       "    }\n",
       "\n",
       "    .dataframe thead th {\n",
       "        text-align: right;\n",
       "    }\n",
       "</style>\n",
       "<table border=\"1\" class=\"dataframe\">\n",
       "  <thead>\n",
       "    <tr style=\"text-align: right;\">\n",
       "      <th></th>\n",
       "      <th>00</th>\n",
       "      <th>000</th>\n",
       "      <th>004</th>\n",
       "      <th>005</th>\n",
       "      <th>008</th>\n",
       "      <th>009</th>\n",
       "      <th>01</th>\n",
       "      <th>0131</th>\n",
       "      <th>02</th>\n",
       "      <th>03</th>\n",
       "      <th>...</th>\n",
       "      <th>يمكن</th>\n",
       "      <th>ين</th>\n",
       "      <th>يه</th>\n",
       "      <th>يهودية</th>\n",
       "      <th>يوميا</th>\n",
       "      <th>ٱل</th>\n",
       "      <th>ٱلذ</th>\n",
       "      <th>ٱلز</th>\n",
       "      <th>ٱلس</th>\n",
       "      <th>ٱلل</th>\n",
       "    </tr>\n",
       "  </thead>\n",
       "  <tbody>\n",
       "    <tr>\n",
       "      <th>0</th>\n",
       "      <td>0</td>\n",
       "      <td>0</td>\n",
       "      <td>0</td>\n",
       "      <td>0</td>\n",
       "      <td>0</td>\n",
       "      <td>0</td>\n",
       "      <td>0</td>\n",
       "      <td>0</td>\n",
       "      <td>0</td>\n",
       "      <td>0</td>\n",
       "      <td>...</td>\n",
       "      <td>0</td>\n",
       "      <td>0</td>\n",
       "      <td>0</td>\n",
       "      <td>0</td>\n",
       "      <td>0</td>\n",
       "      <td>0</td>\n",
       "      <td>0</td>\n",
       "      <td>0</td>\n",
       "      <td>0</td>\n",
       "      <td>0</td>\n",
       "    </tr>\n",
       "    <tr>\n",
       "      <th>1</th>\n",
       "      <td>0</td>\n",
       "      <td>0</td>\n",
       "      <td>0</td>\n",
       "      <td>0</td>\n",
       "      <td>0</td>\n",
       "      <td>0</td>\n",
       "      <td>0</td>\n",
       "      <td>0</td>\n",
       "      <td>0</td>\n",
       "      <td>0</td>\n",
       "      <td>...</td>\n",
       "      <td>0</td>\n",
       "      <td>0</td>\n",
       "      <td>0</td>\n",
       "      <td>0</td>\n",
       "      <td>0</td>\n",
       "      <td>0</td>\n",
       "      <td>0</td>\n",
       "      <td>0</td>\n",
       "      <td>0</td>\n",
       "      <td>0</td>\n",
       "    </tr>\n",
       "    <tr>\n",
       "      <th>2</th>\n",
       "      <td>0</td>\n",
       "      <td>0</td>\n",
       "      <td>0</td>\n",
       "      <td>0</td>\n",
       "      <td>0</td>\n",
       "      <td>0</td>\n",
       "      <td>0</td>\n",
       "      <td>0</td>\n",
       "      <td>0</td>\n",
       "      <td>0</td>\n",
       "      <td>...</td>\n",
       "      <td>0</td>\n",
       "      <td>0</td>\n",
       "      <td>0</td>\n",
       "      <td>0</td>\n",
       "      <td>0</td>\n",
       "      <td>0</td>\n",
       "      <td>0</td>\n",
       "      <td>0</td>\n",
       "      <td>0</td>\n",
       "      <td>0</td>\n",
       "    </tr>\n",
       "    <tr>\n",
       "      <th>3</th>\n",
       "      <td>0</td>\n",
       "      <td>0</td>\n",
       "      <td>0</td>\n",
       "      <td>0</td>\n",
       "      <td>0</td>\n",
       "      <td>0</td>\n",
       "      <td>0</td>\n",
       "      <td>0</td>\n",
       "      <td>0</td>\n",
       "      <td>0</td>\n",
       "      <td>...</td>\n",
       "      <td>0</td>\n",
       "      <td>0</td>\n",
       "      <td>0</td>\n",
       "      <td>0</td>\n",
       "      <td>0</td>\n",
       "      <td>0</td>\n",
       "      <td>0</td>\n",
       "      <td>0</td>\n",
       "      <td>0</td>\n",
       "      <td>0</td>\n",
       "    </tr>\n",
       "    <tr>\n",
       "      <th>4</th>\n",
       "      <td>0</td>\n",
       "      <td>0</td>\n",
       "      <td>0</td>\n",
       "      <td>0</td>\n",
       "      <td>0</td>\n",
       "      <td>0</td>\n",
       "      <td>0</td>\n",
       "      <td>0</td>\n",
       "      <td>0</td>\n",
       "      <td>0</td>\n",
       "      <td>...</td>\n",
       "      <td>0</td>\n",
       "      <td>0</td>\n",
       "      <td>0</td>\n",
       "      <td>0</td>\n",
       "      <td>0</td>\n",
       "      <td>0</td>\n",
       "      <td>0</td>\n",
       "      <td>0</td>\n",
       "      <td>0</td>\n",
       "      <td>0</td>\n",
       "    </tr>\n",
       "    <tr>\n",
       "      <th>...</th>\n",
       "      <td>...</td>\n",
       "      <td>...</td>\n",
       "      <td>...</td>\n",
       "      <td>...</td>\n",
       "      <td>...</td>\n",
       "      <td>...</td>\n",
       "      <td>...</td>\n",
       "      <td>...</td>\n",
       "      <td>...</td>\n",
       "      <td>...</td>\n",
       "      <td>...</td>\n",
       "      <td>...</td>\n",
       "      <td>...</td>\n",
       "      <td>...</td>\n",
       "      <td>...</td>\n",
       "      <td>...</td>\n",
       "      <td>...</td>\n",
       "      <td>...</td>\n",
       "      <td>...</td>\n",
       "      <td>...</td>\n",
       "      <td>...</td>\n",
       "    </tr>\n",
       "    <tr>\n",
       "      <th>28638</th>\n",
       "      <td>0</td>\n",
       "      <td>0</td>\n",
       "      <td>0</td>\n",
       "      <td>0</td>\n",
       "      <td>0</td>\n",
       "      <td>0</td>\n",
       "      <td>0</td>\n",
       "      <td>0</td>\n",
       "      <td>0</td>\n",
       "      <td>0</td>\n",
       "      <td>...</td>\n",
       "      <td>0</td>\n",
       "      <td>0</td>\n",
       "      <td>0</td>\n",
       "      <td>0</td>\n",
       "      <td>0</td>\n",
       "      <td>0</td>\n",
       "      <td>0</td>\n",
       "      <td>0</td>\n",
       "      <td>0</td>\n",
       "      <td>0</td>\n",
       "    </tr>\n",
       "    <tr>\n",
       "      <th>28639</th>\n",
       "      <td>0</td>\n",
       "      <td>0</td>\n",
       "      <td>0</td>\n",
       "      <td>0</td>\n",
       "      <td>0</td>\n",
       "      <td>0</td>\n",
       "      <td>0</td>\n",
       "      <td>0</td>\n",
       "      <td>0</td>\n",
       "      <td>0</td>\n",
       "      <td>...</td>\n",
       "      <td>0</td>\n",
       "      <td>0</td>\n",
       "      <td>0</td>\n",
       "      <td>0</td>\n",
       "      <td>0</td>\n",
       "      <td>0</td>\n",
       "      <td>0</td>\n",
       "      <td>0</td>\n",
       "      <td>0</td>\n",
       "      <td>0</td>\n",
       "    </tr>\n",
       "    <tr>\n",
       "      <th>28640</th>\n",
       "      <td>0</td>\n",
       "      <td>0</td>\n",
       "      <td>0</td>\n",
       "      <td>0</td>\n",
       "      <td>0</td>\n",
       "      <td>0</td>\n",
       "      <td>0</td>\n",
       "      <td>0</td>\n",
       "      <td>0</td>\n",
       "      <td>0</td>\n",
       "      <td>...</td>\n",
       "      <td>0</td>\n",
       "      <td>0</td>\n",
       "      <td>0</td>\n",
       "      <td>0</td>\n",
       "      <td>0</td>\n",
       "      <td>0</td>\n",
       "      <td>0</td>\n",
       "      <td>0</td>\n",
       "      <td>0</td>\n",
       "      <td>0</td>\n",
       "    </tr>\n",
       "    <tr>\n",
       "      <th>28641</th>\n",
       "      <td>0</td>\n",
       "      <td>0</td>\n",
       "      <td>0</td>\n",
       "      <td>0</td>\n",
       "      <td>0</td>\n",
       "      <td>0</td>\n",
       "      <td>0</td>\n",
       "      <td>0</td>\n",
       "      <td>0</td>\n",
       "      <td>0</td>\n",
       "      <td>...</td>\n",
       "      <td>0</td>\n",
       "      <td>0</td>\n",
       "      <td>0</td>\n",
       "      <td>0</td>\n",
       "      <td>0</td>\n",
       "      <td>0</td>\n",
       "      <td>0</td>\n",
       "      <td>0</td>\n",
       "      <td>0</td>\n",
       "      <td>0</td>\n",
       "    </tr>\n",
       "    <tr>\n",
       "      <th>28642</th>\n",
       "      <td>0</td>\n",
       "      <td>0</td>\n",
       "      <td>0</td>\n",
       "      <td>0</td>\n",
       "      <td>0</td>\n",
       "      <td>0</td>\n",
       "      <td>0</td>\n",
       "      <td>0</td>\n",
       "      <td>0</td>\n",
       "      <td>0</td>\n",
       "      <td>...</td>\n",
       "      <td>0</td>\n",
       "      <td>0</td>\n",
       "      <td>0</td>\n",
       "      <td>0</td>\n",
       "      <td>0</td>\n",
       "      <td>0</td>\n",
       "      <td>0</td>\n",
       "      <td>0</td>\n",
       "      <td>0</td>\n",
       "      <td>0</td>\n",
       "    </tr>\n",
       "  </tbody>\n",
       "</table>\n",
       "<p>28643 rows × 23269 columns</p>\n",
       "</div>"
      ],
      "text/plain": [
       "       00  000  004  005  008  009  01  0131  02  03  ...  يمكن  ين  يه  \\\n",
       "0       0    0    0    0    0    0   0     0   0   0  ...     0   0   0   \n",
       "1       0    0    0    0    0    0   0     0   0   0  ...     0   0   0   \n",
       "2       0    0    0    0    0    0   0     0   0   0  ...     0   0   0   \n",
       "3       0    0    0    0    0    0   0     0   0   0  ...     0   0   0   \n",
       "4       0    0    0    0    0    0   0     0   0   0  ...     0   0   0   \n",
       "...    ..  ...  ...  ...  ...  ...  ..   ...  ..  ..  ...   ...  ..  ..   \n",
       "28638   0    0    0    0    0    0   0     0   0   0  ...     0   0   0   \n",
       "28639   0    0    0    0    0    0   0     0   0   0  ...     0   0   0   \n",
       "28640   0    0    0    0    0    0   0     0   0   0  ...     0   0   0   \n",
       "28641   0    0    0    0    0    0   0     0   0   0  ...     0   0   0   \n",
       "28642   0    0    0    0    0    0   0     0   0   0  ...     0   0   0   \n",
       "\n",
       "       يهودية  يوميا  ٱل  ٱلذ  ٱلز  ٱلس  ٱلل  \n",
       "0           0      0   0    0    0    0    0  \n",
       "1           0      0   0    0    0    0    0  \n",
       "2           0      0   0    0    0    0    0  \n",
       "3           0      0   0    0    0    0    0  \n",
       "4           0      0   0    0    0    0    0  \n",
       "...       ...    ...  ..  ...  ...  ...  ...  \n",
       "28638       0      0   0    0    0    0    0  \n",
       "28639       0      0   0    0    0    0    0  \n",
       "28640       0      0   0    0    0    0    0  \n",
       "28641       0      0   0    0    0    0    0  \n",
       "28642       0      0   0    0    0    0    0  \n",
       "\n",
       "[28643 rows x 23269 columns]"
      ]
     },
     "execution_count": 34,
     "metadata": {},
     "output_type": "execute_result"
    }
   ],
   "source": [
    "feature_names = cv.get_feature_names_out()\n",
    "pd.DataFrame(bag_of_words, columns = feature_names)"
   ]
  },
  {
   "cell_type": "markdown",
   "id": "75877723",
   "metadata": {},
   "source": [
    "### Perform Clean up and data analysis"
   ]
  },
  {
   "cell_type": "code",
   "execution_count": null,
   "id": "0611480d",
   "metadata": {},
   "outputs": [],
   "source": [
    "import nltk\n",
    "from nltk.tokenize import sent_tokenize\n",
    "import string\n",
    "from nltk.corpus import stopwords\n",
    "from nltk import word_tokenize"
   ]
  },
  {
   "cell_type": "code",
   "execution_count": null,
   "id": "c07f9082",
   "metadata": {},
   "outputs": [],
   "source": [
    "#sentence tokinization\n",
    "\n",
    "df['sent_token']=df.text.apply(sent_tokenize)"
   ]
  },
  {
   "cell_type": "code",
   "execution_count": null,
   "id": "7651738a",
   "metadata": {},
   "outputs": [],
   "source": [
    "df[df.sent_token.str.len()>4]"
   ]
  },
  {
   "cell_type": "code",
   "execution_count": null,
   "id": "23b015e8",
   "metadata": {},
   "outputs": [],
   "source": [
    "#removing other non alphabetic words \n",
    "\n",
    "df['word_english_aplha']=df['text'].replace('[^\\w\\s]','')"
   ]
  },
  {
   "cell_type": "code",
   "execution_count": null,
   "id": "501ad3fe",
   "metadata": {},
   "outputs": [],
   "source": [
    "df[df['word_english_aplha'].str.contains('ٱلس')]"
   ]
  },
  {
   "cell_type": "code",
   "execution_count": null,
   "id": "0bc9924f",
   "metadata": {},
   "outputs": [],
   "source": [
    "def clean_column(dataframe):\n",
    "\n",
    "    \"\"\"\n",
    "    arg: passing the text column\n",
    "    \n",
    "    function: check for non-alpha values using ascii method, remove digits, remove punctuation, special characters,\n",
    "    word tokenization,stopword removal and unwanted white space\n",
    "    \n",
    "    return: new column named cleaned_v_1\n",
    "    \"\"\"\n",
    "    #making sure we are just passing the right column onlu\n",
    "    comment= dataframe.text\n",
    "    # removing no alpha values\n",
    "    comment = re.sub(r'[^\\w\\s,]', '', comment)\n",
    "    #removing new line character \n",
    "    comment = re.sub(r'\\n','',comment)\n",
    "        #removing unwanted characters.\n",
    "    # not using ,. because it might lead to joining to words if there is no space\n",
    "    comment=''.join([y.lower() for y in comment if y.isalpha() or y in \" ,.'\"])\n",
    "    #removing . , / and other special character\n",
    "    comment= re.sub(r'[\\,\\.\\']',' ',comment)\n",
    "    # digits and non- ascii value removal --> as our text contains non-english words\n",
    "    comment = re.sub(r'\\d+', '', comment)\n",
    "    comment = ''.join(letter for letter in comment if ord(letter) < 128)\n",
    "    # punctuation\n",
    "    comment = comment.translate(str.maketrans('', '', string.punctuation))\n",
    "    #extra white spaces are found, revoming that\n",
    "    comment = re.sub(r'\\s{2,}', '', comment)\n",
    "    #initializing the stop words present in NLTK lib\n",
    "    stop_words=stopwords.words('english')\n",
    "    #adding few stopwords using extend method\n",
    "    addd=[ 'd','ll', 'm', 'o', 're', 've', 'y', 'ma','even','ur','u']\n",
    "   \n",
    "    #set is used to remove the stopwords easily\n",
    "    stop_words=set(stop_words)\n",
    "    # after doing research on the stopwords, we are  modifying the stopwords to avoid deleting the negations\n",
    "    remov_list=[\"wouldn't\",\"wouldn\",\"won't\",\"won\",\"weren't\",\"weren\",\"wasn't\",\"wasn\",\"shouldn't\",\"shouldn\",\"shan't\",\"shan\",\"needn't\",\"needn\",\"mustn't\",\"mustn\",\"mightn't\",\"mightn\",\"isn't\",\"isn\",\"haven't\",\"haven\",\"hasn't\",\"hasn\",\"hadn't\",\"hadn\",\"doesn't\",\"didn't\",\"didn\",\"couldn't\",\"couldn\",\"aren't\",\"aren\",\"ain\",\"don't\",\"don\",\"not\",\"no\",\"nor\"]\n",
    "    for words in remov_list:\n",
    "        stop_words.discard(words)\n",
    "    for words in addd:\n",
    "        stop_words.add(words)\n",
    "    token = word_tokenize(comment.lower())\n",
    "    \n",
    "    token = [word for word in token if word not in stop_words]\n",
    "    token=\" \".join(token)\n",
    "    \n",
    "    if not token:\n",
    "          return np.NaN #creating nan values for the empty string length\n",
    "    return token\n",
    "\n",
    "df['cleaned_v_1'] = df.apply(clean_column, axis=1)"
   ]
  },
  {
   "cell_type": "code",
   "execution_count": null,
   "id": "360dec20",
   "metadata": {},
   "outputs": [],
   "source": [
    "#chekcing the non-english word removal\n",
    "\n",
    "df.iloc[17247]['cleaned_v_1']"
   ]
  },
  {
   "cell_type": "code",
   "execution_count": null,
   "id": "7fda069e",
   "metadata": {},
   "outputs": [],
   "source": [
    "def token_(text):\n",
    "    \"\"\"\n",
    "    arg: passing the cleaned_v_1 column\n",
    "    \n",
    "    function: creating a word_token column with empty list for nan values\n",
    "    \n",
    "    return: new column named word_tokens\n",
    "    \"\"\"\n",
    "    #checking for text cell only\n",
    "    if isinstance(text,str): \n",
    "        word_tok=word_tokenize(text.lower())\n",
    "        return(word_tok)\n",
    "    #for empty cell\n",
    "    else:\n",
    "        return([])\n",
    "\n",
    "df['word_tokens']=df['cleaned_v_1'].apply(token_)"
   ]
  },
  {
   "cell_type": "code",
   "execution_count": null,
   "id": "9cc27a5c",
   "metadata": {},
   "outputs": [],
   "source": [
    "def word_cloud_label(col_name,lab,colr):\n",
    "    \"\"\"\n",
    "    arg: passing the column name, label required, color of the plot\n",
    "    \n",
    "    function: word cloud\n",
    "    \n",
    "    return: plt.show()\n",
    "    \"\"\"\n",
    "    word = df[df['label']==lab][col_name].tolist()\n",
    "    if col_name=='word_tokens':\n",
    "        word = [flatt for ls in word for flatt in ls]\n",
    "\n",
    "    word = ' '.join(word)\n",
    "    # Create and generate a word cloud image:\n",
    "    wordcloud_ = WordCloud(width=800, height=400,background_color=colr).generate(word)\n",
    "    # Display the generated image:\n",
    "    plt.figure(figsize=(10, 5))\n",
    "    plt.imshow(wordcloud_, interpolation='bilinear')\n",
    "    plt.axis(\"off\")\n",
    "    plt.show()"
   ]
  },
  {
   "cell_type": "code",
   "execution_count": null,
   "id": "b099b84a",
   "metadata": {},
   "outputs": [],
   "source": [
    "#unprocessed text word cloud --> non-toxic\n",
    "\n",
    "word_cloud_label('text',0,'black')"
   ]
  },
  {
   "cell_type": "code",
   "execution_count": null,
   "id": "930910b6",
   "metadata": {},
   "outputs": [],
   "source": [
    "#processed word-token word cloud--> non-toxic\n",
    "\n",
    "word_cloud_label('word_tokens',0,'white')"
   ]
  },
  {
   "cell_type": "code",
   "execution_count": null,
   "id": "e7ad075a",
   "metadata": {},
   "outputs": [],
   "source": [
    "#unprocessed text word cloud ==> toxi\n",
    "\n",
    "word_cloud_label('text',1,'black')"
   ]
  },
  {
   "cell_type": "code",
   "execution_count": null,
   "id": "51ba468c",
   "metadata": {},
   "outputs": [],
   "source": [
    "#processed word-token word cloud--> toxic\n",
    "\n",
    "word_cloud_label('word_tokens',1,'white')"
   ]
  },
  {
   "cell_type": "code",
   "execution_count": null,
   "id": "86ce96c9",
   "metadata": {},
   "outputs": [],
   "source": [
    "df"
   ]
  },
  {
   "cell_type": "code",
   "execution_count": null,
   "id": "b169e5a5",
   "metadata": {},
   "outputs": [],
   "source": [
    "def data_info(df_):\n",
    "    print(df_.info(),'\\n',\"=\"*50,'\\n')\n",
    "    print(df_.shape,'\\n',\"=\"*50,'\\n')\n",
    "    print(df_.size,'\\n',\"=\"*50,'\\n')\n",
    "    print(df.columns,'\\n',\"=\"*50,'\\n')\n",
    "    print(df.isnull().sum(),'\\n',\"=\"*50,'\\n')"
   ]
  },
  {
   "cell_type": "code",
   "execution_count": null,
   "id": "0ce66750",
   "metadata": {},
   "outputs": [],
   "source": [
    "data_info(df)"
   ]
  },
  {
   "cell_type": "code",
   "execution_count": null,
   "id": "8e93f4c9",
   "metadata": {},
   "outputs": [],
   "source": [
    "from nltk.stem import WordNetLemmatizer\n",
    "lem = WordNetLemmatizer()\n",
    "lem.lemmatize('dove',pos = 'v')"
   ]
  },
  {
   "cell_type": "markdown",
   "id": "3de45ec6",
   "metadata": {},
   "source": [
    "### experiment 1 --> lemma --> verb"
   ]
  },
  {
   "cell_type": "code",
   "execution_count": null,
   "id": "0b802e5d",
   "metadata": {},
   "outputs": [],
   "source": [
    "df['word_tokens_v'] = df['word_tokens'].apply(lambda x: [lem.lemmatize(y,pos='v') for y in x])"
   ]
  },
  {
   "cell_type": "markdown",
   "id": "c381279a",
   "metadata": {},
   "source": [
    "# use either of columns 'word_tokens' or 'word_tokens_v' for processing and training "
   ]
  },
  {
   "cell_type": "code",
   "execution_count": null,
   "id": "68be0dd1",
   "metadata": {},
   "outputs": [],
   "source": [
    "df.head()"
   ]
  },
  {
   "cell_type": "markdown",
   "id": "8ffa8eca",
   "metadata": {},
   "source": [
    "### 3. Model Building Mock"
   ]
  },
  {
   "cell_type": "code",
   "execution_count": null,
   "id": "82c4a5be",
   "metadata": {},
   "outputs": [],
   "source": [
    "dataset_mock = df[['text', 'label']].copy()\n",
    "\n",
    "dataset_mock.head()"
   ]
  },
  {
   "cell_type": "markdown",
   "id": "8913914c",
   "metadata": {},
   "source": [
    " ### 3.1 Data Cleaning and Preprocessing"
   ]
  },
  {
   "cell_type": "code",
   "execution_count": null,
   "id": "baab13e6",
   "metadata": {},
   "outputs": [],
   "source": [
    "## Check Duplicate Values\n",
    "import pprint\n",
    "\n",
    "pprint.pprint(dataset_mock[dataset_mock.duplicated()])\n",
    "\n",
    "## Remove Duplicate Values\n",
    "dataset_mock.drop_duplicates(inplace=True)\n"
   ]
  },
  {
   "cell_type": "code",
   "execution_count": null,
   "id": "dc08ac4f",
   "metadata": {},
   "outputs": [],
   "source": [
    "pprint.pprint(dataset_mock[dataset_mock.duplicated()])"
   ]
  },
  {
   "cell_type": "markdown",
   "id": "f3de7481",
   "metadata": {},
   "source": [
    "For now, I will create a function to clean the data text, and then I will use it to train the model. Although this should ideally be done in separate steps, I will proceed with both tasks in a single step for now.\n",
    "\n",
    "I won't be using any stemming just lemmatization for now."
   ]
  },
  {
   "cell_type": "code",
   "execution_count": null,
   "id": "cd8887aa",
   "metadata": {},
   "outputs": [],
   "source": [
    "\n",
    "# Move this libarries to\n",
    "import pandas as pd\n",
    "import re\n",
    "\n",
    "def clean_text(text):\n",
    "    # Convert to lowercase\n",
    "    text = text.lower()\n",
    "\n",
    "    # Remove special characters and numbers\n",
    "    text = re.sub(r'[^a-zA-Z\\s]', '', text)\n",
    "\n",
    "    return text"
   ]
  },
  {
   "cell_type": "code",
   "execution_count": null,
   "id": "3e6b4391",
   "metadata": {},
   "outputs": [],
   "source": [
    "dataset_mock['cleaned_text'] = df['text'].apply(clean_text)"
   ]
  },
  {
   "cell_type": "code",
   "execution_count": null,
   "id": "e4506efd",
   "metadata": {},
   "outputs": [],
   "source": [
    "dataset_mock.tail()"
   ]
  },
  {
   "cell_type": "markdown",
   "id": "fe86e835",
   "metadata": {},
   "source": [
    "### Experiment 1:Lemmatization and POS tagging\n",
    "\n",
    "- stemming - > NO\n",
    "- Lowercasing -> Yes\n",
    "- Removing special characters -> Yes\n",
    "- Tokenization-> Yes\n"
   ]
  },
  {
   "cell_type": "code",
   "execution_count": null,
   "id": "e64bc7dc",
   "metadata": {},
   "outputs": [],
   "source": [
    "from nltk import pos_tag, word_tokenize\n",
    "from nltk.corpus import stopwords, wordnet\n",
    "from nltk.stem import WordNetLemmatizer\n",
    "\n",
    "class LemmaTokenizer:\n",
    "    def __init__(self):\n",
    "        self.download_assets()\n",
    "        self.wnl = WordNetLemmatizer()\n",
    "        self.stopwords = set(stopwords.words(\"english\"))\n",
    "\n",
    "    @classmethod\n",
    "    def download_assets(cls)->None:\n",
    "        \"\"\"\n",
    "        Download the necessary assets for the tokenizer\n",
    "\n",
    "        :return: None\n",
    "        \"\"\"\n",
    "        nltk.download(\"stopwords\", quiet=True)\n",
    "        nltk.download(\"wordnet\", quiet=True)\n",
    "        nltk.download(\"punkt\", quiet=True)\n",
    "        nltk.download(\"omw-1.4\", quiet=True)\n",
    "        nltk.download(\"averaged_perceptron_tagger\", quiet=True)\n",
    "\n",
    "    def __call__(self, doc):\n",
    "        \"\"\"\n",
    "        Tokenize and lemmatize the document\n",
    "\n",
    "        :param doc: The document to tokenize and lemmatize\n",
    "\n",
    "        :return: The tokenized and lemmatized document\n",
    "        \"\"\"\n",
    "        nltk_tagged = pos_tag(word_tokenize(doc))\n",
    "        wordnet_tagged = ((x[0], self.nltk_pos_tagger(x[1])) for x in nltk_tagged)\n",
    "\n",
    "        return [\n",
    "            self.wnl.lemmatize(token, tag)\n",
    "            for token, tag in wordnet_tagged\n",
    "            if token not in self.stopwords and any(c.isalpha() for c in token)\n",
    "        ]\n",
    "\n",
    "    def nltk_pos_tagger(self, nltk_tag):\n",
    "        \"\"\"\n",
    "        Convert the nltk tag to wordnet tag\n",
    "\n",
    "        :param nltk_tag: The nltk tag\n",
    "\n",
    "        :return: The wordnet tag\n",
    "        \"\"\"\n",
    "        if nltk_tag.startswith(\"J\"):\n",
    "            return wordnet.ADJ\n",
    "        elif nltk_tag.startswith(\"V\"):\n",
    "            return wordnet.VERB\n",
    "        elif nltk_tag.startswith(\"N\"):\n",
    "            return wordnet.NOUN\n",
    "        elif nltk_tag.startswith(\"R\"):\n",
    "            return wordnet.ADV\n",
    "        else:\n",
    "            return wordnet.NOUN"
   ]
  },
  {
   "cell_type": "markdown",
   "id": "7f388690",
   "metadata": {},
   "source": [
    "#### Split the data into train and test"
   ]
  },
  {
   "cell_type": "code",
   "execution_count": null,
   "id": "687412a8",
   "metadata": {},
   "outputs": [],
   "source": [
    "#Move to the top\n",
    "from sklearn.model_selection import train_test_split\n",
    "\n",
    "def split_data(df, test_size):\n",
    "    \"\"\"\n",
    "    Split the data into training and testing\n",
    "\n",
    "    :param df: The dataframe to split\n",
    "    :param test_size: The size of the testing data\n",
    "\n",
    "    :return: The training and testing data\n",
    "    \"\"\"\n",
    "    if not isinstance(df, pd.DataFrame):\n",
    "        raise ValueError(\"df must be a pandas DataFrame\")\n",
    "\n",
    "    if not isinstance(test_size, float):\n",
    "        raise ValueError(\"test_size must be a float\")\n",
    "    \n",
    "    if test_size <= 0 or test_size >= 1:\n",
    "        raise ValueError(\"test_size must be a float between 0 and 1\")\n",
    "    \n",
    "    # Check in the columns are present\n",
    "    if \"text\" not in df.columns or \"label\" not in df.columns:\n",
    "        raise ValueError(\"df must have a 'text' and 'label' column\")\n",
    "    else:\n",
    "        x_raw, y = df[\"text\"], df[\"label\"]\n",
    "        x_train, x_test, y_train, y_test = train_test_split(\n",
    "            x_raw.values, y.values, test_size=test_size, stratify=y, random_state=0\n",
    "        )\n",
    "        x_train, x_test = x_train.flatten(), x_test.flatten()\n",
    "        return x_train, x_test, y_train, y_test\n",
    "    \n"
   ]
  },
  {
   "cell_type": "code",
   "execution_count": null,
   "id": "73cc2760",
   "metadata": {},
   "outputs": [],
   "source": [
    "test_size = 0.1\n",
    "x_train, x_test, y_train, y_test = split_data(dataset_mock, test_size)"
   ]
  },
  {
   "cell_type": "markdown",
   "id": "fcda2a3a",
   "metadata": {},
   "source": [
    "#### Vectorization and Tokenization"
   ]
  },
  {
   "cell_type": "code",
   "execution_count": null,
   "id": "5b48df8c",
   "metadata": {},
   "outputs": [],
   "source": [
    "from sklearn.feature_extraction.text import CountVectorizer\n",
    "\n",
    "vectorizer = CountVectorizer(\n",
    "    tokenizer=LemmaTokenizer(),\n",
    "    strip_accents=\"unicode\", # Remove accents and perform other character normalization\n",
    "    ngram_range=(1, 2), # Use unigrams and bigrams\n",
    "    min_df=0.0005, # Ignore terms that have a document frequency strictly lower than the given threshold\n",
    "    max_df=0.8, # Ignore terms that have a document frequency strictly higher than the given threshold\n",
    ")"
   ]
  },
  {
   "cell_type": "markdown",
   "id": "58cfe2a9",
   "metadata": {},
   "source": [
    "#### Model Naive Bayes"
   ]
  },
  {
   "cell_type": "code",
   "execution_count": null,
   "id": "8fcbf10d",
   "metadata": {},
   "outputs": [],
   "source": [
    "import pandas as pd\n",
    "from sklearn.metrics import accuracy_score, balanced_accuracy_score, f1_score\n",
    "from sklearn.naive_bayes import MultinomialNB\n",
    "from sklearn.pipeline import Pipeline\n",
    "\n",
    "clf = MultinomialNB()\n",
    "\n",
    "pipeline = Pipeline([(\"vectorizer\", vectorizer), (\"clf\", clf)])\n",
    "\n",
    "print(\"Model training\")\n",
    "pipeline.fit(x_train, y_train)\n",
    "\n",
    "print(\"Model evaluation\")\n",
    "pipeline.score(x_test, y_test)\n",
    "y_pred_test = pipeline.predict(x_test)\n",
    "\n",
    "f1 = f1_score(y_test, y_pred_test, average=\"macro\")\n",
    "print(balanced_accuracy_score(y_test, y_pred_test))\n",
    "accuracy_score(y_test, y_pred_test)\n",
    "\n",
    "num_features_basic = vectorizer.transform(x_test).shape[1]"
   ]
  },
  {
   "cell_type": "code",
   "execution_count": null,
   "id": "7e8c3c6f",
   "metadata": {},
   "outputs": [],
   "source": [
    "## Plot the confusion matrix\n",
    "\n",
    "import matplotlib.pyplot as plt\n",
    "import seaborn as sns\n",
    "from sklearn.metrics import confusion_matrix\n",
    "\n",
    "confusion_matrix(y_test, y_pred_test, labels=[0, 1])"
   ]
  },
  {
   "cell_type": "code",
   "execution_count": null,
   "id": "9d9f5309",
   "metadata": {},
   "outputs": [],
   "source": [
    "y_test"
   ]
  },
  {
   "cell_type": "code",
   "execution_count": null,
   "id": "9c84f99d",
   "metadata": {},
   "outputs": [],
   "source": [
    "y_pred_test"
   ]
  },
  {
   "cell_type": "code",
   "execution_count": null,
   "id": "2751d4d4",
   "metadata": {},
   "outputs": [],
   "source": [
    "print(f\"Number of features: {num_features_basic}\")\n",
    "print(f\"Accuracy: {accuracy_score(y_test, y_pred_test)}\")\n",
    "print(f\"F1 Score: {f1}\")\n",
    "\n",
    "from sklearn.metrics import confusion_matrix\n",
    "import seaborn as sns\n",
    "import matplotlib.pyplot as plt\n",
    "\n",
    "def plot_confusion_matrix(y_true, y_pred, labels):\n",
    "    \"\"\"\n",
    "    Plot the confusion matrix\n",
    "\n",
    "    :param y_true: The true labels\n",
    "    :param y_pred: The predicted labels\n",
    "    :param labels: The labels to use\n",
    "    \"\"\"\n",
    "    cm = confusion_matrix(y_true, y_pred, labels=labels)\n",
    "    ax = plt.subplot()\n",
    "    sns.heatmap(cm, annot=True, fmt=\"d\", cmap=\"Blues\", ax=ax)\n",
    "    ax.set_xlabel(\"Predicted labels\")\n",
    "    ax.set_ylabel(\"True labels\")\n",
    "    ax.set_title(\"Confusion Matrix\")\n",
    "    ax.xaxis.set_ticklabels(labels)\n",
    "    ax.yaxis.set_ticklabels(labels)\n",
    "    plt.show()\n",
    "\n",
    "plot_confusion_matrix(y_test, y_pred_test, [1, 0])"
   ]
  },
  {
   "cell_type": "code",
   "execution_count": null,
   "id": "c0076315",
   "metadata": {},
   "outputs": [],
   "source": [
    "### Model Evaluation\n",
    "\n",
    "from sklearn.metrics import classification_report\n",
    "\n",
    "print(classification_report(y_test, y_pred_test))\n"
   ]
  },
  {
   "cell_type": "markdown",
   "id": "3e0962da",
   "metadata": {},
   "source": [
    "#### Model Testing"
   ]
  },
  {
   "cell_type": "code",
   "execution_count": null,
   "id": "9a376d8e",
   "metadata": {},
   "outputs": [],
   "source": [
    "## Save the model\n",
    "\n",
    "import joblib\n",
    "\n",
    "joblib.dump(pipeline, \"model.pkl\")\n",
    "\n",
    "## Load the model\n",
    "\n",
    "model = joblib.load(\"model.pkl\")\n",
    "\n",
    "model.score(x_test, y_test)\n",
    "\n",
    "## Predict"
   ]
  },
  {
   "cell_type": "markdown",
   "id": "b2da77af",
   "metadata": {},
   "source": [
    "I gonna predict some sentences and check the accuracy of the model using a new data from Youtube comments. i saved in csv in public drive."
   ]
  },
  {
   "cell_type": "code",
   "execution_count": null,
   "id": "12bc7a00",
   "metadata": {},
   "outputs": [],
   "source": [
    "!pip install googledrivedownloader"
   ]
  },
  {
   "cell_type": "code",
   "execution_count": null,
   "id": "b4513b1b",
   "metadata": {},
   "outputs": [],
   "source": [
    "### Python Code to dowload file from google drive\n",
    "\n",
    "from google_drive_downloader import GoogleDriveDownloader as gdd\n",
    "gdd.download_file_from_google_drive(file_id='1URSwK6HKKbD2LLokDZI4xhzSj07ShkXm', dest_path='./test_youtube.csv')\n"
   ]
  },
  {
   "cell_type": "code",
   "execution_count": null,
   "id": "6bc4cfe8",
   "metadata": {},
   "outputs": [],
   "source": [
    "you_tube_data = pd.read_csv('test_youtube.csv')\n",
    "\n",
    "you_tube_data.head()"
   ]
  },
  {
   "cell_type": "code",
   "execution_count": null,
   "id": "47c1873c",
   "metadata": {},
   "outputs": [],
   "source": [
    "## Select the text column and IsToxic column True\n",
    "\n",
    "you_tube_data = you_tube_data[[\"Text\", \"IsToxic\"]]\n",
    "you_tube_data.head()\n",
    "\n",
    "#Create New Column Wiit prediction \n",
    "\n",
    "you_tube_data[\"Predicted\"] = model.predict(you_tube_data[\"Text\"])\n",
    "\n"
   ]
  },
  {
   "cell_type": "code",
   "execution_count": null,
   "id": "a652b2af",
   "metadata": {},
   "outputs": [],
   "source": [
    "you_tube_data.head()"
   ]
  },
  {
   "cell_type": "code",
   "execution_count": null,
   "id": "f8f373fc",
   "metadata": {},
   "outputs": [],
   "source": []
  }
 ],
 "metadata": {
  "kernelspec": {
   "display_name": "Python 3 (ipykernel)",
   "language": "python",
   "name": "python3"
  },
  "language_info": {
   "codemirror_mode": {
    "name": "ipython",
    "version": 3
   },
   "file_extension": ".py",
   "mimetype": "text/x-python",
   "name": "python",
   "nbconvert_exporter": "python",
   "pygments_lexer": "ipython3",
   "version": "3.11.5"
  }
 },
 "nbformat": 4,
 "nbformat_minor": 5
}
