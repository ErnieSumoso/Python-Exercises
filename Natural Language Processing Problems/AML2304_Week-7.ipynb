{
 "cells": [
  {
   "cell_type": "markdown",
   "id": "7c73bdc3-9003-4be6-a5ec-154bcfa35da8",
   "metadata": {},
   "source": [
    "### Ernie Sumoso Vicuna\n",
    "### ID: 881591\n",
    "### Week 6"
   ]
  },
  {
   "cell_type": "markdown",
   "id": "b9f0cbd3-1257-4b36-8a09-e060bc40a3bb",
   "metadata": {},
   "source": [
    "1- Find the similarity between any two words.\n",
    "\n",
    "Input :\n",
    "\n",
    "- word1=\"amazing\"\n",
    "- word2=\"terrible\"\n",
    "- word3=\"excellent\"\n",
    "\n",
    "Desired Output:\n",
    "\n",
    "- #> similarity between amazing and terrible is 0.46189071343764604\n",
    "- #> similarity between amazing and excellent is 0.6388207086737778"
   ]
  },
  {
   "cell_type": "code",
   "execution_count": 19,
   "id": "853eef1d-5f4d-4f63-8a18-02c80f2a7c66",
   "metadata": {
    "tags": []
   },
   "outputs": [
    {
     "name": "stdout",
     "output_type": "stream",
     "text": [
      "[Synset('amaze.v.01'), Synset('perplex.v.01'), Synset('amazing.s.01'), Synset('amazing.s.02')]\n",
      "[Synset('awful.s.02'), Synset('atrocious.s.02'), Synset('severe.s.01'), Synset('frightful.s.02')]\n",
      "amazing.s.01 None\n"
     ]
    },
    {
     "ename": "AttributeError",
     "evalue": "'NoneType' object has no attribute 'lower'",
     "output_type": "error",
     "traceback": [
      "\u001b[1;31m---------------------------------------------------------------------------\u001b[0m",
      "\u001b[1;31mAttributeError\u001b[0m                            Traceback (most recent call last)",
      "Cell \u001b[1;32mIn[19], line 20\u001b[0m\n\u001b[0;32m     17\u001b[0m     s2 \u001b[38;5;241m=\u001b[39m wordnet\u001b[38;5;241m.\u001b[39msynset(name2)\n\u001b[0;32m     18\u001b[0m     \u001b[38;5;28;01mreturn\u001b[39;00m s1\u001b[38;5;241m.\u001b[39mwup_similarity(s2)\n\u001b[1;32m---> 20\u001b[0m get_similarty(\u001b[38;5;124m\"\u001b[39m\u001b[38;5;124mamazing\u001b[39m\u001b[38;5;124m\"\u001b[39m, \u001b[38;5;124m\"\u001b[39m\u001b[38;5;124mterrible\u001b[39m\u001b[38;5;124m\"\u001b[39m)\n",
      "Cell \u001b[1;32mIn[19], line 17\u001b[0m, in \u001b[0;36mget_similarty\u001b[1;34m(w1, w2)\u001b[0m\n\u001b[0;32m     15\u001b[0m \u001b[38;5;28mprint\u001b[39m(name1, name2)\n\u001b[0;32m     16\u001b[0m s1 \u001b[38;5;241m=\u001b[39m wordnet\u001b[38;5;241m.\u001b[39msynset(name1)\n\u001b[1;32m---> 17\u001b[0m s2 \u001b[38;5;241m=\u001b[39m wordnet\u001b[38;5;241m.\u001b[39msynset(name2)\n\u001b[0;32m     18\u001b[0m \u001b[38;5;28;01mreturn\u001b[39;00m s1\u001b[38;5;241m.\u001b[39mwup_similarity(s2)\n",
      "File \u001b[1;32mD:\\Anaconda\\Lib\\site-packages\\nltk\\corpus\\reader\\wordnet.py:1493\u001b[0m, in \u001b[0;36mWordNetCorpusReader.synset\u001b[1;34m(self, name)\u001b[0m\n\u001b[0;32m   1491\u001b[0m \u001b[38;5;28;01mdef\u001b[39;00m \u001b[38;5;21msynset\u001b[39m(\u001b[38;5;28mself\u001b[39m, name):\n\u001b[0;32m   1492\u001b[0m     \u001b[38;5;66;03m# split name into lemma, part of speech and synset number\u001b[39;00m\n\u001b[1;32m-> 1493\u001b[0m     lemma, pos, synset_index_str \u001b[38;5;241m=\u001b[39m name\u001b[38;5;241m.\u001b[39mlower()\u001b[38;5;241m.\u001b[39mrsplit(\u001b[38;5;124m\"\u001b[39m\u001b[38;5;124m.\u001b[39m\u001b[38;5;124m\"\u001b[39m, \u001b[38;5;241m2\u001b[39m)\n\u001b[0;32m   1494\u001b[0m     synset_index \u001b[38;5;241m=\u001b[39m \u001b[38;5;28mint\u001b[39m(synset_index_str) \u001b[38;5;241m-\u001b[39m \u001b[38;5;241m1\u001b[39m\n\u001b[0;32m   1496\u001b[0m     \u001b[38;5;66;03m# get the offset for this synset\u001b[39;00m\n",
      "\u001b[1;31mAttributeError\u001b[0m: 'NoneType' object has no attribute 'lower'"
     ]
    }
   ],
   "source": [
    "import nltk\n",
    "from nltk.corpus import wordnet\n",
    "\n",
    "def get_syn_name_match(w, syns):\n",
    "    print(syns)\n",
    "    for syn in syns:\n",
    "        if syn.name().split('.')[0] == w:\n",
    "            return syn.name()\n",
    "    \n",
    "def get_similarty(w1, w2):\n",
    "    syns1 = wordnet.synsets(w1) # [i].name().split('.')[0]\n",
    "    syns2 = wordnet.synsets(w2)\n",
    "    name1 = get_syn_name_match(w1, syns1)\n",
    "    name2 = get_syn_name_match(w2, syns2)\n",
    "    print(name1, name2)\n",
    "    s1 = wordnet.synset(name1)\n",
    "    s2 = wordnet.synset(name2)\n",
    "    return s1.wup_similarity(s2)\n",
    "\n",
    "get_similarty(\"amazing\", \"terrible\")"
   ]
  },
  {
   "cell_type": "markdown",
   "id": "e0318768-b29a-4f9a-be9c-69d03818bbc6",
   "metadata": {},
   "source": [
    "2-Find the similarity between any two text documents\n",
    "\n",
    "Input :\n",
    "- text1=\"John lives in Canada\"\n",
    "- text2=\"James lives in America, though he's not from there\"\n",
    "\n",
    "Desired Output :\n",
    " 0.792817083631068"
   ]
  },
  {
   "cell_type": "code",
   "execution_count": null,
   "id": "f5f957c6-d530-49ed-b0f4-835344130b9e",
   "metadata": {},
   "outputs": [],
   "source": []
  },
  {
   "cell_type": "markdown",
   "id": "1477d64f-f354-4c6c-9872-d61a99e4a714",
   "metadata": {},
   "source": [
    "3- How to detect the language of entered text with Spacy ?\n",
    "\n",
    "Q. Find out the language of the given text\n",
    "\n",
    "Input :\n",
    "\n",
    "text= \"El agente imprime su pase de abordaje. Los oficiales de seguridad del aeropuerto pasan junto a él con un perro grande. El perro está olfateando alrededor del equipaje de las personas tratando de detectar drogas o explosivos.\"\n",
    "\n",
    "Desired Output:\n",
    "\n",
    "{'language': 'es', 'score': 0.9999963653206719}\n",
    "\n",
    " El agente imprime su pase de abordaje. {'language': 'es', 'score': 0.9999969081229643} "
   ]
  },
  {
   "cell_type": "code",
   "execution_count": null,
   "id": "e1f12cc7-f024-4da8-ac1f-3d32ca76ed0e",
   "metadata": {},
   "outputs": [],
   "source": []
  }
 ],
 "metadata": {
  "kernelspec": {
   "display_name": "Python 3 (ipykernel)",
   "language": "python",
   "name": "python3"
  },
  "language_info": {
   "codemirror_mode": {
    "name": "ipython",
    "version": 3
   },
   "file_extension": ".py",
   "mimetype": "text/x-python",
   "name": "python",
   "nbconvert_exporter": "python",
   "pygments_lexer": "ipython3",
   "version": "3.11.4"
  }
 },
 "nbformat": 4,
 "nbformat_minor": 5
}
