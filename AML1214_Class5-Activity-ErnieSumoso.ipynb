{
 "cells": [
  {
   "cell_type": "code",
   "execution_count": 30,
   "id": "12e9221b-66ef-4308-86a8-c40e0755e26b",
   "metadata": {
    "tags": []
   },
   "outputs": [
    {
     "name": "stdout",
     "output_type": "stream",
     "text": [
      "I like Pepperoni pizza\n",
      "I like Hawaian pizza\n",
      "I like Vegetarian pizza\n",
      "I really love pizza!\n"
     ]
    }
   ],
   "source": [
    "# Ernie Sumoso 881591\n",
    "# 4.1 Pizzas\n",
    "pizzas = ['Pepperoni', 'Hawaian', 'Vegetarian']\n",
    "for pizza in pizzas:\n",
    "    print(f'I like {pizza} pizza')\n",
    "print('I really love pizza!')"
   ]
  },
  {
   "cell_type": "code",
   "execution_count": 33,
   "id": "3f7c54e5-ca5d-470e-8fce-82340474cc3b",
   "metadata": {
    "tags": []
   },
   "outputs": [
    {
     "name": "stdout",
     "output_type": "stream",
     "text": [
      "A rat will make a great pet\n",
      "A hamster will make a great pet\n",
      "A squirrel will make a great pet\n",
      "Any of these animals run too fast!\n"
     ]
    }
   ],
   "source": [
    "# 4.2 Animals\n",
    "animals = ['rat', 'hamster', 'squirrel']\n",
    "for animal in animals:\n",
    "    print(f'A {animal} will make a great pet') \n",
    "print('Any of these animals run too fast!')"
   ]
  },
  {
   "cell_type": "code",
   "execution_count": 38,
   "id": "269c5a86-a776-4bcf-b3c5-6977f7072b6b",
   "metadata": {
    "tags": []
   },
   "outputs": [
    {
     "name": "stdout",
     "output_type": "stream",
     "text": [
      "1 2 3 4 5 6 7 8 9 10 11 12 13 14 15 16 17 18 19 20 "
     ]
    }
   ],
   "source": [
    "# 4.3 Counting to twenty\n",
    "for number in range(20):\n",
    "    print(number+1, end=\" \")\n",
    "    # we should add 1 because the range is 0-19\n",
    "    # we are also changing the end to a white space"
   ]
  },
  {
   "cell_type": "code",
   "execution_count": 44,
   "id": "4cae66a9-7e23-4dec-be2f-97423adc3e13",
   "metadata": {
    "tags": []
   },
   "outputs": [],
   "source": [
    "# 4.4 One Million\n",
    "lst = [x for x in range(1,1000001)] # list comprehension of 1 million numbers ( 1 to 1M)\n",
    "for num in lst:\n",
    "    #print(num, end=\" \")\n",
    "    pass\n",
    "\n",
    "# to print the 1 million numbers, uncomment the 4th line of code\n",
    "# be aware that it will fill your screen"
   ]
  },
  {
   "cell_type": "code",
   "execution_count": 46,
   "id": "f3b00e41-3f0f-45e3-a821-5432209c40cd",
   "metadata": {
    "tags": []
   },
   "outputs": [
    {
     "name": "stdout",
     "output_type": "stream",
     "text": [
      "1\n",
      "1000000\n",
      "500000500000\n"
     ]
    }
   ],
   "source": [
    "# 4.5 Summing a Million\n",
    "lst = [x for x in range(1,1000001)] # list comprehension of 1 million numbers ( 1 to 1M)\n",
    "print(min(lst)) # the first number of the list\n",
    "print(max(lst)) # last number of the list\n",
    "print(sum(lst)) # the sum of numbers of the list"
   ]
  },
  {
   "cell_type": "code",
   "execution_count": 49,
   "id": "0aacab2d-6339-407a-b0ab-2e2adeb44151",
   "metadata": {
    "tags": []
   },
   "outputs": [
    {
     "name": "stdout",
     "output_type": "stream",
     "text": [
      "1 3 5 7 9 11 13 15 17 19 "
     ]
    }
   ],
   "source": [
    "# 4.6 Odd Numbers\n",
    "odds = [x for x in range(1,20,2)] # list comprehension of odd numbers from 1 to 20\n",
    "for odd in odds:\n",
    "    print(odd, end=\" \") # printing odd numbers"
   ]
  },
  {
   "cell_type": "code",
   "execution_count": 55,
   "id": "e79ae7b7-0156-4c7f-8e16-00cf95dc603d",
   "metadata": {
    "tags": []
   },
   "outputs": [
    {
     "name": "stdout",
     "output_type": "stream",
     "text": [
      "The restaurant is offering rice\n",
      "The restaurant is offering potato\n",
      "The restaurant is offering carrot\n",
      "The restaurant is offering eggs\n",
      "The restaurant is offering chicken\n",
      "The revised menu is:\n",
      "The restaurant is offering pork\n",
      "The restaurant is offering sweet potato\n",
      "The restaurant is offering carrot\n",
      "The restaurant is offering eggs\n",
      "The restaurant is offering chicken\n"
     ]
    },
    {
     "ename": "TypeError",
     "evalue": "'tuple' object does not support item assignment",
     "output_type": "error",
     "traceback": [
      "\u001b[1;31m---------------------------------------------------------------------------\u001b[0m",
      "\u001b[1;31mTypeError\u001b[0m                                 Traceback (most recent call last)",
      "Cell \u001b[1;32mIn[55], line 13\u001b[0m\n\u001b[0;32m     10\u001b[0m     \u001b[38;5;28mprint\u001b[39m(\u001b[38;5;124mf\u001b[39m\u001b[38;5;124m'\u001b[39m\u001b[38;5;124mThe restaurant is offering \u001b[39m\u001b[38;5;132;01m{\u001b[39;00mfood\u001b[38;5;132;01m}\u001b[39;00m\u001b[38;5;124m'\u001b[39m)\n\u001b[0;32m     12\u001b[0m \u001b[38;5;66;03m# trying to modifiy one of the food\u001b[39;00m\n\u001b[1;32m---> 13\u001b[0m food_tuple[\u001b[38;5;241m0\u001b[39m] \u001b[38;5;241m=\u001b[39m \u001b[38;5;124m'\u001b[39m\u001b[38;5;124mpork\u001b[39m\u001b[38;5;124m'\u001b[39m\n",
      "\u001b[1;31mTypeError\u001b[0m: 'tuple' object does not support item assignment"
     ]
    }
   ],
   "source": [
    "# 4.13 Buffet\n",
    "food_tuple = ('rice', 'potato', 'carrot', 'eggs', 'chicken')\n",
    "for food in food_tuple:\n",
    "    print(f'The restaurant is offering {food}')\n",
    "\n",
    "# defining a new menu\n",
    "food_tuple = ('pork', 'sweet potato', 'carrot', 'eggs', 'chicken')\n",
    "print('The revised menu is:')\n",
    "for food in food_tuple:\n",
    "    print(f'The restaurant is offering {food}')\n",
    "    \n",
    "# trying to modifiy one of the food\n",
    "food_tuple[0] = 'pork' # this throws an error as tuples are unmutable"
   ]
  },
  {
   "cell_type": "code",
   "execution_count": 57,
   "id": "b90673e1-0ad9-48c3-8938-a03a65397a9f",
   "metadata": {
    "tags": []
   },
   "outputs": [
    {
     "name": "stdout",
     "output_type": "stream",
     "text": [
      "The size of the shirt is 20 and the text is 'YAHOO'\n",
      "The size of the shirt is 19 and the text is 'NICE'\n"
     ]
    }
   ],
   "source": [
    "# 8.3 T-Shirt\n",
    "def make_shirt(size, text):\n",
    "    print(f\"The size of the shirt is {size} and the text is '{text}'\")\n",
    "    \n",
    "make_shirt(20, 'YAHOO')\n",
    "make_shirt(text='NICE', size=19)\n",
    "    "
   ]
  },
  {
   "cell_type": "code",
   "execution_count": 58,
   "id": "4d726adc-4ca6-47a8-8125-185692221fa9",
   "metadata": {
    "tags": []
   },
   "outputs": [
    {
     "name": "stdout",
     "output_type": "stream",
     "text": [
      "The size of the shirt is Medium and the text is 'I love Python'\n",
      "The size of the shirt is Large and the text is 'I love Python'\n",
      "The size of the shirt is Large and the text is 'NEW WORLD'\n"
     ]
    }
   ],
   "source": [
    "# 8.4 Large Shirt\n",
    "def make_shirt(size='Large', text='I love Python'):\n",
    "    print(f\"The size of the shirt is {size} and the text is '{text}'\")\n",
    "\n",
    "make_shirt('Medium')\n",
    "make_shirt()\n",
    "make_shirt(text='NEW WORLD')"
   ]
  },
  {
   "cell_type": "code",
   "execution_count": 59,
   "id": "ffe9f1c5-3c83-4791-8473-ac7e1a1a0439",
   "metadata": {
    "tags": []
   },
   "outputs": [
    {
     "name": "stdout",
     "output_type": "stream",
     "text": [
      "Tokyo is in Japan\n",
      "Alberta is in Canada\n",
      "Toronto is in Canada\n"
     ]
    }
   ],
   "source": [
    "# 8.5 Cities\n",
    "def describe_city(name, country='Canada'):\n",
    "    print(f'{name} is in {country}')\n",
    "\n",
    "describe_city('Tokyo','Japan')\n",
    "describe_city('Alberta')\n",
    "describe_city('Toronto')"
   ]
  },
  {
   "cell_type": "code",
   "execution_count": 61,
   "id": "d62b5a1d-3629-49e7-ba61-e987dfe7aad1",
   "metadata": {
    "tags": []
   },
   "outputs": [
    {
     "name": "stdout",
     "output_type": "stream",
     "text": [
      "Vancouver, Canada\n",
      "Lima, Peru\n",
      "Beijing, China\n"
     ]
    }
   ],
   "source": [
    "# 8.6 City Names\n",
    "def describe_city(name, country='Canada'):\n",
    "    print(f'{name}, {country}')\n",
    "\n",
    "describe_city('Vancouver','Canada')\n",
    "describe_city('Lima','Peru')\n",
    "describe_city('Beijing','China')"
   ]
  },
  {
   "cell_type": "code",
   "execution_count": 65,
   "id": "3f4dfc2f-8b67-4c9b-9444-dff3873f21d8",
   "metadata": {
    "tags": []
   },
   "outputs": [
    {
     "name": "stdout",
     "output_type": "stream",
     "text": [
      "{'artist_name': 'Megadeth', 'album_title': 'Hangar 18', 'number_songs': 9}\n",
      "{'artist_name': 'Kill em All', 'album_title': 'Metallica'}\n",
      "{'artist_name': 'And Justice for All', 'album_title': 'Metallica', 'number_songs': 12}\n"
     ]
    }
   ],
   "source": [
    "# 8.7 Album\n",
    "def make_album(artist_name, album_title, number_songs=None):\n",
    "    if number_songs is None:\n",
    "        return {'artist_name': artist_name, 'album_title':album_title}\n",
    "    else:\n",
    "        return {'artist_name': artist_name, 'album_title':album_title, 'number_songs':number_songs}\n",
    "\n",
    "album1 = make_album('Megadeth', 'Hangar 18', 9)\n",
    "album2 = make_album('Kill em All', 'Metallica')\n",
    "album3 = make_album('And Justice for All', 'Metallica', 12)\n",
    "\n",
    "# printing dictionaries\n",
    "print(album1)\n",
    "print(album2)\n",
    "print(album3)"
   ]
  },
  {
   "cell_type": "code",
   "execution_count": 67,
   "id": "0adf3651-8d19-449e-b59f-d8b3c3bd3f9d",
   "metadata": {
    "tags": []
   },
   "outputs": [
    {
     "name": "stdin",
     "output_type": "stream",
     "text": [
      "Please provide an artist. To exit write \"quit\" Little Dragon\n",
      "Please provide an album. To exit write \"quit\" Dance\n"
     ]
    },
    {
     "name": "stdout",
     "output_type": "stream",
     "text": [
      "Your album is:\n",
      "{'artist_name': 'Little Dragon', 'album_title': 'Dance'}\n"
     ]
    },
    {
     "name": "stdin",
     "output_type": "stream",
     "text": [
      "Please provide an artist. To exit write \"quit\" quit\n",
      "Please provide an album. To exit write \"quit\" quit\n"
     ]
    }
   ],
   "source": [
    "# 8.8 User Albums\n",
    "while True:\n",
    "    artist_name = input('Please provide an artist. To exit write \"quit\"') # ask for an artist and an album\n",
    "    album_name = input('Please provide an album. To exit write \"quit\"')\n",
    "    if artist_name.lower() == 'quit' or album_name.lower() == 'quit': # quit the program if the user input 'quit'\n",
    "        print('You are exiting the program.')\n",
    "        break\n",
    "    album = make_album(artist_name, album_name) # make the album and print it\n",
    "    print('Your album is:')\n",
    "    print(album)\n"
   ]
  }
 ],
 "metadata": {
  "kernelspec": {
   "display_name": "Python 3 (ipykernel)",
   "language": "python",
   "name": "python3"
  },
  "language_info": {
   "codemirror_mode": {
    "name": "ipython",
    "version": 3
   },
   "file_extension": ".py",
   "mimetype": "text/x-python",
   "name": "python",
   "nbconvert_exporter": "python",
   "pygments_lexer": "ipython3",
   "version": "3.11.4"
  }
 },
 "nbformat": 4,
 "nbformat_minor": 5
}
