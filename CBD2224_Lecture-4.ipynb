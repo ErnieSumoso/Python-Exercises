{
 "cells": [
  {
   "cell_type": "markdown",
   "id": "066f0e8f-7c38-46a1-b56d-3b5fcbf67b42",
   "metadata": {},
   "source": [
    "### What are the different methods that data can be categorized?\n",
    "- Structured data: tabular format\n",
    "- Unstructured data: images, videos, audio files\n",
    "- Semi-structured data: JSON, XML files, which have their own pre-defined structure\n",
    "---\n",
    "- Human generated: usually stored in databases; generated through the interaction of users with systems\n",
    "- Machine generated: meta-data which holds information about the data, data about the data"
   ]
  },
  {
   "cell_type": "markdown",
   "id": "5df0cbd8-bb24-4433-8657-674c0d07aa5c",
   "metadata": {},
   "source": [
    "### What are some sources of data?\n",
    "- Relational databases, non-relational databases are a common source of enterprise data\n",
    "- Data warehouse also stores data and enables big data\n",
    "- Datasets, online datasets, from sources like Kaggle, or many other repositories\n",
    "- Web scrapping: extract content / data from websites\n",
    "- Sensors that capture data from the real world"
   ]
  },
  {
   "cell_type": "markdown",
   "id": "e6a9bfb8-eead-4020-9f55-41a0b1dcca52",
   "metadata": {},
   "source": [
    "### How many data types are there?\n",
    "- Primitive data types:\n",
    "- integer, character, float, double, boolean\n",
    "- Non-primitive data types: more complex\n",
    "- arrays, lists, binary trees, hash maps, strings, etc.\n",
    "---\n",
    "- Numerical (Quantitative): discrete, continuous\n",
    "- Categorical (Qualitative): ordinal (binary), nominal"
   ]
  },
  {
   "cell_type": "markdown",
   "id": "6ad3808b-5910-46d5-a1b4-885d60fda3c5",
   "metadata": {},
   "source": [
    "### What is the difference between structured, unstructured and semi-structured data? Mention some examples\n",
    "- Structured data can be easily processed by algorithms, can apply batch processing, real-time processing, machine learning models, and more. (Ex.: DataFrame, relational db tables)\n",
    "- Unstructured data need to be pre processed first, before feeding them into most algorithms. Because these can not directly understand the content of unstructured data. (Ex.: imgaes, video, audio)\n",
    "- Semi-structured data holds some kind of structure, but still needs to be pre processed. (Ex.: JSON, XML, CSV)"
   ]
  },
  {
   "cell_type": "code",
   "execution_count": 1,
   "id": "40c75ec8-6ef8-41cf-a779-d1805ac9211d",
   "metadata": {
    "tags": []
   },
   "outputs": [
    {
     "data": {
      "text/plain": [
       "72"
      ]
     },
     "execution_count": 1,
     "metadata": {},
     "output_type": "execute_result"
    }
   ],
   "source": [
    "n1, n2 = 13, 14\n",
    "int(str(n1)[::-1]) + int(str(n2)[::-1])"
   ]
  },
  {
   "cell_type": "code",
   "execution_count": 2,
   "id": "9ec3afd0-efef-4351-a73a-305607e9ffc5",
   "metadata": {
    "tags": []
   },
   "outputs": [
    {
     "data": {
      "text/html": [
       "<div>\n",
       "<style scoped>\n",
       "    .dataframe tbody tr th:only-of-type {\n",
       "        vertical-align: middle;\n",
       "    }\n",
       "\n",
       "    .dataframe tbody tr th {\n",
       "        vertical-align: top;\n",
       "    }\n",
       "\n",
       "    .dataframe thead th {\n",
       "        text-align: right;\n",
       "    }\n",
       "</style>\n",
       "<table border=\"1\" class=\"dataframe\">\n",
       "  <thead>\n",
       "    <tr style=\"text-align: right;\">\n",
       "      <th></th>\n",
       "      <th>A</th>\n",
       "      <th>B</th>\n",
       "    </tr>\n",
       "  </thead>\n",
       "  <tbody>\n",
       "    <tr>\n",
       "      <th>0</th>\n",
       "      <td>1</td>\n",
       "      <td>5</td>\n",
       "    </tr>\n",
       "    <tr>\n",
       "      <th>1</th>\n",
       "      <td>2</td>\n",
       "      <td>6</td>\n",
       "    </tr>\n",
       "    <tr>\n",
       "      <th>2</th>\n",
       "      <td>3</td>\n",
       "      <td>7</td>\n",
       "    </tr>\n",
       "    <tr>\n",
       "      <th>3</th>\n",
       "      <td>4</td>\n",
       "      <td>8</td>\n",
       "    </tr>\n",
       "  </tbody>\n",
       "</table>\n",
       "</div>"
      ],
      "text/plain": [
       "   A  B\n",
       "0  1  5\n",
       "1  2  6\n",
       "2  3  7\n",
       "3  4  8"
      ]
     },
     "execution_count": 2,
     "metadata": {},
     "output_type": "execute_result"
    }
   ],
   "source": [
    "import pandas as pd\n",
    "\n",
    "# Example Series\n",
    "data = {'A': [1,2,3,4], 'B':[5,6,7,8]}\n",
    "df = pd.DataFrame(data)\n",
    "df"
   ]
  },
  {
   "cell_type": "code",
   "execution_count": 3,
   "id": "b9b6894f-edfa-4199-b755-f1b781e8048e",
   "metadata": {
    "tags": []
   },
   "outputs": [
    {
     "data": {
      "text/html": [
       "<div>\n",
       "<style scoped>\n",
       "    .dataframe tbody tr th:only-of-type {\n",
       "        vertical-align: middle;\n",
       "    }\n",
       "\n",
       "    .dataframe tbody tr th {\n",
       "        vertical-align: top;\n",
       "    }\n",
       "\n",
       "    .dataframe thead th {\n",
       "        text-align: right;\n",
       "    }\n",
       "</style>\n",
       "<table border=\"1\" class=\"dataframe\">\n",
       "  <thead>\n",
       "    <tr style=\"text-align: right;\">\n",
       "      <th></th>\n",
       "      <th>A</th>\n",
       "      <th>B</th>\n",
       "    </tr>\n",
       "  </thead>\n",
       "  <tbody>\n",
       "    <tr>\n",
       "      <th>0</th>\n",
       "      <td>one</td>\n",
       "      <td>5</td>\n",
       "    </tr>\n",
       "    <tr>\n",
       "      <th>1</th>\n",
       "      <td>two</td>\n",
       "      <td>6</td>\n",
       "    </tr>\n",
       "    <tr>\n",
       "      <th>2</th>\n",
       "      <td>three</td>\n",
       "      <td>7</td>\n",
       "    </tr>\n",
       "    <tr>\n",
       "      <th>3</th>\n",
       "      <td>four</td>\n",
       "      <td>8</td>\n",
       "    </tr>\n",
       "  </tbody>\n",
       "</table>\n",
       "</div>"
      ],
      "text/plain": [
       "       A  B\n",
       "0    one  5\n",
       "1    two  6\n",
       "2  three  7\n",
       "3   four  8"
      ]
     },
     "execution_count": 3,
     "metadata": {},
     "output_type": "execute_result"
    }
   ],
   "source": [
    "# Using map on a Series\n",
    "df['A'] = df['A'].map({1:'one', 2:'two', 3:'three', 4:'four'}) # can affect only certain column\n",
    "df"
   ]
  },
  {
   "cell_type": "code",
   "execution_count": 4,
   "id": "5982b80e-0a37-4d51-9bc2-bb915d99d32f",
   "metadata": {
    "tags": []
   },
   "outputs": [
    {
     "data": {
      "text/html": [
       "<div>\n",
       "<style scoped>\n",
       "    .dataframe tbody tr th:only-of-type {\n",
       "        vertical-align: middle;\n",
       "    }\n",
       "\n",
       "    .dataframe tbody tr th {\n",
       "        vertical-align: top;\n",
       "    }\n",
       "\n",
       "    .dataframe thead th {\n",
       "        text-align: right;\n",
       "    }\n",
       "</style>\n",
       "<table border=\"1\" class=\"dataframe\">\n",
       "  <thead>\n",
       "    <tr style=\"text-align: right;\">\n",
       "      <th></th>\n",
       "      <th>A</th>\n",
       "      <th>B</th>\n",
       "    </tr>\n",
       "  </thead>\n",
       "  <tbody>\n",
       "    <tr>\n",
       "      <th>0</th>\n",
       "      <td>2</td>\n",
       "      <td>10</td>\n",
       "    </tr>\n",
       "    <tr>\n",
       "      <th>1</th>\n",
       "      <td>4</td>\n",
       "      <td>12</td>\n",
       "    </tr>\n",
       "    <tr>\n",
       "      <th>2</th>\n",
       "      <td>6</td>\n",
       "      <td>14</td>\n",
       "    </tr>\n",
       "    <tr>\n",
       "      <th>3</th>\n",
       "      <td>8</td>\n",
       "      <td>16</td>\n",
       "    </tr>\n",
       "  </tbody>\n",
       "</table>\n",
       "</div>"
      ],
      "text/plain": [
       "   A   B\n",
       "0  2  10\n",
       "1  4  12\n",
       "2  6  14\n",
       "3  8  16"
      ]
     },
     "execution_count": 4,
     "metadata": {},
     "output_type": "execute_result"
    }
   ],
   "source": [
    "df = pd.DataFrame(data)\n",
    "df = df.applymap(lambda x : x*2) # will affect entire dataset\n",
    "df"
   ]
  },
  {
   "cell_type": "code",
   "execution_count": 5,
   "id": "656d69f1-17a1-4d06-9eb0-71be294649b7",
   "metadata": {
    "tags": []
   },
   "outputs": [
    {
     "data": {
      "text/html": [
       "<div>\n",
       "<style scoped>\n",
       "    .dataframe tbody tr th:only-of-type {\n",
       "        vertical-align: middle;\n",
       "    }\n",
       "\n",
       "    .dataframe tbody tr th {\n",
       "        vertical-align: top;\n",
       "    }\n",
       "\n",
       "    .dataframe thead th {\n",
       "        text-align: right;\n",
       "    }\n",
       "</style>\n",
       "<table border=\"1\" class=\"dataframe\">\n",
       "  <thead>\n",
       "    <tr style=\"text-align: right;\">\n",
       "      <th></th>\n",
       "      <th>A</th>\n",
       "      <th>B</th>\n",
       "    </tr>\n",
       "  </thead>\n",
       "  <tbody>\n",
       "    <tr>\n",
       "      <th>0</th>\n",
       "      <td>4</td>\n",
       "      <td>10</td>\n",
       "    </tr>\n",
       "    <tr>\n",
       "      <th>1</th>\n",
       "      <td>8</td>\n",
       "      <td>12</td>\n",
       "    </tr>\n",
       "    <tr>\n",
       "      <th>2</th>\n",
       "      <td>12</td>\n",
       "      <td>14</td>\n",
       "    </tr>\n",
       "    <tr>\n",
       "      <th>3</th>\n",
       "      <td>16</td>\n",
       "      <td>16</td>\n",
       "    </tr>\n",
       "  </tbody>\n",
       "</table>\n",
       "</div>"
      ],
      "text/plain": [
       "    A   B\n",
       "0   4  10\n",
       "1   8  12\n",
       "2  12  14\n",
       "3  16  16"
      ]
     },
     "execution_count": 5,
     "metadata": {},
     "output_type": "execute_result"
    }
   ],
   "source": [
    "df['A'] = df['A'].apply(lambda x : x * 2) # apply to only 1 col\n",
    "df"
   ]
  },
  {
   "cell_type": "code",
   "execution_count": 6,
   "id": "0afda169-ad99-4777-86d5-d453f43bed20",
   "metadata": {
    "tags": []
   },
   "outputs": [
    {
     "data": {
      "text/plain": [
       "0    18\n",
       "1    19\n",
       "2    17\n",
       "3    13\n",
       "Name: email, dtype: int64"
      ]
     },
     "execution_count": 6,
     "metadata": {},
     "output_type": "execute_result"
    }
   ],
   "source": [
    "people = [{'first':'Jay','last':'Patel','email':'jay123@hotmail.com'},\n",
    "          {'first':'Aanal','last':'Patel','email':'aanal123@femail.com'},\n",
    "          {'first':'Bimal','last':'Stha','email':'bimal@hotmail.com'},\n",
    "          {'first':'Danilo','last':'Kabita','email':'bro@ohnou.com'}]\n",
    "people_df = pd.DataFrame(people)\n",
    "\n",
    "people_df['email'].apply(len)"
   ]
  },
  {
   "cell_type": "code",
   "execution_count": 7,
   "id": "f3cf39a1-2b7e-4648-b144-254a8574821d",
   "metadata": {
    "tags": []
   },
   "outputs": [],
   "source": [
    "def update_email(email):\n",
    "    return email.upper()"
   ]
  },
  {
   "cell_type": "code",
   "execution_count": 8,
   "id": "511ad641-9049-4500-a41b-be6ecd45b872",
   "metadata": {
    "tags": []
   },
   "outputs": [
    {
     "data": {
      "text/html": [
       "<div>\n",
       "<style scoped>\n",
       "    .dataframe tbody tr th:only-of-type {\n",
       "        vertical-align: middle;\n",
       "    }\n",
       "\n",
       "    .dataframe tbody tr th {\n",
       "        vertical-align: top;\n",
       "    }\n",
       "\n",
       "    .dataframe thead th {\n",
       "        text-align: right;\n",
       "    }\n",
       "</style>\n",
       "<table border=\"1\" class=\"dataframe\">\n",
       "  <thead>\n",
       "    <tr style=\"text-align: right;\">\n",
       "      <th></th>\n",
       "      <th>first</th>\n",
       "      <th>last</th>\n",
       "      <th>email</th>\n",
       "    </tr>\n",
       "  </thead>\n",
       "  <tbody>\n",
       "    <tr>\n",
       "      <th>0</th>\n",
       "      <td>Jay</td>\n",
       "      <td>Patel</td>\n",
       "      <td>JAY123@HOTMAIL.COM</td>\n",
       "    </tr>\n",
       "    <tr>\n",
       "      <th>1</th>\n",
       "      <td>Aanal</td>\n",
       "      <td>Patel</td>\n",
       "      <td>AANAL123@FEMAIL.COM</td>\n",
       "    </tr>\n",
       "    <tr>\n",
       "      <th>2</th>\n",
       "      <td>Bimal</td>\n",
       "      <td>Stha</td>\n",
       "      <td>BIMAL@HOTMAIL.COM</td>\n",
       "    </tr>\n",
       "    <tr>\n",
       "      <th>3</th>\n",
       "      <td>Danilo</td>\n",
       "      <td>Kabita</td>\n",
       "      <td>BRO@OHNOU.COM</td>\n",
       "    </tr>\n",
       "  </tbody>\n",
       "</table>\n",
       "</div>"
      ],
      "text/plain": [
       "    first    last                email\n",
       "0     Jay   Patel   JAY123@HOTMAIL.COM\n",
       "1   Aanal   Patel  AANAL123@FEMAIL.COM\n",
       "2   Bimal    Stha    BIMAL@HOTMAIL.COM\n",
       "3  Danilo  Kabita        BRO@OHNOU.COM"
      ]
     },
     "execution_count": 8,
     "metadata": {},
     "output_type": "execute_result"
    }
   ],
   "source": [
    "people_df['email'] = people_df['email'].apply(update_email)\n",
    "people_df"
   ]
  },
  {
   "cell_type": "code",
   "execution_count": 9,
   "id": "ec7ddf2e-7f96-423e-be0c-0d9867b7b176",
   "metadata": {
    "tags": []
   },
   "outputs": [
    {
     "data": {
      "text/html": [
       "<div>\n",
       "<style scoped>\n",
       "    .dataframe tbody tr th:only-of-type {\n",
       "        vertical-align: middle;\n",
       "    }\n",
       "\n",
       "    .dataframe tbody tr th {\n",
       "        vertical-align: top;\n",
       "    }\n",
       "\n",
       "    .dataframe thead th {\n",
       "        text-align: right;\n",
       "    }\n",
       "</style>\n",
       "<table border=\"1\" class=\"dataframe\">\n",
       "  <thead>\n",
       "    <tr style=\"text-align: right;\">\n",
       "      <th></th>\n",
       "      <th>first</th>\n",
       "      <th>last</th>\n",
       "      <th>email</th>\n",
       "      <th>full_name</th>\n",
       "    </tr>\n",
       "  </thead>\n",
       "  <tbody>\n",
       "    <tr>\n",
       "      <th>0</th>\n",
       "      <td>Jay</td>\n",
       "      <td>Patel</td>\n",
       "      <td>JAY123@HOTMAIL.COM</td>\n",
       "      <td>Jay Patel</td>\n",
       "    </tr>\n",
       "    <tr>\n",
       "      <th>1</th>\n",
       "      <td>Aanal</td>\n",
       "      <td>Patel</td>\n",
       "      <td>AANAL123@FEMAIL.COM</td>\n",
       "      <td>Aanal Patel</td>\n",
       "    </tr>\n",
       "    <tr>\n",
       "      <th>2</th>\n",
       "      <td>Bimal</td>\n",
       "      <td>Stha</td>\n",
       "      <td>BIMAL@HOTMAIL.COM</td>\n",
       "      <td>Bimal Stha</td>\n",
       "    </tr>\n",
       "    <tr>\n",
       "      <th>3</th>\n",
       "      <td>Danilo</td>\n",
       "      <td>Kabita</td>\n",
       "      <td>BRO@OHNOU.COM</td>\n",
       "      <td>Danilo Kabita</td>\n",
       "    </tr>\n",
       "  </tbody>\n",
       "</table>\n",
       "</div>"
      ],
      "text/plain": [
       "    first    last                email      full_name\n",
       "0     Jay   Patel   JAY123@HOTMAIL.COM      Jay Patel\n",
       "1   Aanal   Patel  AANAL123@FEMAIL.COM    Aanal Patel\n",
       "2   Bimal    Stha    BIMAL@HOTMAIL.COM     Bimal Stha\n",
       "3  Danilo  Kabita        BRO@OHNOU.COM  Danilo Kabita"
      ]
     },
     "execution_count": 9,
     "metadata": {},
     "output_type": "execute_result"
    }
   ],
   "source": [
    "people_df['full_name'] = people_df['first'] + ' ' + people_df['last']\n",
    "people_df"
   ]
  },
  {
   "cell_type": "code",
   "execution_count": 10,
   "id": "a6bcc8da-aaed-4e05-b14a-7cc6dd85fac1",
   "metadata": {
    "tags": []
   },
   "outputs": [
    {
     "data": {
      "text/html": [
       "<div>\n",
       "<style scoped>\n",
       "    .dataframe tbody tr th:only-of-type {\n",
       "        vertical-align: middle;\n",
       "    }\n",
       "\n",
       "    .dataframe tbody tr th {\n",
       "        vertical-align: top;\n",
       "    }\n",
       "\n",
       "    .dataframe thead th {\n",
       "        text-align: right;\n",
       "    }\n",
       "</style>\n",
       "<table border=\"1\" class=\"dataframe\">\n",
       "  <thead>\n",
       "    <tr style=\"text-align: right;\">\n",
       "      <th></th>\n",
       "      <th>email</th>\n",
       "      <th>full_name</th>\n",
       "    </tr>\n",
       "  </thead>\n",
       "  <tbody>\n",
       "    <tr>\n",
       "      <th>0</th>\n",
       "      <td>JAY123@HOTMAIL.COM</td>\n",
       "      <td>Jay Patel</td>\n",
       "    </tr>\n",
       "    <tr>\n",
       "      <th>1</th>\n",
       "      <td>AANAL123@FEMAIL.COM</td>\n",
       "      <td>Aanal Patel</td>\n",
       "    </tr>\n",
       "    <tr>\n",
       "      <th>2</th>\n",
       "      <td>BIMAL@HOTMAIL.COM</td>\n",
       "      <td>Bimal Stha</td>\n",
       "    </tr>\n",
       "    <tr>\n",
       "      <th>3</th>\n",
       "      <td>BRO@OHNOU.COM</td>\n",
       "      <td>Danilo Kabita</td>\n",
       "    </tr>\n",
       "  </tbody>\n",
       "</table>\n",
       "</div>"
      ],
      "text/plain": [
       "                 email      full_name\n",
       "0   JAY123@HOTMAIL.COM      Jay Patel\n",
       "1  AANAL123@FEMAIL.COM    Aanal Patel\n",
       "2    BIMAL@HOTMAIL.COM     Bimal Stha\n",
       "3        BRO@OHNOU.COM  Danilo Kabita"
      ]
     },
     "execution_count": 10,
     "metadata": {},
     "output_type": "execute_result"
    }
   ],
   "source": [
    "people_df.drop(columns = ['first', 'last'])"
   ]
  },
  {
   "cell_type": "code",
   "execution_count": 11,
   "id": "daf8aaa6-0e5c-43b5-b6cd-74353903b7ee",
   "metadata": {
    "tags": []
   },
   "outputs": [
    {
     "data": {
      "text/html": [
       "<div>\n",
       "<style scoped>\n",
       "    .dataframe tbody tr th:only-of-type {\n",
       "        vertical-align: middle;\n",
       "    }\n",
       "\n",
       "    .dataframe tbody tr th {\n",
       "        vertical-align: top;\n",
       "    }\n",
       "\n",
       "    .dataframe thead th {\n",
       "        text-align: right;\n",
       "    }\n",
       "</style>\n",
       "<table border=\"1\" class=\"dataframe\">\n",
       "  <thead>\n",
       "    <tr style=\"text-align: right;\">\n",
       "      <th></th>\n",
       "      <th>email</th>\n",
       "      <th>full_name</th>\n",
       "    </tr>\n",
       "  </thead>\n",
       "  <tbody>\n",
       "    <tr>\n",
       "      <th>0</th>\n",
       "      <td>JAY123@HOTMAIL.COM</td>\n",
       "      <td>Jay Patel</td>\n",
       "    </tr>\n",
       "    <tr>\n",
       "      <th>1</th>\n",
       "      <td>AANAL123@FEMAIL.COM</td>\n",
       "      <td>Aanal Patel</td>\n",
       "    </tr>\n",
       "    <tr>\n",
       "      <th>2</th>\n",
       "      <td>BIMAL@HOTMAIL.COM</td>\n",
       "      <td>Bimal Stha</td>\n",
       "    </tr>\n",
       "    <tr>\n",
       "      <th>3</th>\n",
       "      <td>BRO@OHNOU.COM</td>\n",
       "      <td>Danilo Kabita</td>\n",
       "    </tr>\n",
       "  </tbody>\n",
       "</table>\n",
       "</div>"
      ],
      "text/plain": [
       "                 email      full_name\n",
       "0   JAY123@HOTMAIL.COM      Jay Patel\n",
       "1  AANAL123@FEMAIL.COM    Aanal Patel\n",
       "2    BIMAL@HOTMAIL.COM     Bimal Stha\n",
       "3        BRO@OHNOU.COM  Danilo Kabita"
      ]
     },
     "execution_count": 11,
     "metadata": {},
     "output_type": "execute_result"
    }
   ],
   "source": [
    "people_df.drop(columns = ['first', 'last'], inplace = True)\n",
    "people_df"
   ]
  },
  {
   "cell_type": "code",
   "execution_count": 13,
   "id": "dd7e37e7-932e-4b16-929d-36ae547991b6",
   "metadata": {
    "tags": []
   },
   "outputs": [
    {
     "data": {
      "text/plain": [
       "0        [Jay, Patel]\n",
       "1      [Aanal, Patel]\n",
       "2       [Bimal, Stha]\n",
       "3    [Danilo, Kabita]\n",
       "Name: full_name, dtype: object"
      ]
     },
     "execution_count": 13,
     "metadata": {},
     "output_type": "execute_result"
    }
   ],
   "source": [
    "people_df['full_name'].str.split(' ')"
   ]
  },
  {
   "cell_type": "code",
   "execution_count": 25,
   "id": "d627452a-e9a3-43d4-a977-929b242f52d9",
   "metadata": {
    "tags": []
   },
   "outputs": [
    {
     "data": {
      "text/html": [
       "<div>\n",
       "<style scoped>\n",
       "    .dataframe tbody tr th:only-of-type {\n",
       "        vertical-align: middle;\n",
       "    }\n",
       "\n",
       "    .dataframe tbody tr th {\n",
       "        vertical-align: top;\n",
       "    }\n",
       "\n",
       "    .dataframe thead th {\n",
       "        text-align: right;\n",
       "    }\n",
       "</style>\n",
       "<table border=\"1\" class=\"dataframe\">\n",
       "  <thead>\n",
       "    <tr style=\"text-align: right;\">\n",
       "      <th></th>\n",
       "      <th>email</th>\n",
       "      <th>full_name</th>\n",
       "      <th>first</th>\n",
       "      <th>last</th>\n",
       "    </tr>\n",
       "  </thead>\n",
       "  <tbody>\n",
       "    <tr>\n",
       "      <th>0</th>\n",
       "      <td>JAY123@HOTMAIL.COM</td>\n",
       "      <td>Jay Patel</td>\n",
       "      <td>Jay</td>\n",
       "      <td>Patel</td>\n",
       "    </tr>\n",
       "    <tr>\n",
       "      <th>1</th>\n",
       "      <td>AANAL123@FEMAIL.COM</td>\n",
       "      <td>Aanal Patel</td>\n",
       "      <td>Aanal</td>\n",
       "      <td>Patel</td>\n",
       "    </tr>\n",
       "    <tr>\n",
       "      <th>2</th>\n",
       "      <td>BIMAL@HOTMAIL.COM</td>\n",
       "      <td>Bimal Stha</td>\n",
       "      <td>Bimal</td>\n",
       "      <td>Stha</td>\n",
       "    </tr>\n",
       "    <tr>\n",
       "      <th>3</th>\n",
       "      <td>BRO@OHNOU.COM</td>\n",
       "      <td>Danilo Kabita</td>\n",
       "      <td>Danilo</td>\n",
       "      <td>Kabita</td>\n",
       "    </tr>\n",
       "  </tbody>\n",
       "</table>\n",
       "</div>"
      ],
      "text/plain": [
       "                 email      full_name   first    last\n",
       "0   JAY123@HOTMAIL.COM      Jay Patel     Jay   Patel\n",
       "1  AANAL123@FEMAIL.COM    Aanal Patel   Aanal   Patel\n",
       "2    BIMAL@HOTMAIL.COM     Bimal Stha   Bimal    Stha\n",
       "3        BRO@OHNOU.COM  Danilo Kabita  Danilo  Kabita"
      ]
     },
     "execution_count": 25,
     "metadata": {},
     "output_type": "execute_result"
    }
   ],
   "source": [
    "people_df[['first', 'last']] = people_df['full_name'].str.split(' ', expand = True)\n",
    "people_df"
   ]
  },
  {
   "cell_type": "code",
   "execution_count": 26,
   "id": "9299bb8e-3c6e-4ebe-b973-1649e84d2a33",
   "metadata": {
    "tags": []
   },
   "outputs": [],
   "source": [
    "people_df = pd.concat([people_df, pd.DataFrame(data=[{'first':'Tony'}])], ignore_index=True)"
   ]
  },
  {
   "cell_type": "code",
   "execution_count": 27,
   "id": "3e1fe3f8-8427-456a-b82a-e99245abc7f8",
   "metadata": {
    "tags": []
   },
   "outputs": [
    {
     "data": {
      "text/html": [
       "<div>\n",
       "<style scoped>\n",
       "    .dataframe tbody tr th:only-of-type {\n",
       "        vertical-align: middle;\n",
       "    }\n",
       "\n",
       "    .dataframe tbody tr th {\n",
       "        vertical-align: top;\n",
       "    }\n",
       "\n",
       "    .dataframe thead th {\n",
       "        text-align: right;\n",
       "    }\n",
       "</style>\n",
       "<table border=\"1\" class=\"dataframe\">\n",
       "  <thead>\n",
       "    <tr style=\"text-align: right;\">\n",
       "      <th></th>\n",
       "      <th>email</th>\n",
       "      <th>full_name</th>\n",
       "      <th>first</th>\n",
       "      <th>last</th>\n",
       "    </tr>\n",
       "  </thead>\n",
       "  <tbody>\n",
       "    <tr>\n",
       "      <th>0</th>\n",
       "      <td>JAY123@HOTMAIL.COM</td>\n",
       "      <td>Jay Patel</td>\n",
       "      <td>Jay</td>\n",
       "      <td>Patel</td>\n",
       "    </tr>\n",
       "    <tr>\n",
       "      <th>1</th>\n",
       "      <td>AANAL123@FEMAIL.COM</td>\n",
       "      <td>Aanal Patel</td>\n",
       "      <td>Aanal</td>\n",
       "      <td>Patel</td>\n",
       "    </tr>\n",
       "    <tr>\n",
       "      <th>2</th>\n",
       "      <td>BIMAL@HOTMAIL.COM</td>\n",
       "      <td>Bimal Stha</td>\n",
       "      <td>Bimal</td>\n",
       "      <td>Stha</td>\n",
       "    </tr>\n",
       "    <tr>\n",
       "      <th>3</th>\n",
       "      <td>BRO@OHNOU.COM</td>\n",
       "      <td>Danilo Kabita</td>\n",
       "      <td>Danilo</td>\n",
       "      <td>Kabita</td>\n",
       "    </tr>\n",
       "    <tr>\n",
       "      <th>4</th>\n",
       "      <td>NaN</td>\n",
       "      <td>NaN</td>\n",
       "      <td>Tony</td>\n",
       "      <td>NaN</td>\n",
       "    </tr>\n",
       "  </tbody>\n",
       "</table>\n",
       "</div>"
      ],
      "text/plain": [
       "                 email      full_name   first    last\n",
       "0   JAY123@HOTMAIL.COM      Jay Patel     Jay   Patel\n",
       "1  AANAL123@FEMAIL.COM    Aanal Patel   Aanal   Patel\n",
       "2    BIMAL@HOTMAIL.COM     Bimal Stha   Bimal    Stha\n",
       "3        BRO@OHNOU.COM  Danilo Kabita  Danilo  Kabita\n",
       "4                  NaN            NaN    Tony     NaN"
      ]
     },
     "execution_count": 27,
     "metadata": {},
     "output_type": "execute_result"
    }
   ],
   "source": [
    "people_df"
   ]
  },
  {
   "cell_type": "code",
   "execution_count": 29,
   "id": "bdf0f125-1f49-4d7f-961c-d37c7ef38689",
   "metadata": {
    "tags": []
   },
   "outputs": [
    {
     "data": {
      "text/html": [
       "<div>\n",
       "<style scoped>\n",
       "    .dataframe tbody tr th:only-of-type {\n",
       "        vertical-align: middle;\n",
       "    }\n",
       "\n",
       "    .dataframe tbody tr th {\n",
       "        vertical-align: top;\n",
       "    }\n",
       "\n",
       "    .dataframe thead th {\n",
       "        text-align: right;\n",
       "    }\n",
       "</style>\n",
       "<table border=\"1\" class=\"dataframe\">\n",
       "  <thead>\n",
       "    <tr style=\"text-align: right;\">\n",
       "      <th></th>\n",
       "      <th>email</th>\n",
       "      <th>full_name</th>\n",
       "      <th>first</th>\n",
       "      <th>last</th>\n",
       "    </tr>\n",
       "  </thead>\n",
       "  <tbody>\n",
       "    <tr>\n",
       "      <th>0</th>\n",
       "      <td>JAY123@HOTMAIL.COM</td>\n",
       "      <td>Jay Patel</td>\n",
       "      <td>Jay</td>\n",
       "      <td>Patel</td>\n",
       "    </tr>\n",
       "    <tr>\n",
       "      <th>1</th>\n",
       "      <td>AANAL123@FEMAIL.COM</td>\n",
       "      <td>Aanal Patel</td>\n",
       "      <td>Aanal</td>\n",
       "      <td>Patel</td>\n",
       "    </tr>\n",
       "    <tr>\n",
       "      <th>2</th>\n",
       "      <td>BIMAL@HOTMAIL.COM</td>\n",
       "      <td>Bimal Stha</td>\n",
       "      <td>Bimal</td>\n",
       "      <td>Stha</td>\n",
       "    </tr>\n",
       "    <tr>\n",
       "      <th>3</th>\n",
       "      <td>BRO@OHNOU.COM</td>\n",
       "      <td>Danilo Kabita</td>\n",
       "      <td>Danilo</td>\n",
       "      <td>Kabita</td>\n",
       "    </tr>\n",
       "  </tbody>\n",
       "</table>\n",
       "</div>"
      ],
      "text/plain": [
       "                 email      full_name   first    last\n",
       "0   JAY123@HOTMAIL.COM      Jay Patel     Jay   Patel\n",
       "1  AANAL123@FEMAIL.COM    Aanal Patel   Aanal   Patel\n",
       "2    BIMAL@HOTMAIL.COM     Bimal Stha   Bimal    Stha\n",
       "3        BRO@OHNOU.COM  Danilo Kabita  Danilo  Kabita"
      ]
     },
     "execution_count": 29,
     "metadata": {},
     "output_type": "execute_result"
    }
   ],
   "source": [
    "people_df = people_df.drop(index=4)\n",
    "people_df"
   ]
  },
  {
   "cell_type": "code",
   "execution_count": 31,
   "id": "60c7d521-8f6e-42ac-8073-6183fc0beb7c",
   "metadata": {
    "tags": []
   },
   "outputs": [
    {
     "data": {
      "text/html": [
       "<div>\n",
       "<style scoped>\n",
       "    .dataframe tbody tr th:only-of-type {\n",
       "        vertical-align: middle;\n",
       "    }\n",
       "\n",
       "    .dataframe tbody tr th {\n",
       "        vertical-align: top;\n",
       "    }\n",
       "\n",
       "    .dataframe thead th {\n",
       "        text-align: right;\n",
       "    }\n",
       "</style>\n",
       "<table border=\"1\" class=\"dataframe\">\n",
       "  <thead>\n",
       "    <tr style=\"text-align: right;\">\n",
       "      <th></th>\n",
       "      <th>email</th>\n",
       "      <th>full_name</th>\n",
       "      <th>first</th>\n",
       "      <th>last</th>\n",
       "    </tr>\n",
       "  </thead>\n",
       "  <tbody>\n",
       "    <tr>\n",
       "      <th>2</th>\n",
       "      <td>BIMAL@HOTMAIL.COM</td>\n",
       "      <td>Bimal Stha</td>\n",
       "      <td>Bimal</td>\n",
       "      <td>Stha</td>\n",
       "    </tr>\n",
       "    <tr>\n",
       "      <th>0</th>\n",
       "      <td>JAY123@HOTMAIL.COM</td>\n",
       "      <td>Jay Patel</td>\n",
       "      <td>Jay</td>\n",
       "      <td>Patel</td>\n",
       "    </tr>\n",
       "    <tr>\n",
       "      <th>1</th>\n",
       "      <td>AANAL123@FEMAIL.COM</td>\n",
       "      <td>Aanal Patel</td>\n",
       "      <td>Aanal</td>\n",
       "      <td>Patel</td>\n",
       "    </tr>\n",
       "    <tr>\n",
       "      <th>3</th>\n",
       "      <td>BRO@OHNOU.COM</td>\n",
       "      <td>Danilo Kabita</td>\n",
       "      <td>Danilo</td>\n",
       "      <td>Kabita</td>\n",
       "    </tr>\n",
       "  </tbody>\n",
       "</table>\n",
       "</div>"
      ],
      "text/plain": [
       "                 email      full_name   first    last\n",
       "2    BIMAL@HOTMAIL.COM     Bimal Stha   Bimal    Stha\n",
       "0   JAY123@HOTMAIL.COM      Jay Patel     Jay   Patel\n",
       "1  AANAL123@FEMAIL.COM    Aanal Patel   Aanal   Patel\n",
       "3        BRO@OHNOU.COM  Danilo Kabita  Danilo  Kabita"
      ]
     },
     "execution_count": 31,
     "metadata": {},
     "output_type": "execute_result"
    }
   ],
   "source": [
    "people_df.sort_values(by='last', ascending=False)"
   ]
  },
  {
   "cell_type": "code",
   "execution_count": 33,
   "id": "60bd26e6-ed26-4d9f-a850-39992805fd2d",
   "metadata": {
    "tags": []
   },
   "outputs": [
    {
     "data": {
      "text/html": [
       "<div>\n",
       "<style scoped>\n",
       "    .dataframe tbody tr th:only-of-type {\n",
       "        vertical-align: middle;\n",
       "    }\n",
       "\n",
       "    .dataframe tbody tr th {\n",
       "        vertical-align: top;\n",
       "    }\n",
       "\n",
       "    .dataframe thead th {\n",
       "        text-align: right;\n",
       "    }\n",
       "</style>\n",
       "<table border=\"1\" class=\"dataframe\">\n",
       "  <thead>\n",
       "    <tr style=\"text-align: right;\">\n",
       "      <th></th>\n",
       "      <th>email</th>\n",
       "      <th>full_name</th>\n",
       "      <th>first</th>\n",
       "      <th>last</th>\n",
       "    </tr>\n",
       "  </thead>\n",
       "  <tbody>\n",
       "    <tr>\n",
       "      <th>2</th>\n",
       "      <td>BIMAL@HOTMAIL.COM</td>\n",
       "      <td>Bimal Stha</td>\n",
       "      <td>Bimal</td>\n",
       "      <td>Stha</td>\n",
       "    </tr>\n",
       "    <tr>\n",
       "      <th>1</th>\n",
       "      <td>AANAL123@FEMAIL.COM</td>\n",
       "      <td>Aanal Patel</td>\n",
       "      <td>Aanal</td>\n",
       "      <td>Patel</td>\n",
       "    </tr>\n",
       "    <tr>\n",
       "      <th>0</th>\n",
       "      <td>JAY123@HOTMAIL.COM</td>\n",
       "      <td>Jay Patel</td>\n",
       "      <td>Jay</td>\n",
       "      <td>Patel</td>\n",
       "    </tr>\n",
       "    <tr>\n",
       "      <th>3</th>\n",
       "      <td>BRO@OHNOU.COM</td>\n",
       "      <td>Danilo Kabita</td>\n",
       "      <td>Danilo</td>\n",
       "      <td>Kabita</td>\n",
       "    </tr>\n",
       "  </tbody>\n",
       "</table>\n",
       "</div>"
      ],
      "text/plain": [
       "                 email      full_name   first    last\n",
       "2    BIMAL@HOTMAIL.COM     Bimal Stha   Bimal    Stha\n",
       "1  AANAL123@FEMAIL.COM    Aanal Patel   Aanal   Patel\n",
       "0   JAY123@HOTMAIL.COM      Jay Patel     Jay   Patel\n",
       "3        BRO@OHNOU.COM  Danilo Kabita  Danilo  Kabita"
      ]
     },
     "execution_count": 33,
     "metadata": {},
     "output_type": "execute_result"
    }
   ],
   "source": [
    "people_df.sort_values(by=['last', 'first'], ascending=[False, True])"
   ]
  },
  {
   "cell_type": "code",
   "execution_count": 34,
   "id": "ab2770c0-09ca-47b5-8657-d0a0d2010ee7",
   "metadata": {
    "tags": []
   },
   "outputs": [
    {
     "data": {
      "text/html": [
       "<div>\n",
       "<style scoped>\n",
       "    .dataframe tbody tr th:only-of-type {\n",
       "        vertical-align: middle;\n",
       "    }\n",
       "\n",
       "    .dataframe tbody tr th {\n",
       "        vertical-align: top;\n",
       "    }\n",
       "\n",
       "    .dataframe thead th {\n",
       "        text-align: right;\n",
       "    }\n",
       "</style>\n",
       "<table border=\"1\" class=\"dataframe\">\n",
       "  <thead>\n",
       "    <tr style=\"text-align: right;\">\n",
       "      <th></th>\n",
       "      <th>ResponseId</th>\n",
       "      <th>Q120</th>\n",
       "      <th>MainBranch</th>\n",
       "      <th>Age</th>\n",
       "      <th>Employment</th>\n",
       "      <th>RemoteWork</th>\n",
       "      <th>CodingActivities</th>\n",
       "      <th>EdLevel</th>\n",
       "      <th>LearnCode</th>\n",
       "      <th>LearnCodeOnline</th>\n",
       "      <th>...</th>\n",
       "      <th>Frequency_1</th>\n",
       "      <th>Frequency_2</th>\n",
       "      <th>Frequency_3</th>\n",
       "      <th>TimeSearching</th>\n",
       "      <th>TimeAnswering</th>\n",
       "      <th>ProfessionalTech</th>\n",
       "      <th>Industry</th>\n",
       "      <th>SurveyLength</th>\n",
       "      <th>SurveyEase</th>\n",
       "      <th>ConvertedCompYearly</th>\n",
       "    </tr>\n",
       "  </thead>\n",
       "  <tbody>\n",
       "    <tr>\n",
       "      <th>89182</th>\n",
       "      <td>89183</td>\n",
       "      <td>I agree</td>\n",
       "      <td>I am a developer by profession</td>\n",
       "      <td>Under 18 years old</td>\n",
       "      <td>Employed, part-time;Student, part-time</td>\n",
       "      <td>Hybrid (some remote, some in-person)</td>\n",
       "      <td>Hobby;School or academic work</td>\n",
       "      <td>Secondary school (e.g. American high school, G...</td>\n",
       "      <td>Online Courses or Certification;Other online r...</td>\n",
       "      <td>Formal documentation provided by the owner of ...</td>\n",
       "      <td>...</td>\n",
       "      <td>NaN</td>\n",
       "      <td>NaN</td>\n",
       "      <td>NaN</td>\n",
       "      <td>NaN</td>\n",
       "      <td>NaN</td>\n",
       "      <td>NaN</td>\n",
       "      <td>NaN</td>\n",
       "      <td>Appropriate in length</td>\n",
       "      <td>Neither easy nor difficult</td>\n",
       "      <td>NaN</td>\n",
       "    </tr>\n",
       "    <tr>\n",
       "      <th>89183</th>\n",
       "      <td>89184</td>\n",
       "      <td>I agree</td>\n",
       "      <td>I am a developer by profession</td>\n",
       "      <td>35-44 years old</td>\n",
       "      <td>Employed, full-time</td>\n",
       "      <td>Hybrid (some remote, some in-person)</td>\n",
       "      <td>Hobby;Professional development or self-paced l...</td>\n",
       "      <td>Bachelor’s degree (B.A., B.S., B.Eng., etc.)</td>\n",
       "      <td>Colleague;Online Courses or Certification;Othe...</td>\n",
       "      <td>Formal documentation provided by the owner of ...</td>\n",
       "      <td>...</td>\n",
       "      <td>Never</td>\n",
       "      <td>1-2 times a week</td>\n",
       "      <td>1-2 times a week</td>\n",
       "      <td>60-120 minutes a day</td>\n",
       "      <td>30-60 minutes a day</td>\n",
       "      <td>DevOps function;Developer portal or other cent...</td>\n",
       "      <td>Information Services, IT, Software Development...</td>\n",
       "      <td>Appropriate in length</td>\n",
       "      <td>Easy</td>\n",
       "      <td>NaN</td>\n",
       "    </tr>\n",
       "  </tbody>\n",
       "</table>\n",
       "<p>2 rows × 84 columns</p>\n",
       "</div>"
      ],
      "text/plain": [
       "       ResponseId     Q120                      MainBranch  \\\n",
       "89182       89183  I agree  I am a developer by profession   \n",
       "89183       89184  I agree  I am a developer by profession   \n",
       "\n",
       "                      Age                              Employment  \\\n",
       "89182  Under 18 years old  Employed, part-time;Student, part-time   \n",
       "89183     35-44 years old                     Employed, full-time   \n",
       "\n",
       "                                 RemoteWork  \\\n",
       "89182  Hybrid (some remote, some in-person)   \n",
       "89183  Hybrid (some remote, some in-person)   \n",
       "\n",
       "                                        CodingActivities  \\\n",
       "89182                      Hobby;School or academic work   \n",
       "89183  Hobby;Professional development or self-paced l...   \n",
       "\n",
       "                                                 EdLevel  \\\n",
       "89182  Secondary school (e.g. American high school, G...   \n",
       "89183       Bachelor’s degree (B.A., B.S., B.Eng., etc.)   \n",
       "\n",
       "                                               LearnCode  \\\n",
       "89182  Online Courses or Certification;Other online r...   \n",
       "89183  Colleague;Online Courses or Certification;Othe...   \n",
       "\n",
       "                                         LearnCodeOnline  ... Frequency_1  \\\n",
       "89182  Formal documentation provided by the owner of ...  ...         NaN   \n",
       "89183  Formal documentation provided by the owner of ...  ...       Never   \n",
       "\n",
       "            Frequency_2       Frequency_3         TimeSearching  \\\n",
       "89182               NaN               NaN                   NaN   \n",
       "89183  1-2 times a week  1-2 times a week  60-120 minutes a day   \n",
       "\n",
       "             TimeAnswering                                   ProfessionalTech  \\\n",
       "89182                  NaN                                                NaN   \n",
       "89183  30-60 minutes a day  DevOps function;Developer portal or other cent...   \n",
       "\n",
       "                                                Industry  \\\n",
       "89182                                                NaN   \n",
       "89183  Information Services, IT, Software Development...   \n",
       "\n",
       "                SurveyLength                  SurveyEase ConvertedCompYearly  \n",
       "89182  Appropriate in length  Neither easy nor difficult                 NaN  \n",
       "89183  Appropriate in length                        Easy                 NaN  \n",
       "\n",
       "[2 rows x 84 columns]"
      ]
     },
     "execution_count": 34,
     "metadata": {},
     "output_type": "execute_result"
    }
   ],
   "source": [
    "df = pd.read_csv('survey_results_public.csv')\n",
    "df.tail(2)"
   ]
  },
  {
   "cell_type": "code",
   "execution_count": 39,
   "id": "3ef33de3-3ec7-4baa-a9b1-ece817dda70c",
   "metadata": {
    "tags": []
   },
   "outputs": [
    {
     "data": {
      "text/html": [
       "<div>\n",
       "<style scoped>\n",
       "    .dataframe tbody tr th:only-of-type {\n",
       "        vertical-align: middle;\n",
       "    }\n",
       "\n",
       "    .dataframe tbody tr th {\n",
       "        vertical-align: top;\n",
       "    }\n",
       "\n",
       "    .dataframe thead th {\n",
       "        text-align: right;\n",
       "    }\n",
       "</style>\n",
       "<table border=\"1\" class=\"dataframe\">\n",
       "  <thead>\n",
       "    <tr style=\"text-align: right;\">\n",
       "      <th></th>\n",
       "      <th>Country</th>\n",
       "      <th>ConvertedCompYearly</th>\n",
       "    </tr>\n",
       "  </thead>\n",
       "  <tbody>\n",
       "    <tr>\n",
       "      <th>88347</th>\n",
       "      <td>Afghanistan</td>\n",
       "      <td>9203683.0</td>\n",
       "    </tr>\n",
       "    <tr>\n",
       "      <th>86038</th>\n",
       "      <td>Afghanistan</td>\n",
       "      <td>68000.0</td>\n",
       "    </tr>\n",
       "    <tr>\n",
       "      <th>1334</th>\n",
       "      <td>Afghanistan</td>\n",
       "      <td>2403.0</td>\n",
       "    </tr>\n",
       "    <tr>\n",
       "      <th>57361</th>\n",
       "      <td>Afghanistan</td>\n",
       "      <td>2288.0</td>\n",
       "    </tr>\n",
       "    <tr>\n",
       "      <th>17872</th>\n",
       "      <td>Afghanistan</td>\n",
       "      <td>1144.0</td>\n",
       "    </tr>\n",
       "  </tbody>\n",
       "</table>\n",
       "</div>"
      ],
      "text/plain": [
       "           Country  ConvertedCompYearly\n",
       "88347  Afghanistan            9203683.0\n",
       "86038  Afghanistan              68000.0\n",
       "1334   Afghanistan               2403.0\n",
       "57361  Afghanistan               2288.0\n",
       "17872  Afghanistan               1144.0"
      ]
     },
     "execution_count": 39,
     "metadata": {},
     "output_type": "execute_result"
    }
   ],
   "source": [
    "df.sort_values(by=['Country', 'ConvertedCompYearly'], ascending=[True, False]).head(5)[['Country', 'ConvertedCompYearly']]"
   ]
  },
  {
   "cell_type": "code",
   "execution_count": 40,
   "id": "8df55889-2915-44eb-8c3c-8ad902be990c",
   "metadata": {
    "tags": []
   },
   "outputs": [
    {
     "data": {
      "text/plain": [
       "53268    74351432.0\n",
       "77848    73607918.0\n",
       "66223    72714292.0\n",
       "28121    57513831.0\n",
       "19679    36573181.0\n",
       "Name: ConvertedCompYearly, dtype: float64"
      ]
     },
     "execution_count": 40,
     "metadata": {},
     "output_type": "execute_result"
    }
   ],
   "source": [
    "df['ConvertedCompYearly'].nlargest(5)"
   ]
  },
  {
   "cell_type": "code",
   "execution_count": 41,
   "id": "4969078f-3a0e-4e75-aa08-6840952b7c6f",
   "metadata": {
    "tags": []
   },
   "outputs": [
    {
     "data": {
      "text/plain": [
       "2243     1.0\n",
       "3929     1.0\n",
       "5724     1.0\n",
       "8862     1.0\n",
       "13708    1.0\n",
       "Name: ConvertedCompYearly, dtype: float64"
      ]
     },
     "execution_count": 41,
     "metadata": {},
     "output_type": "execute_result"
    }
   ],
   "source": [
    "df['ConvertedCompYearly'].nsmallest(5)"
   ]
  },
  {
   "cell_type": "code",
   "execution_count": 42,
   "id": "70b47e3b-e941-492d-b2f0-277324168681",
   "metadata": {
    "tags": []
   },
   "outputs": [
    {
     "data": {
      "text/plain": [
       "103110.08171765343"
      ]
     },
     "execution_count": 42,
     "metadata": {},
     "output_type": "execute_result"
    }
   ],
   "source": [
    "df['ConvertedCompYearly'].mean()"
   ]
  },
  {
   "cell_type": "code",
   "execution_count": 45,
   "id": "703e5234-0f62-4859-a758-a2daf2f51774",
   "metadata": {
    "tags": []
   },
   "outputs": [
    {
     "data": {
      "text/html": [
       "<div>\n",
       "<style scoped>\n",
       "    .dataframe tbody tr th:only-of-type {\n",
       "        vertical-align: middle;\n",
       "    }\n",
       "\n",
       "    .dataframe tbody tr th {\n",
       "        vertical-align: top;\n",
       "    }\n",
       "\n",
       "    .dataframe thead th {\n",
       "        text-align: right;\n",
       "    }\n",
       "</style>\n",
       "<table border=\"1\" class=\"dataframe\">\n",
       "  <thead>\n",
       "    <tr style=\"text-align: right;\">\n",
       "      <th></th>\n",
       "      <th>ResponseId</th>\n",
       "      <th>CompTotal</th>\n",
       "      <th>WorkExp</th>\n",
       "      <th>ConvertedCompYearly</th>\n",
       "    </tr>\n",
       "  </thead>\n",
       "  <tbody>\n",
       "    <tr>\n",
       "      <th>count</th>\n",
       "      <td>89184.000000</td>\n",
       "      <td>4.822500e+04</td>\n",
       "      <td>43579.000000</td>\n",
       "      <td>4.801900e+04</td>\n",
       "    </tr>\n",
       "    <tr>\n",
       "      <th>mean</th>\n",
       "      <td>44592.500000</td>\n",
       "      <td>1.036807e+42</td>\n",
       "      <td>11.405126</td>\n",
       "      <td>1.031101e+05</td>\n",
       "    </tr>\n",
       "    <tr>\n",
       "      <th>std</th>\n",
       "      <td>25745.347541</td>\n",
       "      <td>2.276847e+44</td>\n",
       "      <td>9.051989</td>\n",
       "      <td>6.814188e+05</td>\n",
       "    </tr>\n",
       "    <tr>\n",
       "      <th>min</th>\n",
       "      <td>1.000000</td>\n",
       "      <td>0.000000e+00</td>\n",
       "      <td>0.000000</td>\n",
       "      <td>1.000000e+00</td>\n",
       "    </tr>\n",
       "    <tr>\n",
       "      <th>25%</th>\n",
       "      <td>22296.750000</td>\n",
       "      <td>6.300000e+04</td>\n",
       "      <td>5.000000</td>\n",
       "      <td>4.390700e+04</td>\n",
       "    </tr>\n",
       "    <tr>\n",
       "      <th>50%</th>\n",
       "      <td>44592.500000</td>\n",
       "      <td>1.150000e+05</td>\n",
       "      <td>9.000000</td>\n",
       "      <td>7.496300e+04</td>\n",
       "    </tr>\n",
       "    <tr>\n",
       "      <th>75%</th>\n",
       "      <td>66888.250000</td>\n",
       "      <td>2.300000e+05</td>\n",
       "      <td>16.000000</td>\n",
       "      <td>1.216410e+05</td>\n",
       "    </tr>\n",
       "    <tr>\n",
       "      <th>max</th>\n",
       "      <td>89184.000000</td>\n",
       "      <td>5.000000e+46</td>\n",
       "      <td>50.000000</td>\n",
       "      <td>7.435143e+07</td>\n",
       "    </tr>\n",
       "  </tbody>\n",
       "</table>\n",
       "</div>"
      ],
      "text/plain": [
       "         ResponseId     CompTotal       WorkExp  ConvertedCompYearly\n",
       "count  89184.000000  4.822500e+04  43579.000000         4.801900e+04\n",
       "mean   44592.500000  1.036807e+42     11.405126         1.031101e+05\n",
       "std    25745.347541  2.276847e+44      9.051989         6.814188e+05\n",
       "min        1.000000  0.000000e+00      0.000000         1.000000e+00\n",
       "25%    22296.750000  6.300000e+04      5.000000         4.390700e+04\n",
       "50%    44592.500000  1.150000e+05      9.000000         7.496300e+04\n",
       "75%    66888.250000  2.300000e+05     16.000000         1.216410e+05\n",
       "max    89184.000000  5.000000e+46     50.000000         7.435143e+07"
      ]
     },
     "execution_count": 45,
     "metadata": {},
     "output_type": "execute_result"
    }
   ],
   "source": [
    "df.describe()"
   ]
  },
  {
   "cell_type": "code",
   "execution_count": 49,
   "id": "7d6ed4fd-3e38-4b42-b1f0-47415026bb01",
   "metadata": {
    "tags": []
   },
   "outputs": [
    {
     "data": {
      "text/plain": [
       "Employment\n",
       "Employed, full-time                                                                                                                                                                                             60.266416\n",
       "Student, full-time                                                                                                                                                                                               8.331091\n",
       "Independent contractor, freelancer, or self-employed                                                                                                                                                             7.934159\n",
       "Employed, full-time;Independent contractor, freelancer, or self-employed                                                                                                                                         4.882042\n",
       "Not employed, but looking for work                                                                                                                                                                               2.862621\n",
       "                                                                                                                                                                                                                  ...    \n",
       "Employed, full-time;Independent contractor, freelancer, or self-employed;Not employed, but looking for work;Student, full-time;Employed, part-time;Student, part-time;Not employed, and not looking for work     0.001121\n",
       "Employed, full-time;Independent contractor, freelancer, or self-employed;Student, full-time;Student, part-time                                                                                                   0.001121\n",
       "Employed, full-time;Independent contractor, freelancer, or self-employed;Not employed, but looking for work;Student, full-time;Employed, part-time;Student, part-time                                            0.001121\n",
       "Employed, full-time;Independent contractor, freelancer, or self-employed;Not employed, but looking for work;Not employed, and not looking for work                                                               0.001121\n",
       "Employed, full-time;Not employed, but looking for work;Employed, part-time;Student, part-time                                                                                                                    0.001121\n",
       "Name: proportion, Length: 107, dtype: float64"
      ]
     },
     "execution_count": 49,
     "metadata": {},
     "output_type": "execute_result"
    }
   ],
   "source": [
    "df['Employment'].value_counts(dropna=False) * 100"
   ]
  },
  {
   "cell_type": "code",
   "execution_count": 50,
   "id": "02cf88a8-876c-45f2-98a6-4c78c667cc63",
   "metadata": {
    "tags": []
   },
   "outputs": [
    {
     "data": {
      "text/plain": [
       "RemoteWork\n",
       "Hybrid (some remote, some in-person)    34.906485\n",
       "Remote                                  34.272964\n",
       "NaN                                     17.238518\n",
       "In-person                               13.582033\n",
       "Name: proportion, dtype: float64"
      ]
     },
     "execution_count": 50,
     "metadata": {},
     "output_type": "execute_result"
    }
   ],
   "source": [
    "df['RemoteWork'].value_counts(dropna=False, normalize=True) * 100"
   ]
  },
  {
   "cell_type": "code",
   "execution_count": 51,
   "id": "1b5c99c7-f66b-408d-922c-8b7f2f23c882",
   "metadata": {
    "tags": []
   },
   "outputs": [
    {
     "data": {
      "text/plain": [
       "Country\n",
       "United States of America                                20.908459\n",
       "Germany                                                  8.216720\n",
       "India                                                    6.307185\n",
       "United Kingdom of Great Britain and Northern Ireland     6.225332\n",
       "Canada                                                   3.932320\n",
       "                                                          ...    \n",
       "Saint Kitts and Nevis                                    0.001121\n",
       "Marshall Islands                                         0.001121\n",
       "Samoa                                                    0.001121\n",
       "Central African Republic                                 0.001121\n",
       "San Marino                                               0.001121\n",
       "Name: proportion, Length: 186, dtype: float64"
      ]
     },
     "execution_count": 51,
     "metadata": {},
     "output_type": "execute_result"
    }
   ],
   "source": [
    "df['Country'].value_counts(dropna=False, normalize=True) * 100"
   ]
  },
  {
   "cell_type": "code",
   "execution_count": 57,
   "id": "17c1c706-2b6a-4df1-b49b-f1c9678da46b",
   "metadata": {
    "tags": []
   },
   "outputs": [
    {
     "data": {
      "text/plain": [
       "RemoteWork\n",
       "Remote                                  46.307385\n",
       "Hybrid (some remote, some in-person)    31.023667\n",
       "NaN                                     15.027089\n",
       "In-person                                7.641859\n",
       "Name: proportion, dtype: float64"
      ]
     },
     "execution_count": 57,
     "metadata": {},
     "output_type": "execute_result"
    }
   ],
   "source": [
    "filt = (df['Country'] == 'Canada')\n",
    "df.loc[filt]['RemoteWork'].value_counts(dropna=False, normalize=True)*100"
   ]
  }
 ],
 "metadata": {
  "kernelspec": {
   "display_name": "Python 3 (ipykernel)",
   "language": "python",
   "name": "python3"
  },
  "language_info": {
   "codemirror_mode": {
    "name": "ipython",
    "version": 3
   },
   "file_extension": ".py",
   "mimetype": "text/x-python",
   "name": "python",
   "nbconvert_exporter": "python",
   "pygments_lexer": "ipython3",
   "version": "3.11.5"
  }
 },
 "nbformat": 4,
 "nbformat_minor": 5
}
