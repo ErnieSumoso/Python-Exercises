{
 "cells": [
  {
   "cell_type": "code",
   "execution_count": null,
   "id": "21d911c4-d0e0-4920-b15e-73b5e91f6a0b",
   "metadata": {},
   "outputs": [],
   "source": [
    "# Ernie Sumoso\n",
    "# Student ID: C0881591"
   ]
  },
  {
   "cell_type": "code",
   "execution_count": 34,
   "id": "5230af48-78e2-483f-af97-a9c2c9b60258",
   "metadata": {
    "tags": []
   },
   "outputs": [
    {
     "data": {
      "text/plain": [
       "7"
      ]
     },
     "execution_count": 34,
     "metadata": {},
     "output_type": "execute_result"
    }
   ],
   "source": [
    "# 1. Write a Python function that takes a string and calculates the length of a string and returns it.\n",
    "# Print the returned value.\n",
    "\n",
    "def strcal(string):\n",
    "    return len(string)\n",
    "strcal(\"asdf'''\") # should return 7\n"
   ]
  },
  {
   "cell_type": "code",
   "execution_count": 35,
   "id": "cdb6d40c-0889-43a6-ad2f-830cdc810299",
   "metadata": {
    "tags": []
   },
   "outputs": [
    {
     "data": {
      "text/plain": [
       "{'H': 1, 'e': 1, 'l': 3, 'o': 2, ' ': 1, 'W': 1, 'r': 1, 'd': 1, '!': 1}"
      ]
     },
     "execution_count": 35,
     "metadata": {},
     "output_type": "execute_result"
    }
   ],
   "source": [
    "# 2) Write a Python function that takes a string and counts the number of characters (character\n",
    "# frequency) in a string. For example, if we send 'google.com' to the function, it should return a\n",
    "# dictionary like this {'g': 2, 'o': 3, 'l': 1, 'e': 1, '.': 1, 'c': 1, 'm': 1}\n",
    "\n",
    "def strcal2(string):\n",
    "    dic = {}\n",
    "    for c in string:\n",
    "        dic[c] = dic[c]+1 if c in dic else 1\n",
    "    return dic\n",
    "\n",
    "strcal2(\"Hello World!\") # dictionary should count the number of letters of the string"
   ]
  },
  {
   "cell_type": "code",
   "execution_count": 28,
   "id": "6893c3f5-87f9-4995-89c8-a2468bb78347",
   "metadata": {
    "tags": []
   },
   "outputs": [
    {
     "name": "stdout",
     "output_type": "stream",
     "text": [
      "True\n",
      "False\n",
      "6\n",
      "51\n",
      "False\n"
     ]
    },
    {
     "data": {
      "text/plain": [
       "'LOREM NOTICED DOLOR SIT AMET, CONSECTETUR ADIPISCING ELIT, SED DO EIUSMOD TEMPOR INCIDIDUNT UT LABORE ET DOLORE MAGNA ALIQUA. UT ENIM AD MINIM VENIAM, QUIS NOSTRUD EXERCITATION ULLAMCO LABORIS NISI UT ALIQUIP EX EA COMMODO CONSEQUAT. DUIS AUTE IRURE DOLOR IN REPREHENDERIT IN VOLUPTATE VELIT ESSE CILLUM DOLORE EU FUGIAT NULLA PARIATUR. EXCEPTEUR SINT OCCAECAT CUPIDATAT NON PROIDENT, SUNT IN CULPA QUI OFFICIA DESERUNT MOLLIT ANIM ID EST LABORUM.'"
      ]
     },
     "execution_count": 28,
     "metadata": {},
     "output_type": "execute_result"
    }
   ],
   "source": [
    "# 3) Create a string of your choice and apply a minimum of 8 of following methods to it and print the\n",
    "# result.\n",
    "string = \"Lorem ipsum dolor sit amet, consectetur adipiscing elit, sed do eiusmod tempor incididunt ut labore et dolore magna aliqua. Ut enim ad minim veniam, quis nostrud exercitation ullamco laboris nisi ut aliquip ex ea commodo consequat. Duis aute irure dolor in reprehenderit in voluptate velit esse cillum dolore eu fugiat nulla pariatur. Excepteur sint occaecat cupidatat non proident, sunt in culpa qui officia deserunt mollit anim id est laborum.\"\n",
    "\n",
    "print(string.startswith(\"Lorem\")) # should return True\n",
    "print(string.endswith(\"World!\")) # should return False\n",
    "print(string.find(\"ipsum\")) # should return 6\n",
    "print(string.index(\"elit\")) # should return 51\n",
    "string = string.title()\n",
    "print(string.isalpha()) # should return False\n",
    "string = string.replace(\"Ipsum\", \"noticed\")\n",
    "string = string.upper()\n",
    "\n",
    "string\n",
    "\n"
   ]
  },
  {
   "cell_type": "code",
   "execution_count": 32,
   "id": "23e0f720-c5e1-44b5-bd47-3c173390167c",
   "metadata": {
    "tags": []
   },
   "outputs": [
    {
     "data": {
      "text/plain": [
       "64.44"
      ]
     },
     "execution_count": 32,
     "metadata": {},
     "output_type": "execute_result"
    }
   ],
   "source": [
    "# 4) Write a Python function that converts temperatures from Fahrenheit to Celsius.\n",
    "def farToCelsius(faren):\n",
    "    return round(5/9 * (faren - 32),2) # standard formula for °F to °C\n",
    "\n",
    "farToCelsius(148)"
   ]
  },
  {
   "cell_type": "code",
   "execution_count": null,
   "id": "f548b225-dd21-46cb-881c-f55ec73992ca",
   "metadata": {},
   "outputs": [],
   "source": []
  },
  {
   "cell_type": "code",
   "execution_count": null,
   "id": "892e4498-eedf-43b7-bc66-fb7e72c54a5b",
   "metadata": {},
   "outputs": [],
   "source": []
  },
  {
   "cell_type": "code",
   "execution_count": null,
   "id": "89ff494d-2fbe-4a4a-996c-dcda528755b2",
   "metadata": {},
   "outputs": [],
   "source": []
  },
  {
   "cell_type": "code",
   "execution_count": null,
   "id": "50457b8a-627a-445a-9be1-a6ace74a38d5",
   "metadata": {},
   "outputs": [],
   "source": []
  },
  {
   "cell_type": "code",
   "execution_count": null,
   "id": "025f5c17-e63a-4e52-8c12-e174bebe9659",
   "metadata": {},
   "outputs": [],
   "source": []
  },
  {
   "cell_type": "code",
   "execution_count": null,
   "id": "adae4cd8-3c22-4fab-b0e2-8a04ab5a28d6",
   "metadata": {},
   "outputs": [],
   "source": []
  },
  {
   "cell_type": "code",
   "execution_count": null,
   "id": "6b2426db-8f68-4a7f-99ce-c18e316ab1a2",
   "metadata": {},
   "outputs": [],
   "source": []
  },
  {
   "cell_type": "code",
   "execution_count": null,
   "id": "3a9faeab-da22-43c8-a8e4-49b9f585963d",
   "metadata": {},
   "outputs": [],
   "source": []
  },
  {
   "cell_type": "code",
   "execution_count": null,
   "id": "0bbbca51-85dc-4b73-ae86-167e3be38919",
   "metadata": {},
   "outputs": [],
   "source": []
  },
  {
   "cell_type": "code",
   "execution_count": null,
   "id": "6ac4c71b-a500-4697-b244-0b2500e34d61",
   "metadata": {},
   "outputs": [],
   "source": []
  },
  {
   "cell_type": "code",
   "execution_count": null,
   "id": "930ddfc8-f8b0-470a-b203-41b8f5bab1f8",
   "metadata": {},
   "outputs": [],
   "source": []
  },
  {
   "cell_type": "code",
   "execution_count": null,
   "id": "956b0cc1-91e6-4e9e-be65-538782fee898",
   "metadata": {},
   "outputs": [],
   "source": []
  },
  {
   "cell_type": "code",
   "execution_count": null,
   "id": "612b226e-ebd4-4281-8196-3634fd6172d1",
   "metadata": {},
   "outputs": [],
   "source": []
  },
  {
   "cell_type": "code",
   "execution_count": null,
   "id": "1c150509-0c21-4860-bd2b-ac53cdc76c81",
   "metadata": {},
   "outputs": [],
   "source": []
  },
  {
   "cell_type": "code",
   "execution_count": null,
   "id": "f147d249-ba1a-4526-b18a-e990459b2276",
   "metadata": {},
   "outputs": [],
   "source": []
  },
  {
   "cell_type": "code",
   "execution_count": null,
   "id": "378881d2-3e64-4247-a3e5-b6e68b7f9f5e",
   "metadata": {},
   "outputs": [],
   "source": []
  },
  {
   "cell_type": "code",
   "execution_count": null,
   "id": "39e018b2-6194-4c1d-88b5-e28360a8b2a0",
   "metadata": {},
   "outputs": [],
   "source": []
  },
  {
   "cell_type": "code",
   "execution_count": null,
   "id": "aacae0ee-e3aa-43c9-8d6b-ff3edae862c5",
   "metadata": {},
   "outputs": [],
   "source": []
  }
 ],
 "metadata": {
  "kernelspec": {
   "display_name": "Python 3 (ipykernel)",
   "language": "python",
   "name": "python3"
  },
  "language_info": {
   "codemirror_mode": {
    "name": "ipython",
    "version": 3
   },
   "file_extension": ".py",
   "mimetype": "text/x-python",
   "name": "python",
   "nbconvert_exporter": "python",
   "pygments_lexer": "ipython3",
   "version": "3.11.4"
  }
 },
 "nbformat": 4,
 "nbformat_minor": 5
}
