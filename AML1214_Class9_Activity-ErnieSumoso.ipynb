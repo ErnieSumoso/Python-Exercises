{
 "cells": [
  {
   "cell_type": "markdown",
   "id": "6c23bbe7-d43b-4f67-b5ea-26039baac06a",
   "metadata": {},
   "source": [
    "# AML1214 - Python Programming - Class 9 Activity\n",
    "# Ernie Sumoso - ID: 0881591\n"
   ]
  },
  {
   "cell_type": "code",
   "execution_count": 1,
   "id": "c59ec6bf-669a-4263-bf9a-5dd918464393",
   "metadata": {
    "tags": []
   },
   "outputs": [
    {
     "name": "stdout",
     "output_type": "stream",
     "text": [
      "0\n",
      "1\n",
      "2\n",
      "3\n",
      "4\n",
      "5\n",
      "6\n",
      "7\n",
      "8\n",
      "9\n"
     ]
    }
   ],
   "source": [
    "# Question 1: Print First 10 natural numbers using while loop\n",
    "def print_numbers(limit):\n",
    "    num = 0\n",
    "    while ( num < limit):\n",
    "        print(num)\n",
    "        num += 1\n",
    "\n",
    "print_numbers(10)"
   ]
  },
  {
   "cell_type": "code",
   "execution_count": 2,
   "id": "b2df56a2-8f17-4683-97d1-83a79db81e53",
   "metadata": {
    "tags": []
   },
   "outputs": [
    {
     "name": "stdout",
     "output_type": "stream",
     "text": [
      "1 \n",
      "1 2 \n",
      "1 2 3 \n",
      "1 2 3 4 \n"
     ]
    }
   ],
   "source": [
    "# Question 2: Print the following pattern.\n",
    "def print_pattern(num):\n",
    "    for i in range(num):\n",
    "        for j in range(i+1):\n",
    "            print(f\"{j+1} \",end=\"\")\n",
    "        print()\n",
    "\n",
    "print_pattern(4)"
   ]
  },
  {
   "cell_type": "code",
   "execution_count": 3,
   "id": "9cf37723-7ec9-46ea-988a-094b1aba07e5",
   "metadata": {
    "tags": []
   },
   "outputs": [
    {
     "name": "stdin",
     "output_type": "stream",
     "text": [
      "Please insert a number. 10\n"
     ]
    },
    {
     "name": "stdout",
     "output_type": "stream",
     "text": [
      "55\n"
     ]
    }
   ],
   "source": [
    "# Question 3: Accept number from user and calculate the sum of all number between 1 and given number. \n",
    "def calculate_sum():\n",
    "    num = int(input(\"Please insert a number.\"))\n",
    "    summ = 0\n",
    "    for i in range(num+1):\n",
    "        summ += i\n",
    "    return summ\n",
    "print(calculate_sum())"
   ]
  },
  {
   "cell_type": "code",
   "execution_count": 4,
   "id": "a01a23f7-0da2-4cde-87ee-21ce0d31d1e3",
   "metadata": {
    "tags": []
   },
   "outputs": [
    {
     "name": "stdout",
     "output_type": "stream",
     "text": [
      "2\n",
      "4\n",
      "6\n",
      "8\n",
      "10\n",
      "12\n",
      "14\n",
      "16\n",
      "18\n",
      "20\n"
     ]
    }
   ],
   "source": [
    "# Question 4: Print multiplication table of given number. \n",
    "def print_mult_table(num):\n",
    "    for i in range(1, 11):\n",
    "        print(f\"{i*num}\")\n",
    "\n",
    "print_mult_table(2)"
   ]
  },
  {
   "cell_type": "code",
   "execution_count": 5,
   "id": "460826c7-fe9f-4c33-8c70-ebc8175c3172",
   "metadata": {
    "tags": []
   },
   "outputs": [
    {
     "name": "stdout",
     "output_type": "stream",
     "text": [
      "15\n",
      "55\n",
      "75\n",
      "150\n"
     ]
    }
   ],
   "source": [
    "# Question 5: Given a list iterate it and display numbers which are divisible by 5 and if you find number\n",
    "# greater than 150 stop the loop iteration.\n",
    "def iterate_list(lst):\n",
    "    for num in lst:\n",
    "        if num > 150:\n",
    "            break\n",
    "        if num % 5 == 0:\n",
    "            print(num)\n",
    "\n",
    "list1 = [12, 15, 32, 42, 55, 75, 122, 132, 150, 180, 200]\n",
    "iterate_list(list1)    "
   ]
  },
  {
   "cell_type": "code",
   "execution_count": 6,
   "id": "cb150fe4-2cf2-401b-a9d4-2f49bff3ae23",
   "metadata": {
    "tags": []
   },
   "outputs": [
    {
     "name": "stdout",
     "output_type": "stream",
     "text": [
      "5\n"
     ]
    }
   ],
   "source": [
    "# Question 6: Given a number count the total number of digits in a number. \n",
    "def count_digits(num):\n",
    "    str_num = str(num)\n",
    "    digits = 0\n",
    "    for char in str_num:\n",
    "        digits += 1\n",
    "    return digits\n",
    "\n",
    "print(count_digits(75869))"
   ]
  },
  {
   "cell_type": "code",
   "execution_count": 7,
   "id": "d3026e31-5e25-433b-8eaa-54b61709eb8c",
   "metadata": {
    "tags": []
   },
   "outputs": [
    {
     "name": "stdout",
     "output_type": "stream",
     "text": [
      "5 4 3 2 1 \n",
      "4 3 2 1 \n",
      "3 2 1 \n",
      "2 1 \n",
      "1 \n"
     ]
    }
   ],
   "source": [
    "# Question 7: Print the following pattern using for loop.\n",
    "def print_pattern_2(num):\n",
    "    for i in range(num, 0, -1):\n",
    "        for j in range(i):\n",
    "            print(f\"{i - j} \",end=\"\")\n",
    "        print()\n",
    "\n",
    "print_pattern_2(5)"
   ]
  },
  {
   "cell_type": "code",
   "execution_count": 14,
   "id": "8d233c48-23d5-4f19-9d73-0cd462d113ac",
   "metadata": {
    "tags": []
   },
   "outputs": [
    {
     "name": "stdout",
     "output_type": "stream",
     "text": [
      "[50, 40, 30, 20, 10]\n"
     ]
    }
   ],
   "source": [
    "# Question 8: Reverse the following list using for loop\n",
    "def reverse_list(lst):\n",
    "    reversed = []\n",
    "    for index in range(len(lst)-1, -1, -1):\n",
    "        reversed.append(lst[index])\n",
    "    return reversed\n",
    "list = [10, 20, 30, 40, 50]\n",
    "print(reverse_list(list))"
   ]
  },
  {
   "cell_type": "code",
   "execution_count": 9,
   "id": "003d06f4-c4cb-4fa9-92c7-7c8741d5fe42",
   "metadata": {
    "tags": []
   },
   "outputs": [
    {
     "name": "stdout",
     "output_type": "stream",
     "text": [
      "0\n",
      "1\n",
      "Done!\n"
     ]
    }
   ],
   "source": [
    "# Question 9: Display a message “Done” after successful execution of for loop.\n",
    "def print_done_afer_loop(num):\n",
    "    for i in range(num):\n",
    "        print(i)\n",
    "    else:\n",
    "        print(\"Done!\")\n",
    "\n",
    "print_done_afer_loop(2)"
   ]
  },
  {
   "cell_type": "code",
   "execution_count": 10,
   "id": "0eae8314-4192-4211-aac0-ae1a5a8be06d",
   "metadata": {
    "tags": []
   },
   "outputs": [
    {
     "name": "stdout",
     "output_type": "stream",
     "text": [
      "Fibonacci sequence:\n",
      "0 1 1 2 3 5 8 13 21 34 "
     ]
    }
   ],
   "source": [
    "# Question 10: Display Fibonacci series up to 10 terms.\n",
    "def fibonacci(term):\n",
    "    if term in [0,1]:\n",
    "        return term\n",
    "    else:\n",
    "        return fibonacci(term-1) + fibonacci(term-2)\n",
    "\n",
    "def print_fibonacci(terms):\n",
    "    print(\"Fibonacci sequence:\")\n",
    "    for i in range(terms):\n",
    "        print(fibonacci(i), end=\" \")\n",
    "        \n",
    "print_fibonacci(10)"
   ]
  },
  {
   "cell_type": "code",
   "execution_count": 11,
   "id": "887c944b-e206-4184-91e1-74b93f83b3b2",
   "metadata": {
    "tags": []
   },
   "outputs": [
    {
     "data": {
      "text/plain": [
       "120"
      ]
     },
     "execution_count": 11,
     "metadata": {},
     "output_type": "execute_result"
    }
   ],
   "source": [
    "# Question 11: Write a loop to find the factorial of any number\n",
    "def factorial(num):\n",
    "    fac = 1\n",
    "    for i in range(1, num + 1):\n",
    "        fac *= i\n",
    "    return fac\n",
    "\n",
    "factorial(5)"
   ]
  },
  {
   "cell_type": "code",
   "execution_count": 12,
   "id": "9990ae80-80ee-4c62-a900-ac56e8ee5b35",
   "metadata": {
    "tags": []
   },
   "outputs": [
    {
     "name": "stdout",
     "output_type": "stream",
     "text": [
      "Prime numbers between 25 and 40 are:\n",
      "29\n",
      "31\n",
      "37\n"
     ]
    }
   ],
   "source": [
    "# Question 12: Python program to display all the prime numbers within a range.\n",
    "def is_prime(num):\n",
    "    for i in range(2, num):\n",
    "        if num % i == 0:\n",
    "            return False\n",
    "    return True\n",
    "    \n",
    "def find_primes_range(start, end):\n",
    "    print(f\"Prime numbers between {start} and {end} are:\")\n",
    "    for num in range(start, end + 1):\n",
    "        if is_prime(num):\n",
    "            print(num)\n",
    "\n",
    "find_primes_range(25,40)"
   ]
  }
 ],
 "metadata": {
  "kernelspec": {
   "display_name": "Python 3 (ipykernel)",
   "language": "python",
   "name": "python3"
  },
  "language_info": {
   "codemirror_mode": {
    "name": "ipython",
    "version": 3
   },
   "file_extension": ".py",
   "mimetype": "text/x-python",
   "name": "python",
   "nbconvert_exporter": "python",
   "pygments_lexer": "ipython3",
   "version": "3.11.4"
  }
 },
 "nbformat": 4,
 "nbformat_minor": 5
}
