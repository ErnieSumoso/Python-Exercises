{
 "cells": [
  {
   "cell_type": "markdown",
   "id": "bd38e082-7fbb-4d62-a5ab-3c214fd3018a",
   "metadata": {},
   "source": [
    "# In-Class Activity #10\n",
    "# Ernie Sumoso - ID: 881591"
   ]
  },
  {
   "cell_type": "code",
   "execution_count": 37,
   "id": "c1a62ab9-0273-4eed-8463-7cc1e9d758b9",
   "metadata": {
    "tags": []
   },
   "outputs": [
    {
     "name": "stdout",
     "output_type": "stream",
     "text": [
      "Thursday\n"
     ]
    }
   ],
   "source": [
    "import time as t\n",
    "import datetime as dt\n",
    "\n",
    "# 1. Use the datetime module to write a program that gets the current date and prints the day of\n",
    "# the week.\n",
    "def print_current_day_of_week():\n",
    "    now = dt.datetime.now()\n",
    "    print(now.strftime(\"%A\"))\n",
    "    \n",
    "print_current_day_of_week()"
   ]
  },
  {
   "cell_type": "code",
   "execution_count": 72,
   "id": "7be66a00-35c5-4be1-b0b0-0a01efd571eb",
   "metadata": {
    "tags": []
   },
   "outputs": [
    {
     "name": "stdin",
     "output_type": "stream",
     "text": [
      "What year is your birthday? 1999\n",
      "What month is your birthday? (1-12) 4\n",
      "What day is your birthday? (1-31) 5\n"
     ]
    },
    {
     "name": "stdout",
     "output_type": "stream",
     "text": [
      "Your age is: 24\n",
      "You have 140 days 3 hours 39 minutes 18 seconds until your next birthday.\n"
     ]
    }
   ],
   "source": [
    "# 2. Write a program that takes a birthday of user as input and prints the user’s age and the number of\n",
    "# days, hours, minutes and seconds until their next birthday.\n",
    "def get_age(birth):\n",
    "    today = dt.datetime.now()\n",
    "    difference  = today - birth\n",
    "    age = int((difference.days + difference.seconds/86400)//365.2425)\n",
    "    return age\n",
    "    \n",
    "def print_next_birth(birth):\n",
    "    today = dt.datetime.now()\n",
    "    this_year_birth = dt.datetime(today.year, birth.month, birth.day)\n",
    "    if(today < this_year_birth):\n",
    "        next_birth = this_year_birth\n",
    "    else:\n",
    "        next_birth = dt.datetime(today.year + 1, birth.month, birth.day)\n",
    "    diff = next_birth - today\n",
    "    hours = diff.seconds//3600\n",
    "    mins = int(((diff.seconds/3600) - hours)*60)\n",
    "    secs = int((((diff.seconds/3600) - hours)*60 - mins)*60)\n",
    "    print(f\"You have {diff.days} days {hours} hours {mins} minutes {secs} seconds until your next birthday.\")\n",
    "\n",
    "def print_age_and_next_birth(birth):\n",
    "    print(\"Your age is:\",get_age(birth))\n",
    "    print_next_birth(birth)\n",
    "\n",
    "def ask_birthday():\n",
    "    year = int(input(\"What year is your birthday?\"))\n",
    "    month = int(input(\"What month is your birthday? (1-12)\"))\n",
    "    day = int(input(\"What day is your birthday? (1-31)\"))\n",
    "    return dt.datetime(year, month, day)\n",
    "              \n",
    "print_age_and_next_birth(ask_birthday())\n"
   ]
  },
  {
   "cell_type": "code",
   "execution_count": 74,
   "id": "16ab203c-4c42-42c0-9603-4fecf2f516a2",
   "metadata": {
    "tags": []
   },
   "outputs": [
    {
     "name": "stdin",
     "output_type": "stream",
     "text": [
      "What year is your birthday? 1999\n",
      "What month is your birthday? (1-12) 4\n",
      "What day is your birthday? (1-31) 5\n"
     ]
    },
    {
     "name": "stdout",
     "output_type": "stream",
     "text": [
      "You have lived for 776895965 seconds.\n"
     ]
    }
   ],
   "source": [
    "# 3. Write a program that takes birthday of a person and calculates the total number of seconds they have\n",
    "# been living in epoch time\n",
    "def get_seconds(birth):\n",
    "    today = dt.datetime.now()\n",
    "    diff  = today - birth\n",
    "    return int(diff.days*86400 + diff.seconds)\n",
    "\n",
    "def print_seconds_living(birth):\n",
    "    print(\"You have lived for\", get_seconds(birth), \"seconds.\")\n",
    "print_seconds_living(ask_birthday())"
   ]
  },
  {
   "cell_type": "code",
   "execution_count": 78,
   "id": "7eb94d75-8c8e-4b48-a9f4-7b84cbbd183c",
   "metadata": {
    "tags": []
   },
   "outputs": [
    {
     "name": "stdout",
     "output_type": "stream",
     "text": [
      "11/15/23\n",
      "11/16/23\n",
      "11/17/23\n"
     ]
    }
   ],
   "source": [
    "# 4. Write a Python program to print the date for yesterday, today, and tomorrow\n",
    "def print_three_days(date):\n",
    "    yesterday = dt.datetime(date.year, date.month, date.day-1)\n",
    "    tomorrow = dt.datetime(date.year, date.month, date.day+1)\n",
    "    print(yesterday.strftime(\"%x\"))\n",
    "    print(date.strftime(\"%x\"))\n",
    "    print(tomorrow.strftime(\"%x\"))\n",
    "        \n",
    "print_three_days(dt.datetime.now())"
   ]
  }
 ],
 "metadata": {
  "kernelspec": {
   "display_name": "Python 3 (ipykernel)",
   "language": "python",
   "name": "python3"
  },
  "language_info": {
   "codemirror_mode": {
    "name": "ipython",
    "version": 3
   },
   "file_extension": ".py",
   "mimetype": "text/x-python",
   "name": "python",
   "nbconvert_exporter": "python",
   "pygments_lexer": "ipython3",
   "version": "3.11.4"
  }
 },
 "nbformat": 4,
 "nbformat_minor": 5
}
