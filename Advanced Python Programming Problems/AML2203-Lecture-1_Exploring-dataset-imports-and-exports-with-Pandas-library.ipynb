{
 "cells": [
  {
   "cell_type": "code",
   "execution_count": 20,
   "id": "09b7ed18-cadd-46b4-a02d-b2854a7b8ec7",
   "metadata": {
    "tags": []
   },
   "outputs": [],
   "source": [
    "# Ernie Sumoso Vicuna 881591"
   ]
  },
  {
   "cell_type": "code",
   "execution_count": 1,
   "id": "84cc3d34-c9ee-4027-935a-02cf18cadc78",
   "metadata": {
    "tags": []
   },
   "outputs": [],
   "source": [
    "import pandas as pd"
   ]
  },
  {
   "cell_type": "code",
   "execution_count": 2,
   "id": "7d7e12c0-0254-47f6-aa15-3f7c4783ce29",
   "metadata": {
    "tags": []
   },
   "outputs": [
    {
     "name": "stdout",
     "output_type": "stream",
     "text": [
      "<class 'list'>\n",
      "<class 'list'>\n"
     ]
    }
   ],
   "source": [
    "df = pd.read_csv(\"mtcars.csv\") # press tab for function recommendations during coding\n",
    "df.tail()\n",
    "# convert colnames into a list\n",
    "print(type(list(df.columns)))\n",
    "print(type(df.columns.to_list()))"
   ]
  },
  {
   "cell_type": "code",
   "execution_count": 3,
   "id": "8ac52273-8f7b-4082-bd7d-d2a6e3213530",
   "metadata": {
    "tags": []
   },
   "outputs": [
    {
     "data": {
      "text/plain": [
       "Unnamed: 0       0.000\n",
       "vichle_names     0.000\n",
       "mpg              6.250\n",
       "cyl              0.000\n",
       "disp             0.000\n",
       "hp               3.125\n",
       "drat             3.125\n",
       "wt               0.000\n",
       "qsec             9.375\n",
       "v_Shape          6.250\n",
       "am              12.500\n",
       "gear             9.375\n",
       "carb             0.000\n",
       "dtype: float64"
      ]
     },
     "execution_count": 3,
     "metadata": {},
     "output_type": "execute_result"
    }
   ],
   "source": [
    "# check % missing values in columns\n",
    "df.isnull().mean() * 100"
   ]
  },
  {
   "cell_type": "code",
   "execution_count": 4,
   "id": "b6f47400-7c3a-443e-a37c-6ab79801743c",
   "metadata": {
    "tags": []
   },
   "outputs": [
    {
     "data": {
      "text/plain": [
       "['Unnamed: 0',\n",
       " 'mpg',\n",
       " 'cyl',\n",
       " 'disp',\n",
       " 'hp',\n",
       " 'drat',\n",
       " 'wt',\n",
       " 'qsec',\n",
       " 'v_Shape',\n",
       " 'am',\n",
       " 'gear',\n",
       " 'carb']"
      ]
     },
     "execution_count": 4,
     "metadata": {},
     "output_type": "execute_result"
    }
   ],
   "source": [
    "# identify numerical and non-numerical column names\n",
    "df_nnum_cols = df.select_dtypes(include=['object']).columns.to_list()\n",
    "df_num_cols = df.select_dtypes(exclude=['object']).columns.to_list()\n",
    "df_num_cols"
   ]
  },
  {
   "cell_type": "code",
   "execution_count": 5,
   "id": "245f7ab8-fb25-4ab0-a376-782dcc86ca30",
   "metadata": {
    "tags": []
   },
   "outputs": [
    {
     "name": "stdout",
     "output_type": "stream",
     "text": [
      "<class 'pandas.core.frame.DataFrame'>\n"
     ]
    },
    {
     "data": {
      "text/html": [
       "<div>\n",
       "<style scoped>\n",
       "    .dataframe tbody tr th:only-of-type {\n",
       "        vertical-align: middle;\n",
       "    }\n",
       "\n",
       "    .dataframe tbody tr th {\n",
       "        vertical-align: top;\n",
       "    }\n",
       "\n",
       "    .dataframe thead th {\n",
       "        text-align: right;\n",
       "    }\n",
       "</style>\n",
       "<table border=\"1\" class=\"dataframe\">\n",
       "  <thead>\n",
       "    <tr style=\"text-align: right;\">\n",
       "      <th></th>\n",
       "      <th>Unnamed: 0</th>\n",
       "      <th>mpg</th>\n",
       "      <th>cyl</th>\n",
       "      <th>disp</th>\n",
       "      <th>hp</th>\n",
       "      <th>drat</th>\n",
       "      <th>wt</th>\n",
       "      <th>qsec</th>\n",
       "      <th>v_Shape</th>\n",
       "      <th>am</th>\n",
       "      <th>gear</th>\n",
       "      <th>carb</th>\n",
       "    </tr>\n",
       "  </thead>\n",
       "  <tbody>\n",
       "    <tr>\n",
       "      <th>27</th>\n",
       "      <td>27</td>\n",
       "      <td>30.4</td>\n",
       "      <td>4</td>\n",
       "      <td>95.1</td>\n",
       "      <td>113.0</td>\n",
       "      <td>3.77</td>\n",
       "      <td>1.513</td>\n",
       "      <td>16.9</td>\n",
       "      <td>1.0</td>\n",
       "      <td>1.0</td>\n",
       "      <td>5.0</td>\n",
       "      <td>2</td>\n",
       "    </tr>\n",
       "    <tr>\n",
       "      <th>28</th>\n",
       "      <td>28</td>\n",
       "      <td>15.8</td>\n",
       "      <td>8</td>\n",
       "      <td>351.0</td>\n",
       "      <td>264.0</td>\n",
       "      <td>4.22</td>\n",
       "      <td>3.170</td>\n",
       "      <td>14.5</td>\n",
       "      <td>0.0</td>\n",
       "      <td>1.0</td>\n",
       "      <td>5.0</td>\n",
       "      <td>4</td>\n",
       "    </tr>\n",
       "    <tr>\n",
       "      <th>29</th>\n",
       "      <td>29</td>\n",
       "      <td>19.7</td>\n",
       "      <td>6</td>\n",
       "      <td>145.0</td>\n",
       "      <td>175.0</td>\n",
       "      <td>3.62</td>\n",
       "      <td>2.770</td>\n",
       "      <td>15.5</td>\n",
       "      <td>0.0</td>\n",
       "      <td>1.0</td>\n",
       "      <td>5.0</td>\n",
       "      <td>6</td>\n",
       "    </tr>\n",
       "    <tr>\n",
       "      <th>30</th>\n",
       "      <td>30</td>\n",
       "      <td>15.0</td>\n",
       "      <td>8</td>\n",
       "      <td>301.0</td>\n",
       "      <td>335.0</td>\n",
       "      <td>3.54</td>\n",
       "      <td>3.570</td>\n",
       "      <td>14.6</td>\n",
       "      <td>0.0</td>\n",
       "      <td>1.0</td>\n",
       "      <td>5.0</td>\n",
       "      <td>8</td>\n",
       "    </tr>\n",
       "    <tr>\n",
       "      <th>31</th>\n",
       "      <td>31</td>\n",
       "      <td>21.4</td>\n",
       "      <td>4</td>\n",
       "      <td>121.0</td>\n",
       "      <td>109.0</td>\n",
       "      <td>4.11</td>\n",
       "      <td>2.780</td>\n",
       "      <td>18.6</td>\n",
       "      <td>1.0</td>\n",
       "      <td>1.0</td>\n",
       "      <td>4.0</td>\n",
       "      <td>2</td>\n",
       "    </tr>\n",
       "  </tbody>\n",
       "</table>\n",
       "</div>"
      ],
      "text/plain": [
       "    Unnamed: 0   mpg  cyl   disp     hp  drat     wt  qsec  v_Shape   am  \\\n",
       "27          27  30.4    4   95.1  113.0  3.77  1.513  16.9      1.0  1.0   \n",
       "28          28  15.8    8  351.0  264.0  4.22  3.170  14.5      0.0  1.0   \n",
       "29          29  19.7    6  145.0  175.0  3.62  2.770  15.5      0.0  1.0   \n",
       "30          30  15.0    8  301.0  335.0  3.54  3.570  14.6      0.0  1.0   \n",
       "31          31  21.4    4  121.0  109.0  4.11  2.780  18.6      1.0  1.0   \n",
       "\n",
       "    gear  carb  \n",
       "27   5.0     2  \n",
       "28   5.0     4  \n",
       "29   5.0     6  \n",
       "30   5.0     8  \n",
       "31   4.0     2  "
      ]
     },
     "execution_count": 5,
     "metadata": {},
     "output_type": "execute_result"
    }
   ],
   "source": [
    "# identify numerical and non-numerical columns into new dfs\n",
    "df_nnum = df.select_dtypes(include=['object'])\n",
    "df_num = df.select_dtypes(exclude=['object'])\n",
    "\n",
    "print(type(df_num))\n",
    "df_num.tail()"
   ]
  },
  {
   "cell_type": "code",
   "execution_count": 10,
   "id": "ce1cf1e8-282b-4c7e-b527-f10619aaebd9",
   "metadata": {
    "tags": []
   },
   "outputs": [
    {
     "name": "stdout",
     "output_type": "stream",
     "text": [
      "None\n",
      "my_index\n"
     ]
    }
   ],
   "source": [
    "# show and change index name\n",
    "print(df.index.name)\n",
    "df.index.name = \"my_index\"\n",
    "print(df.index.name)"
   ]
  },
  {
   "cell_type": "code",
   "execution_count": 15,
   "id": "e691ee7f-b6a9-4ae7-9bb5-32e883364ca7",
   "metadata": {
    "tags": []
   },
   "outputs": [],
   "source": [
    "# create a dataframe using dictionary\n",
    "names = ['n1', 'n2', 'n3']\n",
    "deg = ['MBA', 'BCA', 'MBA']\n",
    "grades = [100, 90, 70]\n",
    "dict = {'name':names, 'degrees':deg, 'grades':grades}\n",
    "df = pd.DataFrame(dict)"
   ]
  },
  {
   "cell_type": "code",
   "execution_count": 16,
   "id": "9e5b7403-902b-4dcb-8861-c0f7774fb373",
   "metadata": {
    "tags": []
   },
   "outputs": [],
   "source": [
    "# save a df into csv format\n",
    "df.to_csv('example.csv')"
   ]
  },
  {
   "cell_type": "code",
   "execution_count": 17,
   "id": "b24145bb-f293-4e57-abbf-fe7ac4b5c1f8",
   "metadata": {
    "tags": []
   },
   "outputs": [],
   "source": [
    "# save into json format\n",
    "df.to_json('example2.json')"
   ]
  },
  {
   "cell_type": "code",
   "execution_count": 18,
   "id": "4777ec02-7003-4b0b-8855-48897e5abaa3",
   "metadata": {
    "tags": []
   },
   "outputs": [
    {
     "data": {
      "text/html": [
       "<div>\n",
       "<style scoped>\n",
       "    .dataframe tbody tr th:only-of-type {\n",
       "        vertical-align: middle;\n",
       "    }\n",
       "\n",
       "    .dataframe tbody tr th {\n",
       "        vertical-align: top;\n",
       "    }\n",
       "\n",
       "    .dataframe thead th {\n",
       "        text-align: right;\n",
       "    }\n",
       "</style>\n",
       "<table border=\"1\" class=\"dataframe\">\n",
       "  <thead>\n",
       "    <tr style=\"text-align: right;\">\n",
       "      <th></th>\n",
       "      <th>name</th>\n",
       "      <th>degrees</th>\n",
       "      <th>grades</th>\n",
       "    </tr>\n",
       "  </thead>\n",
       "  <tbody>\n",
       "    <tr>\n",
       "      <th>0</th>\n",
       "      <td>n1</td>\n",
       "      <td>MBA</td>\n",
       "      <td>100</td>\n",
       "    </tr>\n",
       "    <tr>\n",
       "      <th>1</th>\n",
       "      <td>n2</td>\n",
       "      <td>BCA</td>\n",
       "      <td>90</td>\n",
       "    </tr>\n",
       "    <tr>\n",
       "      <th>2</th>\n",
       "      <td>n3</td>\n",
       "      <td>MBA</td>\n",
       "      <td>70</td>\n",
       "    </tr>\n",
       "  </tbody>\n",
       "</table>\n",
       "</div>"
      ],
      "text/plain": [
       "  name degrees  grades\n",
       "0   n1     MBA     100\n",
       "1   n2     BCA      90\n",
       "2   n3     MBA      70"
      ]
     },
     "execution_count": 18,
     "metadata": {},
     "output_type": "execute_result"
    }
   ],
   "source": [
    "# import json file\n",
    "df2 = pd.read_json('example2.json')\n",
    "df.tail()"
   ]
  },
  {
   "cell_type": "code",
   "execution_count": 19,
   "id": "f96a635a-f94e-49ad-9124-d541f4e3e765",
   "metadata": {
    "tags": []
   },
   "outputs": [],
   "source": [
    "# export into excel\n",
    "df2.to_excel('example3.xlsm')"
   ]
  }
 ],
 "metadata": {
  "kernelspec": {
   "display_name": "Python 3 (ipykernel)",
   "language": "python",
   "name": "python3"
  },
  "language_info": {
   "codemirror_mode": {
    "name": "ipython",
    "version": 3
   },
   "file_extension": ".py",
   "mimetype": "text/x-python",
   "name": "python",
   "nbconvert_exporter": "python",
   "pygments_lexer": "ipython3",
   "version": "3.11.5"
  }
 },
 "nbformat": 4,
 "nbformat_minor": 5
}
