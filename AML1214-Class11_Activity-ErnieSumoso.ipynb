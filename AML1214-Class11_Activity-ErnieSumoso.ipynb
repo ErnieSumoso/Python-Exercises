{
 "cells": [
  {
   "cell_type": "markdown",
   "id": "19451bad-c838-47d9-900e-80e77db5ffe1",
   "metadata": {},
   "source": [
    "# In Class Activity 11\n",
    "# Ernie Sumoso\n",
    "# ID: 881591"
   ]
  },
  {
   "cell_type": "code",
   "execution_count": 8,
   "id": "73f8bc5a-5019-4830-b066-8c7c0926ed48",
   "metadata": {
    "tags": []
   },
   "outputs": [
    {
     "name": "stdout",
     "output_type": "stream",
     "text": [
      "In Python you can this is a text file.\n",
      "In Python you can this is the second line of my file.\n",
      "In Python you can this is the third line of my file.\n",
      "\n",
      "\n",
      "['In Python you can this is a text file.\\n', 'In Python you can this is the second line of my file.\\n', 'In Python you can this is the third line of my file.']\n"
     ]
    }
   ],
   "source": [
    "# 10.1 Learning Python\n",
    "path = 'learning_python.txt'\n",
    "\n",
    "def print_contents(path, times):\n",
    "    file = open(path, \"r\")\n",
    "    for i in range(times):\n",
    "        print(file.read())\n",
    "    with open(path, \"r\") as file:\n",
    "        contents = []\n",
    "        for line in file.readlines():\n",
    "            contents.append(line)\n",
    "    print(contents)\n",
    "    \n",
    "print_contents(path, 3)"
   ]
  },
  {
   "cell_type": "code",
   "execution_count": 12,
   "id": "e3f48279-1508-4d31-bd83-2a961956b0ce",
   "metadata": {
    "tags": []
   },
   "outputs": [
    {
     "name": "stdout",
     "output_type": "stream",
     "text": [
      "In C you can this is a text file.\n",
      "In C you can this is the second line of my file.\n",
      "In C you can this is the third line of my file.\n"
     ]
    }
   ],
   "source": [
    "# 10.2 Learning-C\n",
    "def replace_python(path, new_word):\n",
    "    file = open(path, \"r\")\n",
    "    for line in file.readlines():\n",
    "        print(line.replace(\"Python\", new_word).rstrip())\n",
    "\n",
    "replace_python(path, \"C\")"
   ]
  },
  {
   "cell_type": "code",
   "execution_count": 13,
   "id": "76a4800e-992a-44d6-a379-4949cf361055",
   "metadata": {
    "tags": []
   },
   "outputs": [
    {
     "name": "stdin",
     "output_type": "stream",
     "text": [
      "What is your name? Ernie\n"
     ]
    }
   ],
   "source": [
    "# 10.3 Guest\n",
    "def prompt_name_to_file(file_name):\n",
    "    name = input(\"What is your name?\")\n",
    "    file = open(file_name, \"w\")\n",
    "    file.write(name)\n",
    "\n",
    "prompt_name_to_file(\"guest.txt\")"
   ]
  },
  {
   "cell_type": "code",
   "execution_count": 15,
   "id": "9fcdc0c4-964e-4ee3-9f81-2ae26d536a65",
   "metadata": {
    "tags": []
   },
   "outputs": [
    {
     "name": "stdin",
     "output_type": "stream",
     "text": [
      "What is your name? Ernie\n"
     ]
    },
    {
     "name": "stdout",
     "output_type": "stream",
     "text": [
      "Hello, Ernie!\n"
     ]
    },
    {
     "name": "stdin",
     "output_type": "stream",
     "text": [
      "What is your name? Sumoso\n"
     ]
    },
    {
     "name": "stdout",
     "output_type": "stream",
     "text": [
      "Hello, Sumoso!\n"
     ]
    },
    {
     "name": "stdin",
     "output_type": "stream",
     "text": [
      "What is your name? Pouria\n"
     ]
    },
    {
     "name": "stdout",
     "output_type": "stream",
     "text": [
      "Hello, Pouria!\n"
     ]
    },
    {
     "name": "stdin",
     "output_type": "stream",
     "text": [
      "What is your name? Mike\n"
     ]
    },
    {
     "name": "stdout",
     "output_type": "stream",
     "text": [
      "Hello, Mike!\n"
     ]
    },
    {
     "name": "stdin",
     "output_type": "stream",
     "text": [
      "What is your name? Jackman\n"
     ]
    },
    {
     "name": "stdout",
     "output_type": "stream",
     "text": [
      "Hello, Jackman!\n"
     ]
    }
   ],
   "source": [
    "# 10.4 Guest Book\n",
    "def prompt_name():\n",
    "    name = input(\"What is your name?\")\n",
    "    return name\n",
    "\n",
    "def prompt_names_to_file(num_users, file_name):\n",
    "    count_users = 0\n",
    "    file = open(file_name, \"w\")\n",
    "    while count_users < num_users:\n",
    "        count_users += 1\n",
    "        name = prompt_name()\n",
    "        print(f\"Hello, {name}!\")\n",
    "        file.write(f\"The user: {name}, has visited the file.\\n\")\n",
    "        \n",
    "prompt_names_to_file(5, \"guest_book.txt\")"
   ]
  },
  {
   "cell_type": "code",
   "execution_count": 17,
   "id": "b5c18c81-5130-4224-b9de-0c6f297d480b",
   "metadata": {
    "tags": []
   },
   "outputs": [
    {
     "name": "stdin",
     "output_type": "stream",
     "text": [
      "Why do you like programming? Because is fun\n"
     ]
    },
    {
     "name": "stdout",
     "output_type": "stream",
     "text": [
      "Because is fun\n"
     ]
    },
    {
     "name": "stdin",
     "output_type": "stream",
     "text": [
      "Why do you like programming? Because of passion\n"
     ]
    },
    {
     "name": "stdout",
     "output_type": "stream",
     "text": [
      "Because of passion\n"
     ]
    },
    {
     "name": "stdin",
     "output_type": "stream",
     "text": [
      "Why do you like programming? Because of jobs\n"
     ]
    },
    {
     "name": "stdout",
     "output_type": "stream",
     "text": [
      "Because of jobs\n"
     ]
    },
    {
     "name": "stdin",
     "output_type": "stream",
     "text": [
      "Why do you like programming? Because of projects\n"
     ]
    },
    {
     "name": "stdout",
     "output_type": "stream",
     "text": [
      "Because of projects\n"
     ]
    },
    {
     "name": "stdin",
     "output_type": "stream",
     "text": [
      "Why do you like programming? Because of courses\n"
     ]
    },
    {
     "name": "stdout",
     "output_type": "stream",
     "text": [
      "Because of courses\n"
     ]
    }
   ],
   "source": [
    "# 10.5 Programming Poll\n",
    "def prompt_programming_poll(max_polls, file_name):\n",
    "    count_polls = 0\n",
    "    file = open(file_name, \"w\")\n",
    "    while count_polls < max_polls:\n",
    "        count_polls += 1\n",
    "        reason = input(\"Why do you like programming?\")\n",
    "        print(reason)\n",
    "        file.write(reason + '\\n')\n",
    "prompt_programming_poll(5, \"programming_polls.txt\")"
   ]
  },
  {
   "cell_type": "code",
   "execution_count": 32,
   "id": "9773ac5f-8a11-4724-8ed1-16904275ab99",
   "metadata": {
    "tags": []
   },
   "outputs": [
    {
     "name": "stdin",
     "output_type": "stream",
     "text": [
      "What is your username? ernie\n",
      "What is your password? bro1020\n"
     ]
    },
    {
     "name": "stdout",
     "output_type": "stream",
     "text": [
      "User authenticated\n"
     ]
    }
   ],
   "source": [
    "# USERS AND PASSWORDS\n",
    "def ask_credentials(file_name):\n",
    "    file = open(file_name, \"r\")\n",
    "    input_user = input(\"What is your username?\")\n",
    "    input_pass = input(\"What is your password?\")\n",
    "    user_found = False\n",
    "    for line in file.readlines():\n",
    "        line_lst = line.split(',')\n",
    "        user, password = line_lst[0].strip(), line_lst[1].strip()\n",
    "        if input_user == user and input_pass == password:\n",
    "            print(\"User authenticated\")\n",
    "            return\n",
    "        elif input_user == user:\n",
    "            user_found = True\n",
    "    if user_found:\n",
    "        print(\"User not authenticated\")\n",
    "    else:\n",
    "        print(\"User not found\")\n",
    "\n",
    "ask_credentials(\"credentials.txt\")"
   ]
  },
  {
   "cell_type": "code",
   "execution_count": null,
   "id": "574b7d05-c602-4024-9a0c-a351aa8054e5",
   "metadata": {},
   "outputs": [],
   "source": []
  }
 ],
 "metadata": {
  "kernelspec": {
   "display_name": "Python 3 (ipykernel)",
   "language": "python",
   "name": "python3"
  },
  "language_info": {
   "codemirror_mode": {
    "name": "ipython",
    "version": 3
   },
   "file_extension": ".py",
   "mimetype": "text/x-python",
   "name": "python",
   "nbconvert_exporter": "python",
   "pygments_lexer": "ipython3",
   "version": "3.11.4"
  }
 },
 "nbformat": 4,
 "nbformat_minor": 5
}
