{
 "cells": [
  {
   "cell_type": "code",
   "execution_count": 1,
   "id": "a5479e82-4278-461c-b453-14a71e691bd6",
   "metadata": {
    "tags": []
   },
   "outputs": [],
   "source": [
    "# !pip install bs4"
   ]
  },
  {
   "cell_type": "code",
   "execution_count": 2,
   "id": "beda2d51-884c-4927-97ce-e90f1975036c",
   "metadata": {
    "tags": []
   },
   "outputs": [],
   "source": [
    "# !pip install requests"
   ]
  },
  {
   "cell_type": "code",
   "execution_count": 2,
   "id": "d4b0169c-afc3-44fc-9f20-7c8d320ea039",
   "metadata": {
    "tags": []
   },
   "outputs": [],
   "source": [
    "# import libraries\n",
    "from bs4 import BeautifulSoup\n",
    "import requests\n",
    "import pandas as pd"
   ]
  },
  {
   "cell_type": "code",
   "execution_count": 4,
   "id": "2ce33ef3-07c6-4e8f-a1b5-90004b79bd18",
   "metadata": {
    "tags": []
   },
   "outputs": [
    {
     "name": "stdout",
     "output_type": "stream",
     "text": [
      "54\n"
     ]
    },
    {
     "data": {
      "text/plain": [
       "['Addams Family, The',\n",
       " 'Aladdin',\n",
       " 'Anastasia',\n",
       " 'Back to the Future',\n",
       " 'Back to the Future II & III',\n",
       " 'Beauty and the Beast',\n",
       " 'Big',\n",
       " 'Chronicles of Narnia: The Lion, the Witch and the Wardrobe',\n",
       " 'Coraline',\n",
       " 'Duck Soup']"
      ]
     },
     "execution_count": 4,
     "metadata": {},
     "output_type": "execute_result"
    }
   ],
   "source": [
    "# get movie titles to scrap\n",
    "get_request = requests.get(\"https://imsdb.com/genre/Family\")\n",
    "bs = BeautifulSoup(get_request.text, \"html.parser\")\n",
    "interest_section = bs.findAll(\"td\", {\"valign\" : \"top\"})[2]\n",
    "\n",
    "movie_titles = interest_section.findAll(\"a\")\n",
    "movie_titles = [title.text for title in movie_titles if title.attrs['href'].startswith(\"/Movie Scripts/\") and title.attrs['href'].endswith(\".html\")]\n",
    "\n",
    "print(len(movie_titles))\n",
    "movie_titles[:10]"
   ]
  },
  {
   "cell_type": "code",
   "execution_count": 107,
   "id": "4695451c-3c94-4a73-bacb-9c0b89f6cde3",
   "metadata": {
    "tags": []
   },
   "outputs": [
    {
     "data": {
      "text/plain": [
       "['Wall-E',\n",
       " 'Who Framed Roger Rabbit?',\n",
       " 'Wizard of Oz, The',\n",
       " 'Kung Fu Panda',\n",
       " 'Wall-E',\n",
       " 'Up']"
      ]
     },
     "execution_count": 107,
     "metadata": {},
     "output_type": "execute_result"
    }
   ],
   "source": [
    "# reducing the titles just for test\n",
    "movie_titles = movie_titles[-5:] + ['Up']\n",
    "movie_titles"
   ]
  },
  {
   "cell_type": "code",
   "execution_count": 108,
   "id": "1ee1b3fc-66e5-4b11-a67b-4712d6533dc0",
   "metadata": {
    "tags": []
   },
   "outputs": [
    {
     "name": "stdout",
     "output_type": "stream",
     "text": [
      "MOVIE: Wall-E\n"
     ]
    },
    {
     "data": {
      "text/plain": [
       "['',\n",
       " '\\n',\n",
       " '\\n',\n",
       " '\\n',\n",
       " '\\n',\n",
       " '\\n                                    WALL-E',\n",
       " '\\n',\n",
       " '\\n',\n",
       " '\\n                                  Written by',\n",
       " '\\n']"
      ]
     },
     "metadata": {},
     "output_type": "display_data"
    },
    {
     "name": "stdout",
     "output_type": "stream",
     "text": [
      "==============================\n",
      "MOVIE: Wizard of Oz, The\n"
     ]
    },
    {
     "data": {
      "text/plain": [
       "['FADE IN -- Title:',\n",
       " '\\n',\n",
       " '\\nFor nearly forty years this story has given faithful service',\n",
       " '\\nto the Young in Heart; and Time has been powerless to put its',\n",
       " '\\nkindly philosophy out of fashion.',\n",
       " '\\n',\n",
       " '\\nTo those of you who have been faithful to it in return',\n",
       " '\\n',\n",
       " '\\n...and to the Young in Heart --- we dedicate this picture.',\n",
       " '\\n']"
      ]
     },
     "metadata": {},
     "output_type": "display_data"
    },
    {
     "name": "stdout",
     "output_type": "stream",
     "text": [
      "==============================\n",
      "MOVIE: Kung Fu Panda\n"
     ]
    },
    {
     "data": {
      "text/plain": [
       "['',\n",
       " '\\n',\n",
       " '\\n',\n",
       " '\\n',\n",
       " '\\n                             KUNG FU PANDA',\n",
       " '\\n          ',\n",
       " '\\n          ',\n",
       " '\\n',\n",
       " '\\n                              Written By',\n",
       " '\\n          ']"
      ]
     },
     "metadata": {},
     "output_type": "display_data"
    },
    {
     "name": "stdout",
     "output_type": "stream",
     "text": [
      "==============================\n",
      "MOVIE: Wall-E\n"
     ]
    },
    {
     "data": {
      "text/plain": [
       "['',\n",
       " '\\n',\n",
       " '\\n',\n",
       " '\\n',\n",
       " '\\n',\n",
       " '\\n                                    WALL-E',\n",
       " '\\n',\n",
       " '\\n',\n",
       " '\\n                                  Written by',\n",
       " '\\n']"
      ]
     },
     "metadata": {},
     "output_type": "display_data"
    },
    {
     "name": "stdout",
     "output_type": "stream",
     "text": [
      "==============================\n",
      "MOVIE: Up\n"
     ]
    },
    {
     "data": {
      "text/plain": [
       "[' ',\n",
       " '\\n          ',\n",
       " '\\n',\n",
       " '\\n                                       UP',\n",
       " '\\n',\n",
       " '\\n          ',\n",
       " '\\n                                   Written by',\n",
       " '\\n          ',\n",
       " '\\n                   Pete Docter, Bob Peterson & Thomas McCarthy',\n",
       " '\\n          ']"
      ]
     },
     "metadata": {},
     "output_type": "display_data"
    },
    {
     "name": "stdout",
     "output_type": "stream",
     "text": [
      "==============================\n"
     ]
    }
   ],
   "source": [
    "# scrap movie scripts\n",
    "for movie_title in movie_titles:\n",
    "    \n",
    "    # get the html\n",
    "    link_movie_title = movie_title.replace(' ', '-')\n",
    "    get_request = requests.get(\"https://imsdb.com/scripts/\" + link_movie_title + \".html\")\n",
    "    bs = BeautifulSoup(get_request.text, \"html.parser\")\n",
    "\n",
    "    # some very few scripts have different HTML format, let's ignore them for now\n",
    "    if len(bs.findAll(\"pre\")) == 0:\n",
    "        continue\n",
    "    \n",
    "    # scrap the entire script\n",
    "    script_ = bs.findAll(\"pre\")[0].text\n",
    "    script_ = script_.split(\"\\r\")\n",
    "    \n",
    "    # display movie title and first 10 lines of the script\n",
    "    print(\"MOVIE:\", movie_title)\n",
    "    display(script_[:10])\n",
    "    print(\"=\" * 30)"
   ]
  },
  {
   "cell_type": "code",
   "execution_count": 113,
   "id": "fb6b4e77-922b-495d-add6-61799aa3b4d0",
   "metadata": {
    "tags": []
   },
   "outputs": [
    {
     "data": {
      "text/plain": [
       "['CONSTRUCTION WORKER STEVE',\n",
       " 'CARL',\n",
       " 'YOUNG CARL',\n",
       " 'YOUNG ELLIE',\n",
       " \"GIRL'S VOICE\",\n",
       " 'DOGS',\n",
       " 'NEWSREEL ANNOUNCER',\n",
       " 'VOICE',\n",
       " 'CAMP MASTER STRAUCH',\n",
       " 'MUNTZ',\n",
       " 'ALPHA',\n",
       " 'OFFICER EDITH',\n",
       " 'DOG WALLA',\n",
       " 'CROWD',\n",
       " 'OMEGA',\n",
       " 'BETA',\n",
       " 'CONSTRUCTION FOREMAN TOM',\n",
       " 'RUSSELL',\n",
       " 'CARL/RUSSELL',\n",
       " 'GAMMA',\n",
       " 'MISC DOG',\n",
       " 'DUG',\n",
       " 'NURSE GEORGE']"
      ]
     },
     "execution_count": 113,
     "metadata": {},
     "output_type": "execute_result"
    }
   ],
   "source": [
    "# get characters from movie script\n",
    "script = script_[:]\n",
    "character_start = '\\n                              '\n",
    "\n",
    "characters = list(set([line.strip() for line in script if line.startswith(character_start) and line[len(character_start)] != ' ']))\n",
    "characters = list(set([ch.split('(')[0].strip() for ch in characters]))\n",
    "if '' in characters: characters.remove('')\n",
    "\n",
    "characters"
   ]
  },
  {
   "cell_type": "code",
   "execution_count": 8,
   "id": "cfabc162-5e4b-45a6-a42e-f388bdd138f5",
   "metadata": {
    "tags": []
   },
   "outputs": [],
   "source": [
    "# get title from movie script\n",
    "# === not required for now ===\n",
    "\n",
    "# script = script_[:]\n",
    "# script = list(map(str.strip, script))\n",
    "# script = [line for line in script if len(line) != 0]\n",
    "\n",
    "# title = script[0]\n",
    "# title"
   ]
  },
  {
   "cell_type": "code",
   "execution_count": 114,
   "id": "f521e974-d93c-4679-a43d-455ea4acb94e",
   "metadata": {
    "tags": []
   },
   "outputs": [
    {
     "data": {
      "text/plain": [
       "[('Up',\n",
       "  'NEWSREEL ANNOUNCER',\n",
       "  '\"Movietown News\" presents... Spotlight on Adventure!'),\n",
       " ('Up',\n",
       "  'NEWSREEL ANNOUNCER',\n",
       "  'What you are now witnessing is footage never before seen by civilized humanity: a lost world in South America! Lurking in the shadow of majestic Paradise Falls, it sports plants and animals undiscovered by science. Who would dare set foot on this inhospitable summit?'),\n",
       " ('Up', 'NEWSREEL ANNOUNCER', 'Why, our subject today: Charles Muntz!'),\n",
       " ('Up',\n",
       "  'NEWSREEL ANNOUNCER',\n",
       "  'The beloved explorer lands his dirigible, the \"Spirit of Adventure,\" in New Hampshire this week, completing a year long expedition to the lost world!'),\n",
       " ('Up',\n",
       "  'NEWSREEL ANNOUNCER',\n",
       "  'This lighter-than-air craft was designed by Muntz himself, and is longer than 22 Prohibition paddy- wagons placed end to end.'),\n",
       " ('Up', 'NEWSREEL ANNOUNCER', 'And here comes the adventurer now!'),\n",
       " ('Up',\n",
       "  'NEWSREEL ANNOUNCER',\n",
       "  \"Never apart from his faithful dogs, Muntz conceived the craft for canine comfort! It's a veritable floating palace in the sky...\"),\n",
       " ('Up',\n",
       "  'NEWSREEL ANNOUNCER',\n",
       "  '...complete with doggie bath and mechanical canine walker.'),\n",
       " ('Up',\n",
       "  'NEWSREEL ANNOUNCER',\n",
       "  \"And Jiminy Cricket, do the locals consider Muntz the bee's knees! And how!\"),\n",
       " ('Up', 'MUNTZ', '\"Adventure is out there!\"')]"
      ]
     },
     "execution_count": 114,
     "metadata": {},
     "output_type": "execute_result"
    }
   ],
   "source": [
    "# get lines from movie script\n",
    "script = script_[:]\n",
    "\n",
    "lines = []\n",
    "characters_tuple = tuple(characters)\n",
    "saving_line, character_line = False, \"\"\n",
    "for i, line in enumerate(script):\n",
    "    \n",
    "    if line.strip().startswith(characters_tuple):\n",
    "        # print(i, line.strip())\n",
    "        character = [ch for ch in characters_tuple if line.strip().startswith(ch)]\n",
    "        character = max(character, key=len)\n",
    "        saving_line, character_line = True, \"\"\n",
    "        continue\n",
    "        \n",
    "    if saving_line and line.strip() != \"\":\n",
    "        character_line += line.strip() + \" \"\n",
    "        continue\n",
    "        \n",
    "    if saving_line and line.strip() == \"\":\n",
    "        saving_line = False\n",
    "        lines.append((movie_title, character, character_line.rstrip()))\n",
    "        \n",
    "lines[:10]"
   ]
  },
  {
   "cell_type": "code",
   "execution_count": 115,
   "id": "4c1880b7-4b95-4e15-b613-7a3be38a0d04",
   "metadata": {
    "tags": []
   },
   "outputs": [
    {
     "data": {
      "text/html": [
       "<div>\n",
       "<style scoped>\n",
       "    .dataframe tbody tr th:only-of-type {\n",
       "        vertical-align: middle;\n",
       "    }\n",
       "\n",
       "    .dataframe tbody tr th {\n",
       "        vertical-align: top;\n",
       "    }\n",
       "\n",
       "    .dataframe thead th {\n",
       "        text-align: right;\n",
       "    }\n",
       "</style>\n",
       "<table border=\"1\" class=\"dataframe\">\n",
       "  <thead>\n",
       "    <tr style=\"text-align: right;\">\n",
       "      <th></th>\n",
       "      <th>movie_title</th>\n",
       "      <th>character</th>\n",
       "      <th>line</th>\n",
       "    </tr>\n",
       "  </thead>\n",
       "  <tbody>\n",
       "    <tr>\n",
       "      <th>0</th>\n",
       "      <td>Up</td>\n",
       "      <td>NEWSREEL ANNOUNCER</td>\n",
       "      <td>\"Movietown News\" presents... Spotlight on Adve...</td>\n",
       "    </tr>\n",
       "    <tr>\n",
       "      <th>1</th>\n",
       "      <td>Up</td>\n",
       "      <td>NEWSREEL ANNOUNCER</td>\n",
       "      <td>What you are now witnessing is footage never b...</td>\n",
       "    </tr>\n",
       "    <tr>\n",
       "      <th>2</th>\n",
       "      <td>Up</td>\n",
       "      <td>NEWSREEL ANNOUNCER</td>\n",
       "      <td>Why, our subject today: Charles Muntz!</td>\n",
       "    </tr>\n",
       "    <tr>\n",
       "      <th>3</th>\n",
       "      <td>Up</td>\n",
       "      <td>NEWSREEL ANNOUNCER</td>\n",
       "      <td>The beloved explorer lands his dirigible, the ...</td>\n",
       "    </tr>\n",
       "    <tr>\n",
       "      <th>4</th>\n",
       "      <td>Up</td>\n",
       "      <td>NEWSREEL ANNOUNCER</td>\n",
       "      <td>This lighter-than-air craft was designed by Mu...</td>\n",
       "    </tr>\n",
       "    <tr>\n",
       "      <th>...</th>\n",
       "      <td>...</td>\n",
       "      <td>...</td>\n",
       "      <td>...</td>\n",
       "    </tr>\n",
       "    <tr>\n",
       "      <th>710</th>\n",
       "      <td>Up</td>\n",
       "      <td>CARL</td>\n",
       "      <td>It's red, isn't it?</td>\n",
       "    </tr>\n",
       "    <tr>\n",
       "      <th>711</th>\n",
       "      <td>Up</td>\n",
       "      <td>RUSSELL</td>\n",
       "      <td>Mr. Fredricksen, you're cheating.</td>\n",
       "    </tr>\n",
       "    <tr>\n",
       "      <th>712</th>\n",
       "      <td>Up</td>\n",
       "      <td>CARL</td>\n",
       "      <td>No, I'm not. Red one.</td>\n",
       "    </tr>\n",
       "    <tr>\n",
       "      <th>713</th>\n",
       "      <td>Up</td>\n",
       "      <td>RUSSELL</td>\n",
       "      <td>That's a fire hydrant.</td>\n",
       "    </tr>\n",
       "    <tr>\n",
       "      <th>714</th>\n",
       "      <td>Up</td>\n",
       "      <td>CARL</td>\n",
       "      <td>Maybe I need new glasses.</td>\n",
       "    </tr>\n",
       "  </tbody>\n",
       "</table>\n",
       "<p>715 rows × 3 columns</p>\n",
       "</div>"
      ],
      "text/plain": [
       "    movie_title           character  \\\n",
       "0            Up  NEWSREEL ANNOUNCER   \n",
       "1            Up  NEWSREEL ANNOUNCER   \n",
       "2            Up  NEWSREEL ANNOUNCER   \n",
       "3            Up  NEWSREEL ANNOUNCER   \n",
       "4            Up  NEWSREEL ANNOUNCER   \n",
       "..          ...                 ...   \n",
       "710          Up                CARL   \n",
       "711          Up             RUSSELL   \n",
       "712          Up                CARL   \n",
       "713          Up             RUSSELL   \n",
       "714          Up                CARL   \n",
       "\n",
       "                                                  line  \n",
       "0    \"Movietown News\" presents... Spotlight on Adve...  \n",
       "1    What you are now witnessing is footage never b...  \n",
       "2               Why, our subject today: Charles Muntz!  \n",
       "3    The beloved explorer lands his dirigible, the ...  \n",
       "4    This lighter-than-air craft was designed by Mu...  \n",
       "..                                                 ...  \n",
       "710                                It's red, isn't it?  \n",
       "711                  Mr. Fredricksen, you're cheating.  \n",
       "712                              No, I'm not. Red one.  \n",
       "713                             That's a fire hydrant.  \n",
       "714                          Maybe I need new glasses.  \n",
       "\n",
       "[715 rows x 3 columns]"
      ]
     },
     "execution_count": 115,
     "metadata": {},
     "output_type": "execute_result"
    }
   ],
   "source": [
    "# creating df from character lines of movie script\n",
    "df = pd.DataFrame(lines, columns =['movie_title', 'character', 'line'])\n",
    "df"
   ]
  },
  {
   "cell_type": "code",
   "execution_count": 116,
   "id": "b3281bfe-bd44-4f4e-a227-47bfe57e6458",
   "metadata": {
    "tags": []
   },
   "outputs": [
    {
     "data": {
      "text/plain": [
       "CARL                         243\n",
       "RUSSELL                      211\n",
       "MUNTZ                         60\n",
       "DUG                           50\n",
       "YOUNG ELLIE                   31\n",
       "ALPHA                         23\n",
       "NEWSREEL ANNOUNCER            21\n",
       "GAMMA                         15\n",
       "BETA                          11\n",
       "VOICE                          8\n",
       "CONSTRUCTION FOREMAN TOM       7\n",
       "DOG WALLA                      6\n",
       "CAMP MASTER STRAUCH            5\n",
       "CONSTRUCTION WORKER STEVE      4\n",
       "GIRL'S VOICE                   4\n",
       "YOUNG CARL                     4\n",
       "NURSE GEORGE                   3\n",
       "OFFICER EDITH                  2\n",
       "DOGS                           2\n",
       "OMEGA                          2\n",
       "CROWD                          1\n",
       "MISC DOG                       1\n",
       "CARL/RUSSELL                   1\n",
       "Name: character, dtype: int64"
      ]
     },
     "execution_count": 116,
     "metadata": {},
     "output_type": "execute_result"
    }
   ],
   "source": [
    "df['character'].value_counts()"
   ]
  },
  {
   "cell_type": "code",
   "execution_count": 117,
   "id": "38815cde-7b53-462f-98dd-f521fc9af975",
   "metadata": {
    "tags": []
   },
   "outputs": [
    {
     "data": {
      "text/html": [
       "<div>\n",
       "<style scoped>\n",
       "    .dataframe tbody tr th:only-of-type {\n",
       "        vertical-align: middle;\n",
       "    }\n",
       "\n",
       "    .dataframe tbody tr th {\n",
       "        vertical-align: top;\n",
       "    }\n",
       "\n",
       "    .dataframe thead th {\n",
       "        text-align: right;\n",
       "    }\n",
       "</style>\n",
       "<table border=\"1\" class=\"dataframe\">\n",
       "  <thead>\n",
       "    <tr style=\"text-align: right;\">\n",
       "      <th></th>\n",
       "      <th>movie_title</th>\n",
       "      <th>character</th>\n",
       "      <th>line</th>\n",
       "    </tr>\n",
       "  </thead>\n",
       "  <tbody>\n",
       "    <tr>\n",
       "      <th>0</th>\n",
       "      <td>Up</td>\n",
       "      <td>MUNTZ</td>\n",
       "      <td>\"Adventure is out there!\"</td>\n",
       "    </tr>\n",
       "    <tr>\n",
       "      <th>1</th>\n",
       "      <td>Up</td>\n",
       "      <td>MUNTZ</td>\n",
       "      <td>Gentlemen, I give you: the Monster of Paradise...</td>\n",
       "    </tr>\n",
       "    <tr>\n",
       "      <th>2</th>\n",
       "      <td>Up</td>\n",
       "      <td>MUNTZ</td>\n",
       "      <td>I promise to capture the beast... alive!</td>\n",
       "    </tr>\n",
       "    <tr>\n",
       "      <th>3</th>\n",
       "      <td>Up</td>\n",
       "      <td>MUNTZ</td>\n",
       "      <td>And I will not come back until I do! The crowd...</td>\n",
       "    </tr>\n",
       "    <tr>\n",
       "      <th>4</th>\n",
       "      <td>Up</td>\n",
       "      <td>YOUNG ELLIE</td>\n",
       "      <td>It's a beautiful day, winds out of the east at...</td>\n",
       "    </tr>\n",
       "    <tr>\n",
       "      <th>...</th>\n",
       "      <td>...</td>\n",
       "      <td>...</td>\n",
       "      <td>...</td>\n",
       "    </tr>\n",
       "    <tr>\n",
       "      <th>590</th>\n",
       "      <td>Up</td>\n",
       "      <td>CARL</td>\n",
       "      <td>It's red, isn't it?</td>\n",
       "    </tr>\n",
       "    <tr>\n",
       "      <th>591</th>\n",
       "      <td>Up</td>\n",
       "      <td>RUSSELL</td>\n",
       "      <td>Mr. Fredricksen, you're cheating.</td>\n",
       "    </tr>\n",
       "    <tr>\n",
       "      <th>592</th>\n",
       "      <td>Up</td>\n",
       "      <td>CARL</td>\n",
       "      <td>No, I'm not. Red one.</td>\n",
       "    </tr>\n",
       "    <tr>\n",
       "      <th>593</th>\n",
       "      <td>Up</td>\n",
       "      <td>RUSSELL</td>\n",
       "      <td>That's a fire hydrant.</td>\n",
       "    </tr>\n",
       "    <tr>\n",
       "      <th>594</th>\n",
       "      <td>Up</td>\n",
       "      <td>CARL</td>\n",
       "      <td>Maybe I need new glasses.</td>\n",
       "    </tr>\n",
       "  </tbody>\n",
       "</table>\n",
       "<p>595 rows × 3 columns</p>\n",
       "</div>"
      ],
      "text/plain": [
       "    movie_title    character  \\\n",
       "0            Up        MUNTZ   \n",
       "1            Up        MUNTZ   \n",
       "2            Up        MUNTZ   \n",
       "3            Up        MUNTZ   \n",
       "4            Up  YOUNG ELLIE   \n",
       "..          ...          ...   \n",
       "590          Up         CARL   \n",
       "591          Up      RUSSELL   \n",
       "592          Up         CARL   \n",
       "593          Up      RUSSELL   \n",
       "594          Up         CARL   \n",
       "\n",
       "                                                  line  \n",
       "0                            \"Adventure is out there!\"  \n",
       "1    Gentlemen, I give you: the Monster of Paradise...  \n",
       "2             I promise to capture the beast... alive!  \n",
       "3    And I will not come back until I do! The crowd...  \n",
       "4    It's a beautiful day, winds out of the east at...  \n",
       "..                                                 ...  \n",
       "590                                It's red, isn't it?  \n",
       "591                  Mr. Fredricksen, you're cheating.  \n",
       "592                              No, I'm not. Red one.  \n",
       "593                             That's a fire hydrant.  \n",
       "594                          Maybe I need new glasses.  \n",
       "\n",
       "[595 rows x 3 columns]"
      ]
     },
     "execution_count": 117,
     "metadata": {},
     "output_type": "execute_result"
    }
   ],
   "source": [
    "# filter characters that have less than \"n\" lines\n",
    "min_lines = 30\n",
    "df = df.groupby('character').filter(lambda x: len(x) >= min_lines)\n",
    "df.reset_index(drop=True, inplace=True)\n",
    "df"
   ]
  },
  {
   "cell_type": "code",
   "execution_count": 119,
   "id": "f95b6993-82d7-4d94-aae9-1f3cc654b33d",
   "metadata": {
    "tags": []
   },
   "outputs": [
    {
     "data": {
      "text/plain": [
       "CARL           243\n",
       "RUSSELL        211\n",
       "MUNTZ           60\n",
       "DUG             50\n",
       "YOUNG ELLIE     31\n",
       "Name: character, dtype: int64"
      ]
     },
     "execution_count": 119,
     "metadata": {},
     "output_type": "execute_result"
    }
   ],
   "source": [
    "df['character'].value_counts()"
   ]
  },
  {
   "cell_type": "code",
   "execution_count": 3,
   "id": "6cd40986-7ff3-4439-b162-2306ba5c1864",
   "metadata": {
    "tags": []
   },
   "outputs": [
    {
     "data": {
      "text/html": [
       "<div>\n",
       "<style scoped>\n",
       "    .dataframe tbody tr th:only-of-type {\n",
       "        vertical-align: middle;\n",
       "    }\n",
       "\n",
       "    .dataframe tbody tr th {\n",
       "        vertical-align: top;\n",
       "    }\n",
       "\n",
       "    .dataframe thead th {\n",
       "        text-align: right;\n",
       "    }\n",
       "</style>\n",
       "<table border=\"1\" class=\"dataframe\">\n",
       "  <thead>\n",
       "    <tr style=\"text-align: right;\">\n",
       "      <th></th>\n",
       "      <th>movie_title</th>\n",
       "      <th>character</th>\n",
       "      <th>line</th>\n",
       "    </tr>\n",
       "  </thead>\n",
       "  <tbody>\n",
       "    <tr>\n",
       "      <th>0</th>\n",
       "      <td>Kung Fu Panda</td>\n",
       "      <td>TIGRESS</td>\n",
       "      <td>You'll be late for work!</td>\n",
       "    </tr>\n",
       "    <tr>\n",
       "      <th>1</th>\n",
       "      <td>Kung Fu Panda</td>\n",
       "      <td>PO</td>\n",
       "      <td>Whu?</td>\n",
       "    </tr>\n",
       "    <tr>\n",
       "      <th>2</th>\n",
       "      <td>Kung Fu Panda</td>\n",
       "      <td>PO'S DAD</td>\n",
       "      <td>Po! Get up!</td>\n",
       "    </tr>\n",
       "    <tr>\n",
       "      <th>3</th>\n",
       "      <td>Kung Fu Panda</td>\n",
       "      <td>PO'S DAD</td>\n",
       "      <td>Po! What are you doing up there?</td>\n",
       "    </tr>\n",
       "    <tr>\n",
       "      <th>4</th>\n",
       "      <td>Kung Fu Panda</td>\n",
       "      <td>PO</td>\n",
       "      <td>Uh, nothing!</td>\n",
       "    </tr>\n",
       "    <tr>\n",
       "      <th>...</th>\n",
       "      <td>...</td>\n",
       "      <td>...</td>\n",
       "      <td>...</td>\n",
       "    </tr>\n",
       "    <tr>\n",
       "      <th>1439</th>\n",
       "      <td>Up</td>\n",
       "      <td>CARL</td>\n",
       "      <td>It's red, isn't it?</td>\n",
       "    </tr>\n",
       "    <tr>\n",
       "      <th>1440</th>\n",
       "      <td>Up</td>\n",
       "      <td>RUSSELL</td>\n",
       "      <td>Mr. Fredricksen, you're cheating.</td>\n",
       "    </tr>\n",
       "    <tr>\n",
       "      <th>1441</th>\n",
       "      <td>Up</td>\n",
       "      <td>CARL</td>\n",
       "      <td>No, I'm not. Red one.</td>\n",
       "    </tr>\n",
       "    <tr>\n",
       "      <th>1442</th>\n",
       "      <td>Up</td>\n",
       "      <td>RUSSELL</td>\n",
       "      <td>That's a fire hydrant.</td>\n",
       "    </tr>\n",
       "    <tr>\n",
       "      <th>1443</th>\n",
       "      <td>Up</td>\n",
       "      <td>CARL</td>\n",
       "      <td>Maybe I need new glasses.</td>\n",
       "    </tr>\n",
       "  </tbody>\n",
       "</table>\n",
       "<p>1444 rows × 3 columns</p>\n",
       "</div>"
      ],
      "text/plain": [
       "        movie_title character                               line\n",
       "0     Kung Fu Panda   TIGRESS           You'll be late for work!\n",
       "1     Kung Fu Panda        PO                               Whu?\n",
       "2     Kung Fu Panda  PO'S DAD                        Po! Get up!\n",
       "3     Kung Fu Panda  PO'S DAD   Po! What are you doing up there?\n",
       "4     Kung Fu Panda        PO                       Uh, nothing!\n",
       "...             ...       ...                                ...\n",
       "1439             Up      CARL                It's red, isn't it?\n",
       "1440             Up   RUSSELL  Mr. Fredricksen, you're cheating.\n",
       "1441             Up      CARL              No, I'm not. Red one.\n",
       "1442             Up   RUSSELL             That's a fire hydrant.\n",
       "1443             Up      CARL          Maybe I need new glasses.\n",
       "\n",
       "[1444 rows x 3 columns]"
      ]
     },
     "execution_count": 3,
     "metadata": {},
     "output_type": "execute_result"
    }
   ],
   "source": [
    "df1 = pd.read_csv(\"Kung_Fu_Panda.csv\")\n",
    "df2 = pd.read_csv(\"Wall_E.csv\")\n",
    "df3 = pd.read_csv(\"Up.csv\")\n",
    "\n",
    "df = pd.concat([df1, df2, df3], ignore_index=True)\n",
    "df = df.loc[:, ~df.columns.str.contains('^Unnamed')] # temp way to drop unnamed column\n",
    "df"
   ]
  },
  {
   "cell_type": "code",
   "execution_count": 131,
   "id": "a47cef02-47dd-4bef-94d0-1fd9f56de049",
   "metadata": {
    "tags": []
   },
   "outputs": [
    {
     "data": {
      "text/html": [
       "<div>\n",
       "<style scoped>\n",
       "    .dataframe tbody tr th:only-of-type {\n",
       "        vertical-align: middle;\n",
       "    }\n",
       "\n",
       "    .dataframe tbody tr th {\n",
       "        vertical-align: top;\n",
       "    }\n",
       "\n",
       "    .dataframe thead th {\n",
       "        text-align: right;\n",
       "    }\n",
       "</style>\n",
       "<table border=\"1\" class=\"dataframe\">\n",
       "  <thead>\n",
       "    <tr style=\"text-align: right;\">\n",
       "      <th></th>\n",
       "      <th>movie_title</th>\n",
       "      <th>character</th>\n",
       "      <th>line</th>\n",
       "    </tr>\n",
       "  </thead>\n",
       "  <tbody>\n",
       "  </tbody>\n",
       "</table>\n",
       "</div>"
      ],
      "text/plain": [
       "Empty DataFrame\n",
       "Columns: [movie_title, character, line]\n",
       "Index: []"
      ]
     },
     "execution_count": 131,
     "metadata": {},
     "output_type": "execute_result"
    }
   ],
   "source": [
    "df[df[\"line\"] == \"\"]"
   ]
  },
  {
   "cell_type": "code",
   "execution_count": 5,
   "id": "9e563b13-69c4-46bf-9536-a5f99bae6854",
   "metadata": {
    "tags": []
   },
   "outputs": [
    {
     "name": "stderr",
     "output_type": "stream",
     "text": [
      "D:\\Anaconda\\Lib\\site-packages\\paramiko\\transport.py:219: CryptographyDeprecationWarning: Blowfish has been deprecated\n",
      "  \"class\": algorithms.Blowfish,\n"
     ]
    }
   ],
   "source": [
    "# 1st approach using spacy for document similarty\n",
    "import spacy\n",
    "import spicy\n",
    "\n",
    "nlp = spacy.load(\"en_core_web_lg\")"
   ]
  },
  {
   "cell_type": "code",
   "execution_count": 24,
   "id": "c1510111-25cb-4331-8324-34cbfa4336d0",
   "metadata": {
    "tags": []
   },
   "outputs": [
    {
     "data": {
      "text/plain": [
       "[(0, 0.7183285756031559),\n",
       " (1, 0.2585359866767033),\n",
       " (2, 0.2259159488271546),\n",
       " (3, 0.5992965980249952),\n",
       " (4, 0.4797644645302548),\n",
       " (5, 0.2839090470040722),\n",
       " (6, 0.5482183680655116),\n",
       " (7, 0.24324737931497348),\n",
       " (8, 0.45647720359456756),\n",
       " (9, 0.6516046821805714)]"
      ]
     },
     "execution_count": 24,
     "metadata": {},
     "output_type": "execute_result"
    }
   ],
   "source": [
    "user_input = \"I can survive for months\"\n",
    "user_doc = nlp(user_input)\n",
    "\n",
    "\n",
    "sims = []\n",
    "\n",
    "for i, line in enumerate(df['line'].to_list()):\n",
    "    if not isinstance(line, str) or line == \"\": continue\n",
    "    \n",
    "    # can also add docs as a column beforehand to reduce loop processing time\n",
    "    doc = nlp(line)\n",
    "    sim = user_doc.similarity(doc)\n",
    "    \n",
    "    sims.append((i, sim))\n",
    "\n",
    "sims[:10]"
   ]
  },
  {
   "cell_type": "code",
   "execution_count": 25,
   "id": "55ed4262-672b-4514-a932-7e68ff473d45",
   "metadata": {
    "tags": []
   },
   "outputs": [
    {
     "data": {
      "text/plain": [
       "[(312, 0.8461008223028246),\n",
       " (462, 0.8424039281767293),\n",
       " (363, 0.8371495200434744),\n",
       " (21, 0.8360245159806813),\n",
       " (1390, 0.8311597498990037),\n",
       " (80, 0.8289876457724381),\n",
       " (319, 0.8261917116094339),\n",
       " (173, 0.8195854761776106),\n",
       " (460, 0.8178320916366182),\n",
       " (392, 0.8140147891652875)]"
      ]
     },
     "execution_count": 25,
     "metadata": {},
     "output_type": "execute_result"
    }
   ],
   "source": [
    "sims = sorted(sims, key= lambda x:x[1], reverse=True)\n",
    "sims[:10]"
   ]
  },
  {
   "cell_type": "code",
   "execution_count": 26,
   "id": "78fffbeb-6e97-46f0-9091-9be16e1cc2f3",
   "metadata": {
    "tags": []
   },
   "outputs": [],
   "source": [
    "df.dropna(inplace=True)"
   ]
  },
  {
   "cell_type": "code",
   "execution_count": 27,
   "id": "ecf08c77-a7da-48e1-a0d7-ee183692811b",
   "metadata": {
    "tags": []
   },
   "outputs": [
    {
     "data": {
      "text/plain": [
       "movie_title    0\n",
       "character      0\n",
       "line           0\n",
       "dtype: int64"
      ]
     },
     "execution_count": 27,
     "metadata": {},
     "output_type": "execute_result"
    }
   ],
   "source": [
    "df.isna().sum()"
   ]
  },
  {
   "cell_type": "code",
   "execution_count": 28,
   "id": "f2e9b14a-20bb-44b6-b435-ee8b8d713e63",
   "metadata": {
    "tags": []
   },
   "outputs": [
    {
     "name": "stdout",
     "output_type": "stream",
     "text": [
      "0.8461008223028246\n",
      "Phrase: ['And I can control--']\n"
     ]
    },
    {
     "data": {
      "text/html": [
       "<div>\n",
       "<style scoped>\n",
       "    .dataframe tbody tr th:only-of-type {\n",
       "        vertical-align: middle;\n",
       "    }\n",
       "\n",
       "    .dataframe tbody tr th {\n",
       "        vertical-align: top;\n",
       "    }\n",
       "\n",
       "    .dataframe thead th {\n",
       "        text-align: right;\n",
       "    }\n",
       "</style>\n",
       "<table border=\"1\" class=\"dataframe\">\n",
       "  <thead>\n",
       "    <tr style=\"text-align: right;\">\n",
       "      <th></th>\n",
       "      <th>movie_title</th>\n",
       "      <th>character</th>\n",
       "      <th>line</th>\n",
       "    </tr>\n",
       "  </thead>\n",
       "  <tbody>\n",
       "    <tr>\n",
       "      <th>312</th>\n",
       "      <td>Kung Fu Panda</td>\n",
       "      <td>SHIFU</td>\n",
       "      <td>And I can control--</td>\n",
       "    </tr>\n",
       "  </tbody>\n",
       "</table>\n",
       "</div>"
      ],
      "text/plain": [
       "       movie_title character                 line\n",
       "312  Kung Fu Panda     SHIFU  And I can control--"
      ]
     },
     "metadata": {},
     "output_type": "display_data"
    },
    {
     "name": "stdout",
     "output_type": "stream",
     "text": [
      "0.8424039281767293\n",
      "Phrase: ['Then I will finally have paid for my mistake.']\n"
     ]
    },
    {
     "data": {
      "text/html": [
       "<div>\n",
       "<style scoped>\n",
       "    .dataframe tbody tr th:only-of-type {\n",
       "        vertical-align: middle;\n",
       "    }\n",
       "\n",
       "    .dataframe tbody tr th {\n",
       "        vertical-align: top;\n",
       "    }\n",
       "\n",
       "    .dataframe thead th {\n",
       "        text-align: right;\n",
       "    }\n",
       "</style>\n",
       "<table border=\"1\" class=\"dataframe\">\n",
       "  <thead>\n",
       "    <tr style=\"text-align: right;\">\n",
       "      <th></th>\n",
       "      <th>movie_title</th>\n",
       "      <th>character</th>\n",
       "      <th>line</th>\n",
       "    </tr>\n",
       "  </thead>\n",
       "  <tbody>\n",
       "    <tr>\n",
       "      <th>462</th>\n",
       "      <td>Kung Fu Panda</td>\n",
       "      <td>SHIFU</td>\n",
       "      <td>Then I will finally have paid for my mistake.</td>\n",
       "    </tr>\n",
       "  </tbody>\n",
       "</table>\n",
       "</div>"
      ],
      "text/plain": [
       "       movie_title character                                           line\n",
       "462  Kung Fu Panda     SHIFU  Then I will finally have paid for my mistake."
      ]
     },
     "metadata": {},
     "output_type": "display_data"
    },
    {
     "name": "stdout",
     "output_type": "stream",
     "text": [
      "0.8371495200434744\n",
      "Phrase: ['But I can change you! I can turn you into the Dragon Warrior! And I will!']\n"
     ]
    },
    {
     "data": {
      "text/html": [
       "<div>\n",
       "<style scoped>\n",
       "    .dataframe tbody tr th:only-of-type {\n",
       "        vertical-align: middle;\n",
       "    }\n",
       "\n",
       "    .dataframe tbody tr th {\n",
       "        vertical-align: top;\n",
       "    }\n",
       "\n",
       "    .dataframe thead th {\n",
       "        text-align: right;\n",
       "    }\n",
       "</style>\n",
       "<table border=\"1\" class=\"dataframe\">\n",
       "  <thead>\n",
       "    <tr style=\"text-align: right;\">\n",
       "      <th></th>\n",
       "      <th>movie_title</th>\n",
       "      <th>character</th>\n",
       "      <th>line</th>\n",
       "    </tr>\n",
       "  </thead>\n",
       "  <tbody>\n",
       "    <tr>\n",
       "      <th>363</th>\n",
       "      <td>Kung Fu Panda</td>\n",
       "      <td>SHIFU</td>\n",
       "      <td>But I can change you! I can turn you into the ...</td>\n",
       "    </tr>\n",
       "  </tbody>\n",
       "</table>\n",
       "</div>"
      ],
      "text/plain": [
       "       movie_title character  \\\n",
       "363  Kung Fu Panda     SHIFU   \n",
       "\n",
       "                                                  line  \n",
       "363  But I can change you! I can turn you into the ...  "
      ]
     },
     "metadata": {},
     "output_type": "display_data"
    },
    {
     "name": "stdout",
     "output_type": "stream",
     "text": [
      "0.8360245159806813\n",
      "Phrase: [\"You don't know how long I have been waiting for this moment.\"]\n"
     ]
    },
    {
     "data": {
      "text/html": [
       "<div>\n",
       "<style scoped>\n",
       "    .dataframe tbody tr th:only-of-type {\n",
       "        vertical-align: middle;\n",
       "    }\n",
       "\n",
       "    .dataframe tbody tr th {\n",
       "        vertical-align: top;\n",
       "    }\n",
       "\n",
       "    .dataframe thead th {\n",
       "        text-align: right;\n",
       "    }\n",
       "</style>\n",
       "<table border=\"1\" class=\"dataframe\">\n",
       "  <thead>\n",
       "    <tr style=\"text-align: right;\">\n",
       "      <th></th>\n",
       "      <th>movie_title</th>\n",
       "      <th>character</th>\n",
       "      <th>line</th>\n",
       "    </tr>\n",
       "  </thead>\n",
       "  <tbody>\n",
       "    <tr>\n",
       "      <th>21</th>\n",
       "      <td>Kung Fu Panda</td>\n",
       "      <td>PO'S DAD</td>\n",
       "      <td>You don't know how long I have been waiting fo...</td>\n",
       "    </tr>\n",
       "  </tbody>\n",
       "</table>\n",
       "</div>"
      ],
      "text/plain": [
       "      movie_title character                                               line\n",
       "21  Kung Fu Panda  PO'S DAD  You don't know how long I have been waiting fo..."
      ]
     },
     "metadata": {},
     "output_type": "display_data"
    },
    {
     "name": "stdout",
     "output_type": "stream",
     "text": [
      "0.8311597498990037\n",
      "Phrase: ['I wish I could keep one.']\n"
     ]
    },
    {
     "data": {
      "text/html": [
       "<div>\n",
       "<style scoped>\n",
       "    .dataframe tbody tr th:only-of-type {\n",
       "        vertical-align: middle;\n",
       "    }\n",
       "\n",
       "    .dataframe tbody tr th {\n",
       "        vertical-align: top;\n",
       "    }\n",
       "\n",
       "    .dataframe thead th {\n",
       "        text-align: right;\n",
       "    }\n",
       "</style>\n",
       "<table border=\"1\" class=\"dataframe\">\n",
       "  <thead>\n",
       "    <tr style=\"text-align: right;\">\n",
       "      <th></th>\n",
       "      <th>movie_title</th>\n",
       "      <th>character</th>\n",
       "      <th>line</th>\n",
       "    </tr>\n",
       "  </thead>\n",
       "  <tbody>\n",
       "    <tr>\n",
       "      <th>1423</th>\n",
       "      <td>Up</td>\n",
       "      <td>RUSSELL</td>\n",
       "      <td>I wish I could keep one.</td>\n",
       "    </tr>\n",
       "  </tbody>\n",
       "</table>\n",
       "</div>"
      ],
      "text/plain": [
       "     movie_title character                      line\n",
       "1423          Up   RUSSELL  I wish I could keep one."
      ]
     },
     "metadata": {},
     "output_type": "display_data"
    },
    {
     "name": "stdout",
     "output_type": "stream",
     "text": [
      "0.8289876457724381\n",
      "Phrase: ['Yes, and one I feared I would not live to see. Are your students ready?']\n"
     ]
    },
    {
     "data": {
      "text/html": [
       "<div>\n",
       "<style scoped>\n",
       "    .dataframe tbody tr th:only-of-type {\n",
       "        vertical-align: middle;\n",
       "    }\n",
       "\n",
       "    .dataframe tbody tr th {\n",
       "        vertical-align: top;\n",
       "    }\n",
       "\n",
       "    .dataframe thead th {\n",
       "        text-align: right;\n",
       "    }\n",
       "</style>\n",
       "<table border=\"1\" class=\"dataframe\">\n",
       "  <thead>\n",
       "    <tr style=\"text-align: right;\">\n",
       "      <th></th>\n",
       "      <th>movie_title</th>\n",
       "      <th>character</th>\n",
       "      <th>line</th>\n",
       "    </tr>\n",
       "  </thead>\n",
       "  <tbody>\n",
       "    <tr>\n",
       "      <th>80</th>\n",
       "      <td>Kung Fu Panda</td>\n",
       "      <td>OOGWAY</td>\n",
       "      <td>Yes, and one I feared I would not live to see....</td>\n",
       "    </tr>\n",
       "  </tbody>\n",
       "</table>\n",
       "</div>"
      ],
      "text/plain": [
       "      movie_title character                                               line\n",
       "80  Kung Fu Panda    OOGWAY  Yes, and one I feared I would not live to see...."
      ]
     },
     "metadata": {},
     "output_type": "display_data"
    },
    {
     "name": "stdout",
     "output_type": "stream",
     "text": [
      "0.8261917116094339\n",
      "Phrase: ['I... I will try.']\n"
     ]
    },
    {
     "data": {
      "text/html": [
       "<div>\n",
       "<style scoped>\n",
       "    .dataframe tbody tr th:only-of-type {\n",
       "        vertical-align: middle;\n",
       "    }\n",
       "\n",
       "    .dataframe tbody tr th {\n",
       "        vertical-align: top;\n",
       "    }\n",
       "\n",
       "    .dataframe thead th {\n",
       "        text-align: right;\n",
       "    }\n",
       "</style>\n",
       "<table border=\"1\" class=\"dataframe\">\n",
       "  <thead>\n",
       "    <tr style=\"text-align: right;\">\n",
       "      <th></th>\n",
       "      <th>movie_title</th>\n",
       "      <th>character</th>\n",
       "      <th>line</th>\n",
       "    </tr>\n",
       "  </thead>\n",
       "  <tbody>\n",
       "    <tr>\n",
       "      <th>319</th>\n",
       "      <td>Kung Fu Panda</td>\n",
       "      <td>SHIFU</td>\n",
       "      <td>I... I will try.</td>\n",
       "    </tr>\n",
       "  </tbody>\n",
       "</table>\n",
       "</div>"
      ],
      "text/plain": [
       "       movie_title character              line\n",
       "319  Kung Fu Panda     SHIFU  I... I will try."
      ]
     },
     "metadata": {},
     "output_type": "display_data"
    },
    {
     "name": "stdout",
     "output_type": "stream",
     "text": [
      "0.8195854761776106\n",
      "Phrase: [\"Now listen closely, panda. Oogway may have picked you, but when I'm through with you, I promise you, you're going to wish he hadn't. Are we clear?\"]\n"
     ]
    },
    {
     "data": {
      "text/html": [
       "<div>\n",
       "<style scoped>\n",
       "    .dataframe tbody tr th:only-of-type {\n",
       "        vertical-align: middle;\n",
       "    }\n",
       "\n",
       "    .dataframe tbody tr th {\n",
       "        vertical-align: top;\n",
       "    }\n",
       "\n",
       "    .dataframe thead th {\n",
       "        text-align: right;\n",
       "    }\n",
       "</style>\n",
       "<table border=\"1\" class=\"dataframe\">\n",
       "  <thead>\n",
       "    <tr style=\"text-align: right;\">\n",
       "      <th></th>\n",
       "      <th>movie_title</th>\n",
       "      <th>character</th>\n",
       "      <th>line</th>\n",
       "    </tr>\n",
       "  </thead>\n",
       "  <tbody>\n",
       "    <tr>\n",
       "      <th>173</th>\n",
       "      <td>Kung Fu Panda</td>\n",
       "      <td>SHIFU</td>\n",
       "      <td>Now listen closely, panda. Oogway may have pic...</td>\n",
       "    </tr>\n",
       "  </tbody>\n",
       "</table>\n",
       "</div>"
      ],
      "text/plain": [
       "       movie_title character  \\\n",
       "173  Kung Fu Panda     SHIFU   \n",
       "\n",
       "                                                  line  \n",
       "173  Now listen closely, panda. Oogway may have pic...  "
      ]
     },
     "metadata": {},
     "output_type": "display_data"
    },
    {
     "name": "stdout",
     "output_type": "stream",
     "text": [
      "0.8178320916366182\n",
      "Phrase: ['I can hold him off long enough for everyone to escape.']\n"
     ]
    },
    {
     "data": {
      "text/html": [
       "<div>\n",
       "<style scoped>\n",
       "    .dataframe tbody tr th:only-of-type {\n",
       "        vertical-align: middle;\n",
       "    }\n",
       "\n",
       "    .dataframe tbody tr th {\n",
       "        vertical-align: top;\n",
       "    }\n",
       "\n",
       "    .dataframe thead th {\n",
       "        text-align: right;\n",
       "    }\n",
       "</style>\n",
       "<table border=\"1\" class=\"dataframe\">\n",
       "  <thead>\n",
       "    <tr style=\"text-align: right;\">\n",
       "      <th></th>\n",
       "      <th>movie_title</th>\n",
       "      <th>character</th>\n",
       "      <th>line</th>\n",
       "    </tr>\n",
       "  </thead>\n",
       "  <tbody>\n",
       "    <tr>\n",
       "      <th>460</th>\n",
       "      <td>Kung Fu Panda</td>\n",
       "      <td>SHIFU</td>\n",
       "      <td>I can hold him off long enough for everyone to...</td>\n",
       "    </tr>\n",
       "  </tbody>\n",
       "</table>\n",
       "</div>"
      ],
      "text/plain": [
       "       movie_title character  \\\n",
       "460  Kung Fu Panda     SHIFU   \n",
       "\n",
       "                                                  line  \n",
       "460  I can hold him off long enough for everyone to...  "
      ]
     },
     "metadata": {},
     "output_type": "display_data"
    },
    {
     "name": "stdout",
     "output_type": "stream",
     "text": [
      "0.8140147891652875\n",
      "Phrase: ['But perhaps that is my fault. I cannot train you the way I have trained the Five. I now see that the way to get through to you is with this!']\n"
     ]
    },
    {
     "data": {
      "text/html": [
       "<div>\n",
       "<style scoped>\n",
       "    .dataframe tbody tr th:only-of-type {\n",
       "        vertical-align: middle;\n",
       "    }\n",
       "\n",
       "    .dataframe tbody tr th {\n",
       "        vertical-align: top;\n",
       "    }\n",
       "\n",
       "    .dataframe thead th {\n",
       "        text-align: right;\n",
       "    }\n",
       "</style>\n",
       "<table border=\"1\" class=\"dataframe\">\n",
       "  <thead>\n",
       "    <tr style=\"text-align: right;\">\n",
       "      <th></th>\n",
       "      <th>movie_title</th>\n",
       "      <th>character</th>\n",
       "      <th>line</th>\n",
       "    </tr>\n",
       "  </thead>\n",
       "  <tbody>\n",
       "    <tr>\n",
       "      <th>392</th>\n",
       "      <td>Kung Fu Panda</td>\n",
       "      <td>SHIFU</td>\n",
       "      <td>But perhaps that is my fault. I cannot train y...</td>\n",
       "    </tr>\n",
       "  </tbody>\n",
       "</table>\n",
       "</div>"
      ],
      "text/plain": [
       "       movie_title character  \\\n",
       "392  Kung Fu Panda     SHIFU   \n",
       "\n",
       "                                                  line  \n",
       "392  But perhaps that is my fault. I cannot train y...  "
      ]
     },
     "metadata": {},
     "output_type": "display_data"
    }
   ],
   "source": [
    "# show top 5 lines from characters similar to the user_input text\n",
    "for i, sim in sims[:10]:\n",
    "    print(sim)\n",
    "    print(\"Phrase:\", list(df.iloc[[i]]['line']))\n",
    "    display(df.iloc[[i]])"
   ]
  },
  {
   "cell_type": "code",
   "execution_count": 29,
   "id": "d8b304dc-67a4-4bd6-9c41-8c087eee4597",
   "metadata": {
    "tags": []
   },
   "outputs": [],
   "source": [
    "# 2nd approach, using Tfidf for pairwise similarity\n",
    "from sklearn.feature_extraction.text import TfidfVectorizer\n",
    "\n",
    "docs = df['line'].to_list()\n",
    "vect = TfidfVectorizer(min_df=1, stop_words=\"english\")\n",
    "tfidf = vect.fit_transform(docs)"
   ]
  },
  {
   "cell_type": "code",
   "execution_count": 30,
   "id": "9a41654b-8697-4d73-b120-e4f3905af2af",
   "metadata": {
    "tags": []
   },
   "outputs": [
    {
     "data": {
      "text/html": [
       "<div>\n",
       "<style scoped>\n",
       "    .dataframe tbody tr th:only-of-type {\n",
       "        vertical-align: middle;\n",
       "    }\n",
       "\n",
       "    .dataframe tbody tr th {\n",
       "        vertical-align: top;\n",
       "    }\n",
       "\n",
       "    .dataframe thead th {\n",
       "        text-align: right;\n",
       "    }\n",
       "</style>\n",
       "<table border=\"1\" class=\"dataframe\">\n",
       "  <thead>\n",
       "    <tr style=\"text-align: right;\">\n",
       "      <th></th>\n",
       "      <th>100</th>\n",
       "      <th>12</th>\n",
       "      <th>2110</th>\n",
       "      <th>255</th>\n",
       "      <th>30</th>\n",
       "      <th>54</th>\n",
       "      <th>642</th>\n",
       "      <th>700</th>\n",
       "      <th>700th</th>\n",
       "      <th>72</th>\n",
       "      <th>...</th>\n",
       "      <th>yep</th>\n",
       "      <th>yes</th>\n",
       "      <th>yesterday</th>\n",
       "      <th>yikes</th>\n",
       "      <th>york</th>\n",
       "      <th>young</th>\n",
       "      <th>yow</th>\n",
       "      <th>zeng</th>\n",
       "      <th>zero</th>\n",
       "      <th>zoology</th>\n",
       "    </tr>\n",
       "  </thead>\n",
       "  <tbody>\n",
       "    <tr>\n",
       "      <th>0</th>\n",
       "      <td>0.0</td>\n",
       "      <td>0.0</td>\n",
       "      <td>0.0</td>\n",
       "      <td>0.0</td>\n",
       "      <td>0.0</td>\n",
       "      <td>0.0</td>\n",
       "      <td>0.0</td>\n",
       "      <td>0.0</td>\n",
       "      <td>0.0</td>\n",
       "      <td>0.0</td>\n",
       "      <td>...</td>\n",
       "      <td>0.0</td>\n",
       "      <td>0.0</td>\n",
       "      <td>0.0</td>\n",
       "      <td>0.0</td>\n",
       "      <td>0.0</td>\n",
       "      <td>0.0</td>\n",
       "      <td>0.0</td>\n",
       "      <td>0.0</td>\n",
       "      <td>0.0</td>\n",
       "      <td>0.0</td>\n",
       "    </tr>\n",
       "    <tr>\n",
       "      <th>1</th>\n",
       "      <td>0.0</td>\n",
       "      <td>0.0</td>\n",
       "      <td>0.0</td>\n",
       "      <td>0.0</td>\n",
       "      <td>0.0</td>\n",
       "      <td>0.0</td>\n",
       "      <td>0.0</td>\n",
       "      <td>0.0</td>\n",
       "      <td>0.0</td>\n",
       "      <td>0.0</td>\n",
       "      <td>...</td>\n",
       "      <td>0.0</td>\n",
       "      <td>0.0</td>\n",
       "      <td>0.0</td>\n",
       "      <td>0.0</td>\n",
       "      <td>0.0</td>\n",
       "      <td>0.0</td>\n",
       "      <td>0.0</td>\n",
       "      <td>0.0</td>\n",
       "      <td>0.0</td>\n",
       "      <td>0.0</td>\n",
       "    </tr>\n",
       "    <tr>\n",
       "      <th>2</th>\n",
       "      <td>0.0</td>\n",
       "      <td>0.0</td>\n",
       "      <td>0.0</td>\n",
       "      <td>0.0</td>\n",
       "      <td>0.0</td>\n",
       "      <td>0.0</td>\n",
       "      <td>0.0</td>\n",
       "      <td>0.0</td>\n",
       "      <td>0.0</td>\n",
       "      <td>0.0</td>\n",
       "      <td>...</td>\n",
       "      <td>0.0</td>\n",
       "      <td>0.0</td>\n",
       "      <td>0.0</td>\n",
       "      <td>0.0</td>\n",
       "      <td>0.0</td>\n",
       "      <td>0.0</td>\n",
       "      <td>0.0</td>\n",
       "      <td>0.0</td>\n",
       "      <td>0.0</td>\n",
       "      <td>0.0</td>\n",
       "    </tr>\n",
       "    <tr>\n",
       "      <th>3</th>\n",
       "      <td>0.0</td>\n",
       "      <td>0.0</td>\n",
       "      <td>0.0</td>\n",
       "      <td>0.0</td>\n",
       "      <td>0.0</td>\n",
       "      <td>0.0</td>\n",
       "      <td>0.0</td>\n",
       "      <td>0.0</td>\n",
       "      <td>0.0</td>\n",
       "      <td>0.0</td>\n",
       "      <td>...</td>\n",
       "      <td>0.0</td>\n",
       "      <td>0.0</td>\n",
       "      <td>0.0</td>\n",
       "      <td>0.0</td>\n",
       "      <td>0.0</td>\n",
       "      <td>0.0</td>\n",
       "      <td>0.0</td>\n",
       "      <td>0.0</td>\n",
       "      <td>0.0</td>\n",
       "      <td>0.0</td>\n",
       "    </tr>\n",
       "    <tr>\n",
       "      <th>4</th>\n",
       "      <td>0.0</td>\n",
       "      <td>0.0</td>\n",
       "      <td>0.0</td>\n",
       "      <td>0.0</td>\n",
       "      <td>0.0</td>\n",
       "      <td>0.0</td>\n",
       "      <td>0.0</td>\n",
       "      <td>0.0</td>\n",
       "      <td>0.0</td>\n",
       "      <td>0.0</td>\n",
       "      <td>...</td>\n",
       "      <td>0.0</td>\n",
       "      <td>0.0</td>\n",
       "      <td>0.0</td>\n",
       "      <td>0.0</td>\n",
       "      <td>0.0</td>\n",
       "      <td>0.0</td>\n",
       "      <td>0.0</td>\n",
       "      <td>0.0</td>\n",
       "      <td>0.0</td>\n",
       "      <td>0.0</td>\n",
       "    </tr>\n",
       "    <tr>\n",
       "      <th>...</th>\n",
       "      <td>...</td>\n",
       "      <td>...</td>\n",
       "      <td>...</td>\n",
       "      <td>...</td>\n",
       "      <td>...</td>\n",
       "      <td>...</td>\n",
       "      <td>...</td>\n",
       "      <td>...</td>\n",
       "      <td>...</td>\n",
       "      <td>...</td>\n",
       "      <td>...</td>\n",
       "      <td>...</td>\n",
       "      <td>...</td>\n",
       "      <td>...</td>\n",
       "      <td>...</td>\n",
       "      <td>...</td>\n",
       "      <td>...</td>\n",
       "      <td>...</td>\n",
       "      <td>...</td>\n",
       "      <td>...</td>\n",
       "      <td>...</td>\n",
       "    </tr>\n",
       "    <tr>\n",
       "      <th>1406</th>\n",
       "      <td>0.0</td>\n",
       "      <td>0.0</td>\n",
       "      <td>0.0</td>\n",
       "      <td>0.0</td>\n",
       "      <td>0.0</td>\n",
       "      <td>0.0</td>\n",
       "      <td>0.0</td>\n",
       "      <td>0.0</td>\n",
       "      <td>0.0</td>\n",
       "      <td>0.0</td>\n",
       "      <td>...</td>\n",
       "      <td>0.0</td>\n",
       "      <td>0.0</td>\n",
       "      <td>0.0</td>\n",
       "      <td>0.0</td>\n",
       "      <td>0.0</td>\n",
       "      <td>0.0</td>\n",
       "      <td>0.0</td>\n",
       "      <td>0.0</td>\n",
       "      <td>0.0</td>\n",
       "      <td>0.0</td>\n",
       "    </tr>\n",
       "    <tr>\n",
       "      <th>1407</th>\n",
       "      <td>0.0</td>\n",
       "      <td>0.0</td>\n",
       "      <td>0.0</td>\n",
       "      <td>0.0</td>\n",
       "      <td>0.0</td>\n",
       "      <td>0.0</td>\n",
       "      <td>0.0</td>\n",
       "      <td>0.0</td>\n",
       "      <td>0.0</td>\n",
       "      <td>0.0</td>\n",
       "      <td>...</td>\n",
       "      <td>0.0</td>\n",
       "      <td>0.0</td>\n",
       "      <td>0.0</td>\n",
       "      <td>0.0</td>\n",
       "      <td>0.0</td>\n",
       "      <td>0.0</td>\n",
       "      <td>0.0</td>\n",
       "      <td>0.0</td>\n",
       "      <td>0.0</td>\n",
       "      <td>0.0</td>\n",
       "    </tr>\n",
       "    <tr>\n",
       "      <th>1408</th>\n",
       "      <td>0.0</td>\n",
       "      <td>0.0</td>\n",
       "      <td>0.0</td>\n",
       "      <td>0.0</td>\n",
       "      <td>0.0</td>\n",
       "      <td>0.0</td>\n",
       "      <td>0.0</td>\n",
       "      <td>0.0</td>\n",
       "      <td>0.0</td>\n",
       "      <td>0.0</td>\n",
       "      <td>...</td>\n",
       "      <td>0.0</td>\n",
       "      <td>0.0</td>\n",
       "      <td>0.0</td>\n",
       "      <td>0.0</td>\n",
       "      <td>0.0</td>\n",
       "      <td>0.0</td>\n",
       "      <td>0.0</td>\n",
       "      <td>0.0</td>\n",
       "      <td>0.0</td>\n",
       "      <td>0.0</td>\n",
       "    </tr>\n",
       "    <tr>\n",
       "      <th>1409</th>\n",
       "      <td>0.0</td>\n",
       "      <td>0.0</td>\n",
       "      <td>0.0</td>\n",
       "      <td>0.0</td>\n",
       "      <td>0.0</td>\n",
       "      <td>0.0</td>\n",
       "      <td>0.0</td>\n",
       "      <td>0.0</td>\n",
       "      <td>0.0</td>\n",
       "      <td>0.0</td>\n",
       "      <td>...</td>\n",
       "      <td>0.0</td>\n",
       "      <td>0.0</td>\n",
       "      <td>0.0</td>\n",
       "      <td>0.0</td>\n",
       "      <td>0.0</td>\n",
       "      <td>0.0</td>\n",
       "      <td>0.0</td>\n",
       "      <td>0.0</td>\n",
       "      <td>0.0</td>\n",
       "      <td>0.0</td>\n",
       "    </tr>\n",
       "    <tr>\n",
       "      <th>1410</th>\n",
       "      <td>0.0</td>\n",
       "      <td>0.0</td>\n",
       "      <td>0.0</td>\n",
       "      <td>0.0</td>\n",
       "      <td>0.0</td>\n",
       "      <td>0.0</td>\n",
       "      <td>0.0</td>\n",
       "      <td>0.0</td>\n",
       "      <td>0.0</td>\n",
       "      <td>0.0</td>\n",
       "      <td>...</td>\n",
       "      <td>0.0</td>\n",
       "      <td>0.0</td>\n",
       "      <td>0.0</td>\n",
       "      <td>0.0</td>\n",
       "      <td>0.0</td>\n",
       "      <td>0.0</td>\n",
       "      <td>0.0</td>\n",
       "      <td>0.0</td>\n",
       "      <td>0.0</td>\n",
       "      <td>0.0</td>\n",
       "    </tr>\n",
       "  </tbody>\n",
       "</table>\n",
       "<p>1411 rows × 1954 columns</p>\n",
       "</div>"
      ],
      "text/plain": [
       "      100   12  2110  255   30   54  642  700  700th   72  ...  yep  yes  \\\n",
       "0     0.0  0.0   0.0  0.0  0.0  0.0  0.0  0.0    0.0  0.0  ...  0.0  0.0   \n",
       "1     0.0  0.0   0.0  0.0  0.0  0.0  0.0  0.0    0.0  0.0  ...  0.0  0.0   \n",
       "2     0.0  0.0   0.0  0.0  0.0  0.0  0.0  0.0    0.0  0.0  ...  0.0  0.0   \n",
       "3     0.0  0.0   0.0  0.0  0.0  0.0  0.0  0.0    0.0  0.0  ...  0.0  0.0   \n",
       "4     0.0  0.0   0.0  0.0  0.0  0.0  0.0  0.0    0.0  0.0  ...  0.0  0.0   \n",
       "...   ...  ...   ...  ...  ...  ...  ...  ...    ...  ...  ...  ...  ...   \n",
       "1406  0.0  0.0   0.0  0.0  0.0  0.0  0.0  0.0    0.0  0.0  ...  0.0  0.0   \n",
       "1407  0.0  0.0   0.0  0.0  0.0  0.0  0.0  0.0    0.0  0.0  ...  0.0  0.0   \n",
       "1408  0.0  0.0   0.0  0.0  0.0  0.0  0.0  0.0    0.0  0.0  ...  0.0  0.0   \n",
       "1409  0.0  0.0   0.0  0.0  0.0  0.0  0.0  0.0    0.0  0.0  ...  0.0  0.0   \n",
       "1410  0.0  0.0   0.0  0.0  0.0  0.0  0.0  0.0    0.0  0.0  ...  0.0  0.0   \n",
       "\n",
       "      yesterday  yikes  york  young  yow  zeng  zero  zoology  \n",
       "0           0.0    0.0   0.0    0.0  0.0   0.0   0.0      0.0  \n",
       "1           0.0    0.0   0.0    0.0  0.0   0.0   0.0      0.0  \n",
       "2           0.0    0.0   0.0    0.0  0.0   0.0   0.0      0.0  \n",
       "3           0.0    0.0   0.0    0.0  0.0   0.0   0.0      0.0  \n",
       "4           0.0    0.0   0.0    0.0  0.0   0.0   0.0      0.0  \n",
       "...         ...    ...   ...    ...  ...   ...   ...      ...  \n",
       "1406        0.0    0.0   0.0    0.0  0.0   0.0   0.0      0.0  \n",
       "1407        0.0    0.0   0.0    0.0  0.0   0.0   0.0      0.0  \n",
       "1408        0.0    0.0   0.0    0.0  0.0   0.0   0.0      0.0  \n",
       "1409        0.0    0.0   0.0    0.0  0.0   0.0   0.0      0.0  \n",
       "1410        0.0    0.0   0.0    0.0  0.0   0.0   0.0      0.0  \n",
       "\n",
       "[1411 rows x 1954 columns]"
      ]
     },
     "execution_count": 30,
     "metadata": {},
     "output_type": "execute_result"
    }
   ],
   "source": [
    "# just to visualize the tfidf of our dataframe\n",
    "col_names = vect.get_feature_names_out()\n",
    "arr = tfidf.toarray()\n",
    "df_test = pd.DataFrame(arr, columns = col_names)\n",
    "df_test"
   ]
  },
  {
   "cell_type": "code",
   "execution_count": 31,
   "id": "a1e5346b-ed15-4bce-98c9-33e5b06c6b5c",
   "metadata": {
    "tags": []
   },
   "outputs": [
    {
     "data": {
      "text/plain": [
       "(1411, 1954)"
      ]
     },
     "execution_count": 31,
     "metadata": {},
     "output_type": "execute_result"
    }
   ],
   "source": [
    "tfidf.shape"
   ]
  },
  {
   "cell_type": "code",
   "execution_count": 32,
   "id": "675b38e4-d0f9-4412-a5de-5246a8a7a9b1",
   "metadata": {
    "tags": []
   },
   "outputs": [],
   "source": [
    "user_vect = TfidfVectorizer(min_df=1, stop_words=\"english\")\n",
    "user_tfidf = user_vect.fit_transform([user_input])"
   ]
  },
  {
   "cell_type": "code",
   "execution_count": 33,
   "id": "47c8990f-9f3f-4f8c-b3fb-e8f6b28b283f",
   "metadata": {
    "tags": []
   },
   "outputs": [
    {
     "data": {
      "text/html": [
       "<div>\n",
       "<style scoped>\n",
       "    .dataframe tbody tr th:only-of-type {\n",
       "        vertical-align: middle;\n",
       "    }\n",
       "\n",
       "    .dataframe tbody tr th {\n",
       "        vertical-align: top;\n",
       "    }\n",
       "\n",
       "    .dataframe thead th {\n",
       "        text-align: right;\n",
       "    }\n",
       "</style>\n",
       "<table border=\"1\" class=\"dataframe\">\n",
       "  <thead>\n",
       "    <tr style=\"text-align: right;\">\n",
       "      <th></th>\n",
       "      <th>months</th>\n",
       "      <th>survive</th>\n",
       "    </tr>\n",
       "  </thead>\n",
       "  <tbody>\n",
       "    <tr>\n",
       "      <th>0</th>\n",
       "      <td>0.707107</td>\n",
       "      <td>0.707107</td>\n",
       "    </tr>\n",
       "  </tbody>\n",
       "</table>\n",
       "</div>"
      ],
      "text/plain": [
       "     months   survive\n",
       "0  0.707107  0.707107"
      ]
     },
     "execution_count": 33,
     "metadata": {},
     "output_type": "execute_result"
    }
   ],
   "source": [
    "# just to visualize the tfidf of the user input\n",
    "col_names = user_vect.get_feature_names_out()\n",
    "arr = user_tfidf.toarray()\n",
    "df_test_user = pd.DataFrame(arr, columns = col_names)\n",
    "df_test_user"
   ]
  },
  {
   "cell_type": "code",
   "execution_count": 34,
   "id": "c36533cf-9936-41bc-a6bd-51290662ba8c",
   "metadata": {
    "tags": []
   },
   "outputs": [
    {
     "data": {
      "text/plain": [
       "(1, 2)"
      ]
     },
     "execution_count": 34,
     "metadata": {},
     "output_type": "execute_result"
    }
   ],
   "source": [
    "user_tfidf.shape"
   ]
  },
  {
   "cell_type": "code",
   "execution_count": 35,
   "id": "5aa4ca83-20fc-4c1e-a3a5-a79991c5da0a",
   "metadata": {
    "tags": []
   },
   "outputs": [
    {
     "data": {
      "text/html": [
       "<div>\n",
       "<style scoped>\n",
       "    .dataframe tbody tr th:only-of-type {\n",
       "        vertical-align: middle;\n",
       "    }\n",
       "\n",
       "    .dataframe tbody tr th {\n",
       "        vertical-align: top;\n",
       "    }\n",
       "\n",
       "    .dataframe thead th {\n",
       "        text-align: right;\n",
       "    }\n",
       "</style>\n",
       "<table border=\"1\" class=\"dataframe\">\n",
       "  <thead>\n",
       "    <tr style=\"text-align: right;\">\n",
       "      <th></th>\n",
       "      <th>months</th>\n",
       "      <th>survive</th>\n",
       "    </tr>\n",
       "  </thead>\n",
       "  <tbody>\n",
       "    <tr>\n",
       "      <th>0</th>\n",
       "      <td>0.707107</td>\n",
       "      <td>0.707107</td>\n",
       "    </tr>\n",
       "  </tbody>\n",
       "</table>\n",
       "</div>"
      ],
      "text/plain": [
       "     months   survive\n",
       "0  0.707107  0.707107"
      ]
     },
     "execution_count": 35,
     "metadata": {},
     "output_type": "execute_result"
    }
   ],
   "source": [
    "df_test_user"
   ]
  },
  {
   "cell_type": "code",
   "execution_count": 36,
   "id": "9e224357-9070-444a-91f4-ca4c6ee8dde6",
   "metadata": {
    "tags": []
   },
   "outputs": [
    {
     "data": {
      "text/html": [
       "<div>\n",
       "<style scoped>\n",
       "    .dataframe tbody tr th:only-of-type {\n",
       "        vertical-align: middle;\n",
       "    }\n",
       "\n",
       "    .dataframe tbody tr th {\n",
       "        vertical-align: top;\n",
       "    }\n",
       "\n",
       "    .dataframe thead th {\n",
       "        text-align: right;\n",
       "    }\n",
       "</style>\n",
       "<table border=\"1\" class=\"dataframe\">\n",
       "  <thead>\n",
       "    <tr style=\"text-align: right;\">\n",
       "      <th></th>\n",
       "      <th>100</th>\n",
       "      <th>12</th>\n",
       "      <th>2110</th>\n",
       "      <th>255</th>\n",
       "      <th>30</th>\n",
       "      <th>54</th>\n",
       "      <th>642</th>\n",
       "      <th>700</th>\n",
       "      <th>700th</th>\n",
       "      <th>72</th>\n",
       "      <th>...</th>\n",
       "      <th>yep</th>\n",
       "      <th>yes</th>\n",
       "      <th>yesterday</th>\n",
       "      <th>yikes</th>\n",
       "      <th>york</th>\n",
       "      <th>young</th>\n",
       "      <th>yow</th>\n",
       "      <th>zeng</th>\n",
       "      <th>zero</th>\n",
       "      <th>zoology</th>\n",
       "    </tr>\n",
       "  </thead>\n",
       "  <tbody>\n",
       "    <tr>\n",
       "      <th>0</th>\n",
       "      <td>0.0</td>\n",
       "      <td>0.0</td>\n",
       "      <td>0.0</td>\n",
       "      <td>0.0</td>\n",
       "      <td>0.0</td>\n",
       "      <td>0.0</td>\n",
       "      <td>0.0</td>\n",
       "      <td>0.0</td>\n",
       "      <td>0.0</td>\n",
       "      <td>0.0</td>\n",
       "      <td>...</td>\n",
       "      <td>0.0</td>\n",
       "      <td>0.0</td>\n",
       "      <td>0.0</td>\n",
       "      <td>0.0</td>\n",
       "      <td>0.0</td>\n",
       "      <td>0.0</td>\n",
       "      <td>0.0</td>\n",
       "      <td>0.0</td>\n",
       "      <td>0.0</td>\n",
       "      <td>0.0</td>\n",
       "    </tr>\n",
       "    <tr>\n",
       "      <th>1</th>\n",
       "      <td>0.0</td>\n",
       "      <td>0.0</td>\n",
       "      <td>0.0</td>\n",
       "      <td>0.0</td>\n",
       "      <td>0.0</td>\n",
       "      <td>0.0</td>\n",
       "      <td>0.0</td>\n",
       "      <td>0.0</td>\n",
       "      <td>0.0</td>\n",
       "      <td>0.0</td>\n",
       "      <td>...</td>\n",
       "      <td>0.0</td>\n",
       "      <td>0.0</td>\n",
       "      <td>0.0</td>\n",
       "      <td>0.0</td>\n",
       "      <td>0.0</td>\n",
       "      <td>0.0</td>\n",
       "      <td>0.0</td>\n",
       "      <td>0.0</td>\n",
       "      <td>0.0</td>\n",
       "      <td>0.0</td>\n",
       "    </tr>\n",
       "    <tr>\n",
       "      <th>2</th>\n",
       "      <td>0.0</td>\n",
       "      <td>0.0</td>\n",
       "      <td>0.0</td>\n",
       "      <td>0.0</td>\n",
       "      <td>0.0</td>\n",
       "      <td>0.0</td>\n",
       "      <td>0.0</td>\n",
       "      <td>0.0</td>\n",
       "      <td>0.0</td>\n",
       "      <td>0.0</td>\n",
       "      <td>...</td>\n",
       "      <td>0.0</td>\n",
       "      <td>0.0</td>\n",
       "      <td>0.0</td>\n",
       "      <td>0.0</td>\n",
       "      <td>0.0</td>\n",
       "      <td>0.0</td>\n",
       "      <td>0.0</td>\n",
       "      <td>0.0</td>\n",
       "      <td>0.0</td>\n",
       "      <td>0.0</td>\n",
       "    </tr>\n",
       "    <tr>\n",
       "      <th>3</th>\n",
       "      <td>0.0</td>\n",
       "      <td>0.0</td>\n",
       "      <td>0.0</td>\n",
       "      <td>0.0</td>\n",
       "      <td>0.0</td>\n",
       "      <td>0.0</td>\n",
       "      <td>0.0</td>\n",
       "      <td>0.0</td>\n",
       "      <td>0.0</td>\n",
       "      <td>0.0</td>\n",
       "      <td>...</td>\n",
       "      <td>0.0</td>\n",
       "      <td>0.0</td>\n",
       "      <td>0.0</td>\n",
       "      <td>0.0</td>\n",
       "      <td>0.0</td>\n",
       "      <td>0.0</td>\n",
       "      <td>0.0</td>\n",
       "      <td>0.0</td>\n",
       "      <td>0.0</td>\n",
       "      <td>0.0</td>\n",
       "    </tr>\n",
       "    <tr>\n",
       "      <th>4</th>\n",
       "      <td>0.0</td>\n",
       "      <td>0.0</td>\n",
       "      <td>0.0</td>\n",
       "      <td>0.0</td>\n",
       "      <td>0.0</td>\n",
       "      <td>0.0</td>\n",
       "      <td>0.0</td>\n",
       "      <td>0.0</td>\n",
       "      <td>0.0</td>\n",
       "      <td>0.0</td>\n",
       "      <td>...</td>\n",
       "      <td>0.0</td>\n",
       "      <td>0.0</td>\n",
       "      <td>0.0</td>\n",
       "      <td>0.0</td>\n",
       "      <td>0.0</td>\n",
       "      <td>0.0</td>\n",
       "      <td>0.0</td>\n",
       "      <td>0.0</td>\n",
       "      <td>0.0</td>\n",
       "      <td>0.0</td>\n",
       "    </tr>\n",
       "    <tr>\n",
       "      <th>...</th>\n",
       "      <td>...</td>\n",
       "      <td>...</td>\n",
       "      <td>...</td>\n",
       "      <td>...</td>\n",
       "      <td>...</td>\n",
       "      <td>...</td>\n",
       "      <td>...</td>\n",
       "      <td>...</td>\n",
       "      <td>...</td>\n",
       "      <td>...</td>\n",
       "      <td>...</td>\n",
       "      <td>...</td>\n",
       "      <td>...</td>\n",
       "      <td>...</td>\n",
       "      <td>...</td>\n",
       "      <td>...</td>\n",
       "      <td>...</td>\n",
       "      <td>...</td>\n",
       "      <td>...</td>\n",
       "      <td>...</td>\n",
       "      <td>...</td>\n",
       "    </tr>\n",
       "    <tr>\n",
       "      <th>1407</th>\n",
       "      <td>0.0</td>\n",
       "      <td>0.0</td>\n",
       "      <td>0.0</td>\n",
       "      <td>0.0</td>\n",
       "      <td>0.0</td>\n",
       "      <td>0.0</td>\n",
       "      <td>0.0</td>\n",
       "      <td>0.0</td>\n",
       "      <td>0.0</td>\n",
       "      <td>0.0</td>\n",
       "      <td>...</td>\n",
       "      <td>0.0</td>\n",
       "      <td>0.0</td>\n",
       "      <td>0.0</td>\n",
       "      <td>0.0</td>\n",
       "      <td>0.0</td>\n",
       "      <td>0.0</td>\n",
       "      <td>0.0</td>\n",
       "      <td>0.0</td>\n",
       "      <td>0.0</td>\n",
       "      <td>0.0</td>\n",
       "    </tr>\n",
       "    <tr>\n",
       "      <th>1408</th>\n",
       "      <td>0.0</td>\n",
       "      <td>0.0</td>\n",
       "      <td>0.0</td>\n",
       "      <td>0.0</td>\n",
       "      <td>0.0</td>\n",
       "      <td>0.0</td>\n",
       "      <td>0.0</td>\n",
       "      <td>0.0</td>\n",
       "      <td>0.0</td>\n",
       "      <td>0.0</td>\n",
       "      <td>...</td>\n",
       "      <td>0.0</td>\n",
       "      <td>0.0</td>\n",
       "      <td>0.0</td>\n",
       "      <td>0.0</td>\n",
       "      <td>0.0</td>\n",
       "      <td>0.0</td>\n",
       "      <td>0.0</td>\n",
       "      <td>0.0</td>\n",
       "      <td>0.0</td>\n",
       "      <td>0.0</td>\n",
       "    </tr>\n",
       "    <tr>\n",
       "      <th>1409</th>\n",
       "      <td>0.0</td>\n",
       "      <td>0.0</td>\n",
       "      <td>0.0</td>\n",
       "      <td>0.0</td>\n",
       "      <td>0.0</td>\n",
       "      <td>0.0</td>\n",
       "      <td>0.0</td>\n",
       "      <td>0.0</td>\n",
       "      <td>0.0</td>\n",
       "      <td>0.0</td>\n",
       "      <td>...</td>\n",
       "      <td>0.0</td>\n",
       "      <td>0.0</td>\n",
       "      <td>0.0</td>\n",
       "      <td>0.0</td>\n",
       "      <td>0.0</td>\n",
       "      <td>0.0</td>\n",
       "      <td>0.0</td>\n",
       "      <td>0.0</td>\n",
       "      <td>0.0</td>\n",
       "      <td>0.0</td>\n",
       "    </tr>\n",
       "    <tr>\n",
       "      <th>1410</th>\n",
       "      <td>0.0</td>\n",
       "      <td>0.0</td>\n",
       "      <td>0.0</td>\n",
       "      <td>0.0</td>\n",
       "      <td>0.0</td>\n",
       "      <td>0.0</td>\n",
       "      <td>0.0</td>\n",
       "      <td>0.0</td>\n",
       "      <td>0.0</td>\n",
       "      <td>0.0</td>\n",
       "      <td>...</td>\n",
       "      <td>0.0</td>\n",
       "      <td>0.0</td>\n",
       "      <td>0.0</td>\n",
       "      <td>0.0</td>\n",
       "      <td>0.0</td>\n",
       "      <td>0.0</td>\n",
       "      <td>0.0</td>\n",
       "      <td>0.0</td>\n",
       "      <td>0.0</td>\n",
       "      <td>0.0</td>\n",
       "    </tr>\n",
       "    <tr>\n",
       "      <th>1411</th>\n",
       "      <td>0.0</td>\n",
       "      <td>0.0</td>\n",
       "      <td>0.0</td>\n",
       "      <td>0.0</td>\n",
       "      <td>0.0</td>\n",
       "      <td>0.0</td>\n",
       "      <td>0.0</td>\n",
       "      <td>0.0</td>\n",
       "      <td>0.0</td>\n",
       "      <td>0.0</td>\n",
       "      <td>...</td>\n",
       "      <td>0.0</td>\n",
       "      <td>0.0</td>\n",
       "      <td>0.0</td>\n",
       "      <td>0.0</td>\n",
       "      <td>0.0</td>\n",
       "      <td>0.0</td>\n",
       "      <td>0.0</td>\n",
       "      <td>0.0</td>\n",
       "      <td>0.0</td>\n",
       "      <td>0.0</td>\n",
       "    </tr>\n",
       "  </tbody>\n",
       "</table>\n",
       "<p>1412 rows × 1954 columns</p>\n",
       "</div>"
      ],
      "text/plain": [
       "      100   12  2110  255   30   54  642  700  700th   72  ...  yep  yes  \\\n",
       "0     0.0  0.0   0.0  0.0  0.0  0.0  0.0  0.0    0.0  0.0  ...  0.0  0.0   \n",
       "1     0.0  0.0   0.0  0.0  0.0  0.0  0.0  0.0    0.0  0.0  ...  0.0  0.0   \n",
       "2     0.0  0.0   0.0  0.0  0.0  0.0  0.0  0.0    0.0  0.0  ...  0.0  0.0   \n",
       "3     0.0  0.0   0.0  0.0  0.0  0.0  0.0  0.0    0.0  0.0  ...  0.0  0.0   \n",
       "4     0.0  0.0   0.0  0.0  0.0  0.0  0.0  0.0    0.0  0.0  ...  0.0  0.0   \n",
       "...   ...  ...   ...  ...  ...  ...  ...  ...    ...  ...  ...  ...  ...   \n",
       "1407  0.0  0.0   0.0  0.0  0.0  0.0  0.0  0.0    0.0  0.0  ...  0.0  0.0   \n",
       "1408  0.0  0.0   0.0  0.0  0.0  0.0  0.0  0.0    0.0  0.0  ...  0.0  0.0   \n",
       "1409  0.0  0.0   0.0  0.0  0.0  0.0  0.0  0.0    0.0  0.0  ...  0.0  0.0   \n",
       "1410  0.0  0.0   0.0  0.0  0.0  0.0  0.0  0.0    0.0  0.0  ...  0.0  0.0   \n",
       "1411  0.0  0.0   0.0  0.0  0.0  0.0  0.0  0.0    0.0  0.0  ...  0.0  0.0   \n",
       "\n",
       "      yesterday  yikes  york  young  yow  zeng  zero  zoology  \n",
       "0           0.0    0.0   0.0    0.0  0.0   0.0   0.0      0.0  \n",
       "1           0.0    0.0   0.0    0.0  0.0   0.0   0.0      0.0  \n",
       "2           0.0    0.0   0.0    0.0  0.0   0.0   0.0      0.0  \n",
       "3           0.0    0.0   0.0    0.0  0.0   0.0   0.0      0.0  \n",
       "4           0.0    0.0   0.0    0.0  0.0   0.0   0.0      0.0  \n",
       "...         ...    ...   ...    ...  ...   ...   ...      ...  \n",
       "1407        0.0    0.0   0.0    0.0  0.0   0.0   0.0      0.0  \n",
       "1408        0.0    0.0   0.0    0.0  0.0   0.0   0.0      0.0  \n",
       "1409        0.0    0.0   0.0    0.0  0.0   0.0   0.0      0.0  \n",
       "1410        0.0    0.0   0.0    0.0  0.0   0.0   0.0      0.0  \n",
       "1411        0.0    0.0   0.0    0.0  0.0   0.0   0.0      0.0  \n",
       "\n",
       "[1412 rows x 1954 columns]"
      ]
     },
     "execution_count": 36,
     "metadata": {},
     "output_type": "execute_result"
    }
   ],
   "source": [
    "df_concat = pd.concat([df_test, df_test_user], ignore_index=True)\n",
    "df_concat = df_concat.fillna(0.0)\n",
    "df_concat"
   ]
  },
  {
   "cell_type": "code",
   "execution_count": 37,
   "id": "47b02ef5-22de-4bcd-9659-5459881a9e9a",
   "metadata": {
    "tags": []
   },
   "outputs": [
    {
     "data": {
      "text/html": [
       "<div>\n",
       "<style scoped>\n",
       "    .dataframe tbody tr th:only-of-type {\n",
       "        vertical-align: middle;\n",
       "    }\n",
       "\n",
       "    .dataframe tbody tr th {\n",
       "        vertical-align: top;\n",
       "    }\n",
       "\n",
       "    .dataframe thead th {\n",
       "        text-align: right;\n",
       "    }\n",
       "</style>\n",
       "<table border=\"1\" class=\"dataframe\">\n",
       "  <thead>\n",
       "    <tr style=\"text-align: right;\">\n",
       "      <th></th>\n",
       "      <th>100</th>\n",
       "      <th>12</th>\n",
       "      <th>2110</th>\n",
       "      <th>255</th>\n",
       "      <th>30</th>\n",
       "      <th>54</th>\n",
       "      <th>642</th>\n",
       "      <th>700</th>\n",
       "      <th>700th</th>\n",
       "      <th>72</th>\n",
       "      <th>...</th>\n",
       "      <th>yep</th>\n",
       "      <th>yes</th>\n",
       "      <th>yesterday</th>\n",
       "      <th>yikes</th>\n",
       "      <th>york</th>\n",
       "      <th>young</th>\n",
       "      <th>yow</th>\n",
       "      <th>zeng</th>\n",
       "      <th>zero</th>\n",
       "      <th>zoology</th>\n",
       "    </tr>\n",
       "  </thead>\n",
       "  <tbody>\n",
       "    <tr>\n",
       "      <th>1411</th>\n",
       "      <td>0.0</td>\n",
       "      <td>0.0</td>\n",
       "      <td>0.0</td>\n",
       "      <td>0.0</td>\n",
       "      <td>0.0</td>\n",
       "      <td>0.0</td>\n",
       "      <td>0.0</td>\n",
       "      <td>0.0</td>\n",
       "      <td>0.0</td>\n",
       "      <td>0.0</td>\n",
       "      <td>...</td>\n",
       "      <td>0.0</td>\n",
       "      <td>0.0</td>\n",
       "      <td>0.0</td>\n",
       "      <td>0.0</td>\n",
       "      <td>0.0</td>\n",
       "      <td>0.0</td>\n",
       "      <td>0.0</td>\n",
       "      <td>0.0</td>\n",
       "      <td>0.0</td>\n",
       "      <td>0.0</td>\n",
       "    </tr>\n",
       "  </tbody>\n",
       "</table>\n",
       "<p>1 rows × 1954 columns</p>\n",
       "</div>"
      ],
      "text/plain": [
       "      100   12  2110  255   30   54  642  700  700th   72  ...  yep  yes  \\\n",
       "1411  0.0  0.0   0.0  0.0  0.0  0.0  0.0  0.0    0.0  0.0  ...  0.0  0.0   \n",
       "\n",
       "      yesterday  yikes  york  young  yow  zeng  zero  zoology  \n",
       "1411        0.0    0.0   0.0    0.0  0.0   0.0   0.0      0.0  \n",
       "\n",
       "[1 rows x 1954 columns]"
      ]
     },
     "execution_count": 37,
     "metadata": {},
     "output_type": "execute_result"
    }
   ],
   "source": [
    "df_test_user = df_concat.iloc[[-1]]\n",
    "df_test_user"
   ]
  },
  {
   "cell_type": "code",
   "execution_count": 38,
   "id": "d20ebf86-23de-404b-85a4-d0180c34e1bd",
   "metadata": {
    "tags": []
   },
   "outputs": [],
   "source": [
    "user_tfidf = spicy.sparse.csr_matrix(df_test_user.values)"
   ]
  },
  {
   "cell_type": "code",
   "execution_count": 39,
   "id": "8903c144-ff7b-46b7-9d33-aeace2617932",
   "metadata": {
    "tags": []
   },
   "outputs": [
    {
     "data": {
      "text/plain": [
       "(1411, 1954)"
      ]
     },
     "metadata": {},
     "output_type": "display_data"
    },
    {
     "data": {
      "text/plain": [
       "(1, 1954)"
      ]
     },
     "metadata": {},
     "output_type": "display_data"
    }
   ],
   "source": [
    "display(tfidf.shape)\n",
    "display(user_tfidf.shape)"
   ]
  },
  {
   "cell_type": "code",
   "execution_count": 40,
   "id": "fc59f44c-ce47-4cf8-8326-bbdd1c2a2572",
   "metadata": {
    "tags": []
   },
   "outputs": [
    {
     "data": {
      "text/plain": [
       "<1411x1 sparse matrix of type '<class 'numpy.float64'>'\n",
       "\twith 2 stored elements in Compressed Sparse Row format>"
      ]
     },
     "execution_count": 40,
     "metadata": {},
     "output_type": "execute_result"
    }
   ],
   "source": [
    "pairwise_similarity = tfidf * user_tfidf.T\n",
    "pairwise_similarity"
   ]
  },
  {
   "cell_type": "code",
   "execution_count": 41,
   "id": "527e670d-1d12-43f5-bb7a-2b91a4fd1232",
   "metadata": {
    "tags": []
   },
   "outputs": [
    {
     "name": "stdout",
     "output_type": "stream",
     "text": [
      "User Input: ['I can survive for months']\n",
      "0.452088827516804\n",
      "Phrase: ['It is said that the Dragon Warrior can survive for months at a time on nothing but the dew of a single gingko leaf and the energy of the universe.']\n"
     ]
    },
    {
     "data": {
      "text/html": [
       "<div>\n",
       "<style scoped>\n",
       "    .dataframe tbody tr th:only-of-type {\n",
       "        vertical-align: middle;\n",
       "    }\n",
       "\n",
       "    .dataframe tbody tr th {\n",
       "        vertical-align: top;\n",
       "    }\n",
       "\n",
       "    .dataframe thead th {\n",
       "        text-align: right;\n",
       "    }\n",
       "</style>\n",
       "<table border=\"1\" class=\"dataframe\">\n",
       "  <thead>\n",
       "    <tr style=\"text-align: right;\">\n",
       "      <th></th>\n",
       "      <th>movie_title</th>\n",
       "      <th>character</th>\n",
       "      <th>line</th>\n",
       "    </tr>\n",
       "  </thead>\n",
       "  <tbody>\n",
       "    <tr>\n",
       "      <th>332</th>\n",
       "      <td>Kung Fu Panda</td>\n",
       "      <td>TIGRESS</td>\n",
       "      <td>It is said that the Dragon Warrior can survive...</td>\n",
       "    </tr>\n",
       "  </tbody>\n",
       "</table>\n",
       "</div>"
      ],
      "text/plain": [
       "       movie_title character  \\\n",
       "332  Kung Fu Panda   TIGRESS   \n",
       "\n",
       "                                                  line  \n",
       "332  It is said that the Dragon Warrior can survive...  "
      ]
     },
     "metadata": {},
     "output_type": "display_data"
    },
    {
     "name": "stdout",
     "output_type": "stream",
     "text": [
      "0.35019579924980165\n",
      "Phrase: [\"I DON'T WANT TO SURVIVE! I WANT TO LIVE!\"]\n"
     ]
    },
    {
     "data": {
      "text/html": [
       "<div>\n",
       "<style scoped>\n",
       "    .dataframe tbody tr th:only-of-type {\n",
       "        vertical-align: middle;\n",
       "    }\n",
       "\n",
       "    .dataframe tbody tr th {\n",
       "        vertical-align: top;\n",
       "    }\n",
       "\n",
       "    .dataframe thead th {\n",
       "        text-align: right;\n",
       "    }\n",
       "</style>\n",
       "<table border=\"1\" class=\"dataframe\">\n",
       "  <thead>\n",
       "    <tr style=\"text-align: right;\">\n",
       "      <th></th>\n",
       "      <th>movie_title</th>\n",
       "      <th>character</th>\n",
       "      <th>line</th>\n",
       "    </tr>\n",
       "  </thead>\n",
       "  <tbody>\n",
       "    <tr>\n",
       "      <th>759</th>\n",
       "      <td>Wall-E</td>\n",
       "      <td>CAPTAIN</td>\n",
       "      <td>I DON'T WANT TO SURVIVE! I WANT TO LIVE!</td>\n",
       "    </tr>\n",
       "  </tbody>\n",
       "</table>\n",
       "</div>"
      ],
      "text/plain": [
       "    movie_title character                                      line\n",
       "759      Wall-E   CAPTAIN  I DON'T WANT TO SURVIVE! I WANT TO LIVE!"
      ]
     },
     "metadata": {},
     "output_type": "display_data"
    }
   ],
   "source": [
    "sims = [ (i, matrix.item(0,0)) for i, matrix in enumerate(list(pairwise_similarity.todense()))]\n",
    "\n",
    "# sort similarities\n",
    "sims = sorted(sims, key = lambda x : x[1], reverse=True)\n",
    "\n",
    "# filter away zero-value similarities\n",
    "sims = list(filter(lambda x : x[1] != 0.0, sims))\n",
    "\n",
    "# show top 5 lines from characters similar to the user_input text\n",
    "print(\"User Input:\", [user_input])\n",
    "for i, sim in sims[:10]:\n",
    "    print(sim)\n",
    "    print(\"Phrase:\", list(df.iloc[[i]]['line']))\n",
    "    display(df.iloc[[i]])"
   ]
  },
  {
   "cell_type": "code",
   "execution_count": null,
   "id": "9ba86240-1894-48ba-b371-992812829082",
   "metadata": {},
   "outputs": [],
   "source": []
  }
 ],
 "metadata": {
  "kernelspec": {
   "display_name": "Python 3 (ipykernel)",
   "language": "python",
   "name": "python3"
  },
  "language_info": {
   "codemirror_mode": {
    "name": "ipython",
    "version": 3
   },
   "file_extension": ".py",
   "mimetype": "text/x-python",
   "name": "python",
   "nbconvert_exporter": "python",
   "pygments_lexer": "ipython3",
   "version": "3.11.4"
  }
 },
 "nbformat": 4,
 "nbformat_minor": 5
}
