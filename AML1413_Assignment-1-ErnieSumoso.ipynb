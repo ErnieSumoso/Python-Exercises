{
 "cells": [
  {
   "cell_type": "markdown",
   "id": "3c04ee94",
   "metadata": {
    "tags": []
   },
   "source": [
    "# AML1413 Introduction to AI - Assignment #1\n",
    "\n",
    "Group members:\n",
    "- Aashutosh Shahi C0919383\n",
    "- Bimal Kumar Shrestha C0919385\n",
    "- Danilo Diaz Valencia C0889539\n",
    "- Ernie Sumoso C0881591\n",
    "- Hemant Gurung C0919388\n",
    "- Roshan Nepal C0919373\n",
    "- Sopnil Nepal C0919372"
   ]
  },
  {
   "cell_type": "code",
   "execution_count": 1,
   "id": "17917509-b0ee-4f5c-bb7b-36054ec2160c",
   "metadata": {
    "tags": []
   },
   "outputs": [],
   "source": [
    "import math # importing python library to perform basic math operations like factorial and euler exponential"
   ]
  },
  {
   "cell_type": "markdown",
   "id": "74741a9c-3a39-43ec-b22d-2e71df306136",
   "metadata": {},
   "source": [
    "__Q1.__ You draw two cards from pack of 52 shuffled cards (without replacement). Create a Python Program to generate a Probability Distribution Table for getting zero to at most 2 ACES.\n"
   ]
  },
  {
   "cell_type": "code",
   "execution_count": 2,
   "id": "a21fc097-d16b-4cd3-8315-3b38a6fdc149",
   "metadata": {
    "tags": []
   },
   "outputs": [
    {
     "name": "stdout",
     "output_type": "stream",
     "text": [
      "Probability Distribution Table\n",
      "# Aces\t| Probability (%)\n",
      "-------\t|------------------\n",
      " 0\t| 85.0679\n",
      " 1\t| 14.4796\n",
      " 2\t|  0.4525\n"
     ]
    }
   ],
   "source": [
    "# Define a Deck class as an internal representation of a pack of 52 shuffled cards\n",
    "class Deck():\n",
    "    def __init__(self):\n",
    "        self.cards = 52\n",
    "        self.aces = 4\n",
    "    \n",
    "    # Draw 1 card from the deck, if it's an ace we deduct 1 from the aces counter\n",
    "    def draw_card(self, is_ace):\n",
    "        self.aces -= 1 if is_ace else 0\n",
    "        self.cards -= 1\n",
    "    \n",
    "    # Calculate the probability of drawing a card (ace or not ace)\n",
    "    def get_probability_of_drawing_card(self, is_ace):\n",
    "        return (self.aces / self.cards) if is_ace else ((self.cards - self.aces) / self.cards)\n",
    "\n",
    "# Calculate the probability of drawing cards\n",
    "# \"list_is_ace\" parameter: boolean list defining if drawn cards are aces\n",
    "def get_probability_of_drawing_cards(cards):\n",
    "    deck = Deck()\n",
    "    probability = 1\n",
    "    # For each card, update the probability of drawing a card and then draw it\n",
    "    for card in cards:\n",
    "        is_ace = (card == 'A')\n",
    "        probability *= deck.get_probability_of_drawing_card(is_ace)\n",
    "        deck.draw_card(is_ace)\n",
    "    return probability\n",
    "\n",
    "# Let's print the distribution table\n",
    "print(\"Probability Distribution Table\")\n",
    "print(\"# Aces\\t| Probability (%)\")\n",
    "print(\"-------\\t|------------------\")\n",
    "print(f\" 0\\t| {round(get_probability_of_drawing_cards('CC') * 100, 4)}\")\n",
    "# There are 2 ways of drawing 1 ace: ACE,CARD - CARD,ACE\n",
    "print(f\" 1\\t| {round(get_probability_of_drawing_cards('AC') * 100 + get_probability_of_drawing_cards('CA') * 100, 4)}\")\n",
    "print(f\" 2\\t|  {round(get_probability_of_drawing_cards('AA') * 100, 4)}\")"
   ]
  },
  {
   "cell_type": "markdown",
   "id": "727cd6b1",
   "metadata": {},
   "source": [
    "\n",
    "__Q2.__ Bag I contain 2 red and 8 black balls while another Bag II contains 5 red and 5 black balls. One ball is drawn at random from one of the bags, and it is found to be black. Create a Python Program to find the probability that it was drawn from Bag 2."
   ]
  },
  {
   "cell_type": "code",
   "execution_count": 3,
   "id": "b6172c72-d8e8-4c06-84ec-5d8ef379b288",
   "metadata": {
    "tags": []
   },
   "outputs": [
    {
     "name": "stdout",
     "output_type": "stream",
     "text": [
      "Probability that the black ball was drawn from bag 2:\n",
      "38.4615 %\n"
     ]
    }
   ],
   "source": [
    "# Define a Bag class as an internal representation of a bag with red and black balls \n",
    "class Bag():\n",
    "    def __init__(self, reds, blacks):\n",
    "        self.reds = reds\n",
    "        self.blacks = blacks\n",
    "        self.initial_reds = reds\n",
    "        self.initial_blacks = blacks\n",
    "    \n",
    "    # Draw 1 ball from the bag, if it's red or black we deduct 1 from the corresponding counter\n",
    "    def draw_ball(self, is_red):\n",
    "        self.reds -= 1 if is_red else 0\n",
    "        self.blacks -= 1 if not is_red else 0\n",
    "        \n",
    "    # Calculate the probability of drawing 1 ball (red or black)\n",
    "    def get_probability_of_drawing_ball(self, is_red):\n",
    "        return (self.reds / self.total()) if is_red else (self.blacks / self.total())\n",
    "    \n",
    "    # Replace balls from the bag\n",
    "    def replace_balls(self):\n",
    "        self.reds = self.initial_reds\n",
    "        self.blacks = self.initial_blacks\n",
    "    \n",
    "    # Get the total of balls from the bag\n",
    "    def total(self):\n",
    "        return self.reds + self.blacks\n",
    "\n",
    "# Calculate the probability of selecting 1 bag from the bags\n",
    "def get_probability_of_selecting_bag(bag, bags):\n",
    "    return 1/len(bags)\n",
    "\n",
    "# Calculate the probability of selecting a ball from all bags by adding the balls from all bags\n",
    "def get_probability_of_drawing_ball_from_all_bags(bags, is_red):\n",
    "    reds = 0\n",
    "    blacks = 0\n",
    "    for bag in bags:\n",
    "        reds += bag.reds\n",
    "        blacks += bag.blacks\n",
    "    total = reds + blacks\n",
    "    return (reds / total) if is_red else (blacks / total)\n",
    "\n",
    "# Create bags with corresponding balls\n",
    "bag_1 = Bag(2, 8)\n",
    "bag_2 = Bag(5, 5)\n",
    "bags = [bag_1, bag_2]\n",
    "\n",
    "# Use Bayes theorem to calculate the probability that the black ball was drawn from bag 2\n",
    "# P(bag 2 | black ball) = P(bag 2) * P(black ball | bag 2) / P(black ball)\n",
    "bayes_theorem_answer = get_probability_of_selecting_bag(bag_2, bags) * bag_2.get_probability_of_drawing_ball(False) / get_probability_of_drawing_ball_from_all_bags(bags, False)\n",
    "\n",
    "# Let's print the result\n",
    "print(f\"Probability that the black ball was drawn from bag 2:\")\n",
    "print(f\"{round(bayes_theorem_answer * 100, 4)} %\")"
   ]
  },
  {
   "cell_type": "markdown",
   "id": "a0d1d288",
   "metadata": {},
   "source": [
    "__Q3.__ There are 3 red and 7 black balls in a bag. You are asked to draw 3 balls at random (with replacement) in three different trials, Create a Python program to find the probability of getting two red balls and one black ball?  (4 Marks)"
   ]
  },
  {
   "cell_type": "code",
   "execution_count": 4,
   "id": "089a39e7-088d-4a99-a8f1-634020cf0b18",
   "metadata": {
    "tags": []
   },
   "outputs": [
    {
     "name": "stdout",
     "output_type": "stream",
     "text": [
      "Probability of drawing 2 red balls and 1 black ball from the bag:\n",
      "18.9 %\n"
     ]
    }
   ],
   "source": [
    "# Calculate the probability of multiple draws from a bag, with or without replacement\n",
    "def get_probability_of_drawing_balls(draws, bag, replacement):\n",
    "    probability = 0\n",
    "    # for each draw let's sum probabilities\n",
    "    for draw in draws:\n",
    "        draw_probability = 1\n",
    "        # for each ball in the draw we update the probability, draw the ball, and replace if needed\n",
    "        for ball in draw:\n",
    "            is_red = (ball == 'R')\n",
    "            draw_probability *= bag.get_probability_of_drawing_ball(is_red)\n",
    "            bag.draw_ball(is_red)\n",
    "            if replacement: bag.replace_balls()\n",
    "        probability += draw_probability\n",
    "    return probability\n",
    "\n",
    "# Define our bag and draws. There are 3 possible ways to get 2 red balls and 1 black: RED,RED,BLACK - RED,BLACK,RED - BLACK,RED,RED\n",
    "bag = Bag(3, 7)\n",
    "draws = ['RRB', 'RBR', 'BRR']\n",
    "result = get_probability_of_drawing_balls(draws, bag, True)\n",
    "\n",
    "# Let's print the result\n",
    "print(\"Probability of drawing 2 red balls and 1 black ball from the bag:\")\n",
    "print(f\"{round(result * 100, 4)} %\")"
   ]
  },
  {
   "cell_type": "markdown",
   "id": "2bb0250a",
   "metadata": {},
   "source": [
    "__Q4.__ A Customer Call center receives on average 3.5 calls every hour. Write a Python Program to find the probability that it will receive at most 4 calls every hour? "
   ]
  },
  {
   "cell_type": "code",
   "execution_count": 5,
   "id": "2684a4ce",
   "metadata": {
    "tags": []
   },
   "outputs": [
    {
     "name": "stdout",
     "output_type": "stream",
     "text": [
      "Probability of receiving at most 4 calls every hour:\n",
      "72.5445 %\n"
     ]
    }
   ],
   "source": [
    "# Define a Poisson distribution\n",
    "class PoissonDistribution:\n",
    "    def __init__(self, avg_rate):\n",
    "        self.avg_rate = avg_rate\n",
    "    \n",
    "    # Calculate the probability (known formula) based on the average rate and k number of events\n",
    "    def get_probability(self, k):\n",
    "        probability = ((self.avg_rate)**k * math.exp(-self.avg_rate)) / math.factorial(k)\n",
    "        return probability\n",
    "\n",
    "# Calculate the probability of at most k events happening for a Poisson distribution\n",
    "def get_probability_at_most_k_events(k, poisson):\n",
    "    probability = 0\n",
    "    count = 0\n",
    "    # Calculate and sum the probabilities for each number from zero to k\n",
    "    for count in range(k + 1):\n",
    "        probability += poisson.get_probability(count)\n",
    "    return probability\n",
    "\n",
    "pd = PoissonDistribution(3.5)\n",
    "result = get_probability_at_most_k_events(4, pd)\n",
    "\n",
    "# Let's print the result\n",
    "print(\"Probability of receiving at most 4 calls every hour:\")\n",
    "print(f\"{round(result * 100, 4)} %\")"
   ]
  },
  {
   "cell_type": "markdown",
   "id": "5bc66be5",
   "metadata": {},
   "source": [
    "__Q5.__ The Student Services at Cestar College receives 2 phone calls per hour. Write a Python Program to find the probability that a phone call will come within the next hour. "
   ]
  },
  {
   "cell_type": "code",
   "execution_count": 6,
   "id": "a10c8414",
   "metadata": {},
   "outputs": [
    {
     "name": "stdout",
     "output_type": "stream",
     "text": [
      "Probability that a phone call will come within the next hour:\n",
      "27.0671 %\n"
     ]
    }
   ],
   "source": [
    "pd = PoissonDistribution(2)\n",
    "# Calculate the probability of getting exactly 1 phone call\n",
    "# P(k = 1)\n",
    "result = pd.get_probability(1)\n",
    "print(\"Probability that a phone call will come within the next hour:\")\n",
    "print(f\"{round(result * 100, 4)} %\")"
   ]
  },
  {
   "cell_type": "markdown",
   "id": "6f101045-9575-4497-8ce4-5919f1cc7170",
   "metadata": {},
   "source": [
    "__Q7.__ Create a Python program to find the Inverse of the following Matrix, using the concept shown in the class. Use of Linalg is restricted.\n",
    "[[7 2], [3 -5]]"
   ]
  },
  {
   "cell_type": "code",
   "execution_count": 7,
   "id": "890499f9-6ee5-4567-a7f8-3d21a3be9de8",
   "metadata": {
    "tags": []
   },
   "outputs": [
    {
     "data": {
      "text/plain": [
       "[ 0.12195121951219512  0.04878048780487805 ]\n",
       "[ 0.07317073170731708 -0.17073170731707318 ]"
      ]
     },
     "execution_count": 7,
     "metadata": {},
     "output_type": "execute_result"
    }
   ],
   "source": [
    "# Define an square 2x2 matrix\n",
    "class Matrix2x2():\n",
    "    def __init__(self, row1, row2):\n",
    "        self.a = row1[0]\n",
    "        self.b = row1[1]\n",
    "        self.c = row2[0]\n",
    "        self.d = row2[1]\n",
    "    \n",
    "    # Calculate the determinant (known formula)\n",
    "    def get_determinant(self):\n",
    "        return 1 / (self.a * self.d - self.b * self.c)\n",
    "    \n",
    "    # Calculate and return the inverse matrix of the current matrix (using the determinant)\n",
    "    def get_inverse_matrix(self):\n",
    "        det = self.get_determinant()\n",
    "        return Matrix2x2([self.d * det, - self.b * det], [- self.c * det, self.a * det])\n",
    "    \n",
    "    # Overload the print representation of the matrix\n",
    "    def __repr__(self):\n",
    "        return f\"[ {self.a}  {self.b} ]\\n[ {self.c} {self.d} ]\"\n",
    "\n",
    "# Let's define our matrix and get its inverse\n",
    "matrix = Matrix2x2([7,2], [3,-5])\n",
    "matrix.get_inverse_matrix()"
   ]
  }
 ],
 "metadata": {
  "kernelspec": {
   "display_name": "Python 3 (ipykernel)",
   "language": "python",
   "name": "python3"
  },
  "language_info": {
   "codemirror_mode": {
    "name": "ipython",
    "version": 3
   },
   "file_extension": ".py",
   "mimetype": "text/x-python",
   "name": "python",
   "nbconvert_exporter": "python",
   "pygments_lexer": "ipython3",
   "version": "3.11.4"
  }
 },
 "nbformat": 4,
 "nbformat_minor": 5
}
