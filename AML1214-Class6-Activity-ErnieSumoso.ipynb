{
 "cells": [
  {
   "cell_type": "markdown",
   "id": "55058a94-7e1e-4577-a21f-91611f8b6aab",
   "metadata": {},
   "source": [
    "Ernie Sumoso Vicuna\n",
    "\n",
    "C0881591"
   ]
  },
  {
   "cell_type": "code",
   "execution_count": 51,
   "id": "aedda79f-6891-4142-870a-77b90eae7266",
   "metadata": {
    "tags": []
   },
   "outputs": [
    {
     "name": "stdout",
     "output_type": "stream",
     "text": [
      "Is the animal a turtle? I predict True\n",
      "True\n",
      "Is the animal a lion? I predict False\n",
      "False\n",
      "Is the length of the animal variable 6? I predict True\n",
      "True\n",
      "Is the length of the animal variable 5? I predict False\n",
      "False\n"
     ]
    }
   ],
   "source": [
    "# 5.1 Conditional Test\n",
    "animal = 'turtle'\n",
    "print('Is the animal a turtle? I predict True')\n",
    "print(animal == 'turtle')\n",
    "print('Is the animal a lion? I predict False')\n",
    "print(animal == 'lion')\n",
    "print('Is the length of the animal variable 6? I predict True')\n",
    "print(len(animal) == 6)\n",
    "print('Is the length of the animal variable 5? I predict False')\n",
    "print(len(animal) == 5)"
   ]
  },
  {
   "cell_type": "code",
   "execution_count": 17,
   "id": "fe9bdaef-fdaf-4acc-a9a8-484f3fd9c632",
   "metadata": {
    "tags": []
   },
   "outputs": [
    {
     "name": "stdout",
     "output_type": "stream",
     "text": [
      "Are both names the same? I predict False\n",
      "False\n",
      "Are both names different? I predict True\n",
      "True\n",
      "Is the first name in lowers equal to \"john\"? I predict True\n",
      "True\n",
      "Is the first name in lowers equal to \"jonh\"? I predict False\n",
      "False\n",
      "Is apple in the list? I predict True\n",
      "True\n",
      "Is orange on the list? I predict False\n",
      "False\n",
      "Are banana and pineapple in the list? I predict True\n",
      "True\n",
      "Are orange or watermelon in the list? I predict False\n",
      "False\n"
     ]
    }
   ],
   "source": [
    "# 5.2 More Conditional Tests\n",
    "name1 = 'John'\n",
    "name2 = 'Mike'\n",
    "print('Are both names the same? I predict False')\n",
    "print(name1 == name2)\n",
    "print('Are both names different? I predict True')\n",
    "print(name1 != name2)\n",
    "print('Is the first name in lowers equal to \"john\"? I predict True')\n",
    "print(name1.lower() == 'john')\n",
    "print('Is the first name in lowers equal to \"jonh\"? I predict False')\n",
    "print(name1.lower() == 'jonh')\n",
    "\n",
    "fruits = ['apple', 'banana', 'pineapple']\n",
    "print('Is apple in the list? I predict True')\n",
    "print('apple' in fruits)\n",
    "print('Is orange on the list? I predict False')\n",
    "print('orange' in fruits)\n",
    "\n",
    "print('Are banana and pineapple in the list? I predict True')\n",
    "print('banana' in fruits and 'pineapple' in fruits)\n",
    "print('Are orange or watermelon in the list? I predict False')\n",
    "print('orange' in fruits and 'watermelon' in fruits)"
   ]
  },
  {
   "cell_type": "code",
   "execution_count": 22,
   "id": "7e4f5e7c-aba4-4856-a377-6a2606647f97",
   "metadata": {
    "tags": []
   },
   "outputs": [
    {
     "name": "stdout",
     "output_type": "stream",
     "text": [
      "The player earned 5 points\n"
     ]
    }
   ],
   "source": [
    "# 5.3 Alien Colors #1\n",
    "def shoot_alien(color):\n",
    "    if color == 'green':\n",
    "        print('The player earned 5 points')\n",
    "\n",
    "alien_color = 'yellow'\n",
    "shoot_alien(alien_color)\n",
    "alien_color = 'green'\n",
    "shoot_alien(alien_color)"
   ]
  },
  {
   "cell_type": "code",
   "execution_count": 23,
   "id": "367fbb29-74ff-44dd-864c-6dee86faf461",
   "metadata": {
    "tags": []
   },
   "outputs": [
    {
     "name": "stdout",
     "output_type": "stream",
     "text": [
      "The player earned 10 points\n",
      "The player earned 5 points\n"
     ]
    }
   ],
   "source": [
    "# 5.4 Alien Colors #2\n",
    "def shoot_alien(color):\n",
    "    if color == 'green':\n",
    "        print('The player earned 5 points')\n",
    "    else:\n",
    "        print('The player earned 10 points')\n",
    "\n",
    "alien_color = 'yellow'\n",
    "shoot_alien(alien_color)\n",
    "alien_color = 'green'\n",
    "shoot_alien(alien_color)\n"
   ]
  },
  {
   "cell_type": "code",
   "execution_count": 26,
   "id": "29e927b1-a6a5-431b-af9d-6943051bf88e",
   "metadata": {
    "tags": []
   },
   "outputs": [
    {
     "name": "stdout",
     "output_type": "stream",
     "text": [
      "The player earned 5 points\n",
      "The player earned 10 points\n",
      "The player earned 15 points\n"
     ]
    }
   ],
   "source": [
    "# 5.5 Alien Colors #3\n",
    "def shoot_alien(color):\n",
    "    if color == 'green':\n",
    "        print('The player earned 5 points')\n",
    "    elif color == 'yellow':\n",
    "        print('The player earned 10 points')\n",
    "    elif color == 'red':\n",
    "        print('The player earned 15 points')\n",
    "\n",
    "alien_color = 'green'\n",
    "shoot_alien(alien_color)\n",
    "alien_color = 'yellow'\n",
    "shoot_alien(alien_color)\n",
    "alien_color = 'red'\n",
    "shoot_alien(alien_color)"
   ]
  },
  {
   "cell_type": "code",
   "execution_count": 29,
   "id": "409fd861-01f9-499e-8e73-fa945eb7a3a7",
   "metadata": {
    "tags": []
   },
   "outputs": [
    {
     "name": "stdout",
     "output_type": "stream",
     "text": [
      "The person is a baby.\n",
      "The person is a toddler.\n",
      "The person is a kid.\n",
      "The person is a teenager.\n",
      "The person is an adult.\n",
      "The person is an elder.\n"
     ]
    }
   ],
   "source": [
    "# 5.6 Stages of Life\n",
    "def stage_of_life(age):\n",
    "    if age < 2:\n",
    "        print('The person is a baby.')\n",
    "    elif age < 4:\n",
    "        print('The person is a toddler.')\n",
    "    elif age < 13:\n",
    "        print('The person is a kid.')\n",
    "    elif age < 20:\n",
    "        print('The person is a teenager.')\n",
    "    elif age < 65:\n",
    "        print('The person is an adult.')\n",
    "    else:\n",
    "        print('The person is an elder.')\n",
    "        \n",
    "stage_of_life(1)\n",
    "stage_of_life(2)\n",
    "stage_of_life(5)\n",
    "stage_of_life(17)\n",
    "stage_of_life(42)\n",
    "stage_of_life(78)"
   ]
  },
  {
   "cell_type": "code",
   "execution_count": 33,
   "id": "c60a5401-52e0-44b0-baf4-43b58c348122",
   "metadata": {
    "tags": []
   },
   "outputs": [
    {
     "name": "stdout",
     "output_type": "stream",
     "text": [
      "You really like apples!\n",
      "You really like oranges!\n",
      "You really like grapes!\n"
     ]
    }
   ],
   "source": [
    "# 5.7 Favorite Fruit\n",
    "favorite_fruits = ['apples', 'oranges', 'grapes']\n",
    "fruit = 'apples'\n",
    "if fruit in favorite_fruits:\n",
    "    print(f'You really like {fruit}!')\n",
    "fruit = 'bananas'\n",
    "if fruit in favorite_fruits:\n",
    "    print(f'You really like {fruit}!')\n",
    "fruit = 'oranges'\n",
    "if fruit in favorite_fruits:\n",
    "    print(f'You really like {fruit}!')\n",
    "fruit = 'kiwis'\n",
    "if fruit in favorite_fruits:\n",
    "    print(f'You really like {fruit}!')\n",
    "fruit = 'grapes'\n",
    "if fruit in favorite_fruits:\n",
    "    print(f'You really like {fruit}!')"
   ]
  },
  {
   "cell_type": "code",
   "execution_count": 36,
   "id": "5204c873-9c0e-489d-bfaf-3d11ba3b20c2",
   "metadata": {
    "tags": []
   },
   "outputs": [
    {
     "name": "stdout",
     "output_type": "stream",
     "text": [
      "Hello flakes, thank you for logging in again.\n",
      "Hello hunter14, thank you for logging in again.\n",
      "Hello shy199, thank you for logging in again.\n",
      "Hello admin, would you like to see a status report?\n",
      "Hello saiko, thank you for logging in again.\n"
     ]
    }
   ],
   "source": [
    "# 5.8 Hello Admin!\n",
    "usernames = ['flakes', 'hunter14', 'shy199', 'admin', 'saiko']\n",
    "\n",
    "def hello_admin(usernames):\n",
    "    for username in usernames:\n",
    "        if(username == 'admin'):\n",
    "            print(f'Hello {username}, would you like to see a status report?')\n",
    "        else:\n",
    "            print(f'Hello {username}, thank you for logging in again.')\n",
    "            \n",
    "hello_admin(usernames)"
   ]
  },
  {
   "cell_type": "code",
   "execution_count": 37,
   "id": "fb42030f-83b2-4e1b-8a04-12fde4f7ded6",
   "metadata": {
    "tags": []
   },
   "outputs": [
    {
     "name": "stdout",
     "output_type": "stream",
     "text": [
      "We need to find some users!\n"
     ]
    }
   ],
   "source": [
    "# 5.9 No Users\n",
    "def hello_admin(usernames):\n",
    "    if len(usernames) == 0:\n",
    "        print('We need to find some users!')\n",
    "    for username in usernames:\n",
    "        if(username == 'admin'):\n",
    "            print(f'Hello {username}, would you like to see a status report?')\n",
    "        else:\n",
    "            print(f'Hello {username}, thank you for logging in again.')\n",
    "\n",
    "users = []\n",
    "hello_admin(users)"
   ]
  },
  {
   "cell_type": "code",
   "execution_count": 45,
   "id": "017df330-3d6a-4b4e-8a2a-3400a90d609a",
   "metadata": {
    "tags": []
   },
   "outputs": [
    {
     "name": "stdout",
     "output_type": "stream",
     "text": [
      "You need to find a new username! Flakes\n",
      "The username jigs10 is available.\n",
      "You need to find a new username! Shy199\n",
      "The username hellohello is available.\n",
      "The username ayo090 is available.\n",
      "\n",
      "==== Case sensitive test ====\n",
      "The username flakes is available.\n",
      "The username hunter14 is available.\n",
      "The username shy199 is available.\n",
      "The username joker is available.\n",
      "The username saiko is available.\n"
     ]
    }
   ],
   "source": [
    "# 5.10 Checking usernames\n",
    "def check_users_availability(current_users, new_users):\n",
    "    for new_user in new_users:\n",
    "        if new_user in current_users:\n",
    "            print(f'You need to find a new username! {new_user}')\n",
    "        else:\n",
    "            print(f'The username {new_user} is available.')\n",
    "\n",
    "current_users =  ['Flakes', 'hunTer14', 'Shy199', 'JOKER', 'saikO']\n",
    "new_users =  ['Flakes', 'jigs10', 'Shy199', 'hellohello', 'ayo090']\n",
    "check_users_availability(current_users, new_users)\n",
    "\n",
    "print()\n",
    "print('==== Case sensitive test ====')\n",
    "\n",
    "current_users_lower =  []\n",
    "for user in current_users:\n",
    "    current_users_lower.append(user.lower())\n",
    "\n",
    "check_users_availability(current_users, current_users_lower)"
   ]
  },
  {
   "cell_type": "code",
   "execution_count": 50,
   "id": "87c659a3-20ad-44ee-8af4-72d939392332",
   "metadata": {
    "tags": []
   },
   "outputs": [
    {
     "name": "stdout",
     "output_type": "stream",
     "text": [
      "1st\n",
      "2nd\n",
      "3th\n",
      "4th\n",
      "5th\n",
      "6th\n",
      "7th\n",
      "8th\n",
      "9th\n"
     ]
    }
   ],
   "source": [
    "# 5.11 Ordinal Number Test\n",
    "nums = [x for x in range(1,10)]\n",
    "for num in nums:\n",
    "    print(num, end='')\n",
    "    if num == 1:\n",
    "        print('st', end='')\n",
    "    elif num == 2:\n",
    "        print('nd', end='')\n",
    "    else:\n",
    "        print('th', end='')    \n",
    "    print()"
   ]
  }
 ],
 "metadata": {
  "kernelspec": {
   "display_name": "Python 3 (ipykernel)",
   "language": "python",
   "name": "python3"
  },
  "language_info": {
   "codemirror_mode": {
    "name": "ipython",
    "version": 3
   },
   "file_extension": ".py",
   "mimetype": "text/x-python",
   "name": "python",
   "nbconvert_exporter": "python",
   "pygments_lexer": "ipython3",
   "version": "3.11.4"
  }
 },
 "nbformat": 4,
 "nbformat_minor": 5
}
